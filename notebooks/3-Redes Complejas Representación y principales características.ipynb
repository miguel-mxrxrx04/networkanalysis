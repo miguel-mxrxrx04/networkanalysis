{
 "cells": [
  {
   "cell_type": "code",
   "metadata": {
    "id": "CIN73hoAFqbh",
    "ExecuteTime": {
     "end_time": "2025-03-23T15:30:58.369012Z",
     "start_time": "2025-03-23T15:30:37.727706Z"
    }
   },
   "source": [
    "!pip install scipy\n",
    "!pip install networkx"
   ],
   "outputs": [
    {
     "name": "stdout",
     "output_type": "stream",
     "text": [
      "Collecting scipy\n",
      "  Downloading scipy-1.15.2-cp312-cp312-win_amd64.whl.metadata (60 kB)\n",
      "Requirement already satisfied: numpy<2.5,>=1.23.5 in c:\\users\\iocol\\desktop\\estudiar_sc\\.venv\\lib\\site-packages (from scipy) (2.2.4)\n",
      "Downloading scipy-1.15.2-cp312-cp312-win_amd64.whl (40.9 MB)\n",
      "   ---------------------------------------- 0.0/40.9 MB ? eta -:--:--\n",
      "   -- ------------------------------------- 2.6/40.9 MB 12.6 MB/s eta 0:00:04\n",
      "   ----- ---------------------------------- 5.5/40.9 MB 13.4 MB/s eta 0:00:03\n",
      "   --------- ------------------------------ 9.7/40.9 MB 15.5 MB/s eta 0:00:03\n",
      "   ------------- -------------------------- 13.9/40.9 MB 16.5 MB/s eta 0:00:02\n",
      "   ----------------- ---------------------- 17.6/40.9 MB 17.0 MB/s eta 0:00:02\n",
      "   --------------------- ------------------ 21.5/40.9 MB 17.4 MB/s eta 0:00:02\n",
      "   ------------------------ --------------- 25.4/40.9 MB 17.5 MB/s eta 0:00:01\n",
      "   ---------------------------- ----------- 29.4/40.9 MB 17.7 MB/s eta 0:00:01\n",
      "   -------------------------------- ------- 33.6/40.9 MB 18.1 MB/s eta 0:00:01\n",
      "   ------------------------------------ --- 37.7/40.9 MB 18.2 MB/s eta 0:00:01\n",
      "   ---------------------------------------  40.9/40.9 MB 18.2 MB/s eta 0:00:01\n",
      "   ---------------------------------------- 40.9/40.9 MB 17.8 MB/s eta 0:00:00\n",
      "Installing collected packages: scipy\n",
      "Successfully installed scipy-1.15.2\n",
      "Requirement already satisfied: networkx in c:\\users\\iocol\\desktop\\estudiar_sc\\.venv\\lib\\site-packages (3.4.2)\n"
     ]
    }
   ],
   "execution_count": 1
  },
  {
   "cell_type": "markdown",
   "metadata": {
    "datalore": {
     "hide_input_from_viewers": false,
     "hide_output_from_viewers": false,
     "node_id": "ppv1rTJDOoaKlzK3Y20hMP",
     "report_properties": {},
     "type": "MD"
    },
    "id": "vqUbB-2iEsev"
   },
   "source": [
    "# Redes complejas: Representación y principales características\n",
    "\n",
    "![Martin Grandjean, CC BY-SA 3.0 <https://creativecommons.org/licenses/by-sa/3.0>, via Wikimedia Commons](https://upload.wikimedia.org/wikipedia/commons/thumb/9/9b/Social_Network_Analysis_Visualization.png/640px-Social_Network_Analysis_Visualization.png)\n",
    "\n",
    "*Computación Social y Personalización*\n",
    "\n",
    "*Grado en Ciencia de Datos e Inteligencia Artificial*\n",
    "\n",
    "**Sergio D'Antonio Maceiras**\n",
    "\n",
    "[![License: CC BY-NC-SA 4.0](https://img.shields.io/badge/License-CC%20BY--NC--SA%204.0-lightgrey.svg)](https://creativecommons.org/licenses/by-nc-sa/4.0/)"
   ]
  },
  {
   "cell_type": "markdown",
   "metadata": {
    "datalore": {
     "hide_input_from_viewers": false,
     "hide_output_from_viewers": false,
     "node_id": "4rOcHbeWKnISBIbR8ipWvz",
     "report_properties": {},
     "type": "MD"
    },
    "id": "Va10ZjfAEsey"
   },
   "source": [
    "Dependencias necesarias para ejecutar esta libreta:\n",
    "\n",
    "- `networkx @ 2.7.1`\n",
    "- `seaborn @ 0.11.2`\n",
    "- `matplotlib @ 3.5.1`"
   ]
  },
  {
   "cell_type": "markdown",
   "metadata": {
    "datalore": {
     "hide_input_from_viewers": false,
     "hide_output_from_viewers": false,
     "node_id": "1AI4RWO4ARrLeQjBaDIPZ3",
     "report_properties": {},
     "type": "MD"
    },
    "id": "tQH0h0VtEsez"
   },
   "source": [
    "# Representación de redes\n",
    "\n",
    "Todo el análisis y modelado de redes se basa en especificar primero lo que podemos representar y cómo lo representamos matemática o computacionalmente. Si hablamos de redes (grafos), nos basaremos principalmente en tres representaciones distintas:\n",
    "\n",
    "- Matriz de adyacencia\n",
    "- Lista de adyacencia\n",
    "- Conjunto de aristas"
   ]
  },
  {
   "cell_type": "markdown",
   "metadata": {
    "datalore": {
     "hide_input_from_viewers": false,
     "hide_output_from_viewers": false,
     "node_id": "KmN5zLx0OUfuuHI5TveIYr",
     "report_properties": {},
     "type": "MD"
    },
    "id": "_Aj2Zq4HEse0"
   },
   "source": [
    "## Matriz de adyacencia\n",
    "\n",
    "Una matriz de adyacencia $A$ es una matriz $n\\times n$ que se define como:\n",
    "\n",
    "$$\n",
    "A_{ij} = \\left\\{\\begin{array}{cl}\n",
    "w_{ij} & \\textrm{si los nodos } i\\ \\textrm{y } j\\ \\textrm{están conectados} \\\\ 0 & \\textrm{en otro caso}\n",
    "\\end{array}\\right.\n",
    "$$\n",
    "\n",
    "donde $n=|V|$ es el número de nodos, y $w_{ij} \\in \\mathbb{R}$ es el *peso* de la conexión entre los nodos $i$ y $j$. Si estamos representando una **red no ponderada** entonces las aristas tendrán el peso unitario $w_{ij}=1$.\n",
    "\n",
    "Por ejemplo, la matriz de adyacencia para la siguiente red no dirigida\n",
    "\n",
    "![Grafo no dirigido](https://upload.wikimedia.org/wikipedia/commons/thumb/5/5b/6n-graf.svg/333px-6n-graf.svg.png)\n",
    "\n",
    "sería\n",
    "\n",
    "$$\n",
    "A = \\begin{bmatrix}\n",
    " 0 & 1 & 0 & 0 & 1 & 0 \\\\\n",
    " 1 & 0 & 1 & 0 & 1 & 0 \\\\\n",
    " 0 & 1 & 0 & 1 & 0 & 0 \\\\\n",
    " 0 & 0 & 1 & 0 & 1 & 1 \\\\\n",
    " 1 & 1 & 0 & 1 & 0 & 0 \\\\\n",
    " 0 & 0 & 0 & 1 & 0 & 0 \\\\\n",
    "\\end{bmatrix}\n",
    "$$\n",
    "\n",
    "Obviamente, al ser una red **no dirigida** la matriz $A$ es simétrica. Además, al no existir aristas autoreferenciales la diagonal es cero $A_{ii}=0, i\\in V$.\n",
    "\n",
    "A veces, las **matrices de adyacencia** se utilizan en los algoritmos de redes, porque una operación en la matriz $A$ es más eficiente (lleva menos tiempo) que la misma operación en otra representación. Por ejemplo, determinar si existe alguna arista, $(i, j) \\in E$, es más rápido si usamos una **matriz de adyacencia** porque sólo requiere una búsqueda con complejidad de tiempo constante $O(1)$. Sin embargo, $A$ requiere una cantidad cuadrática $\\Theta(n^2)$ de memoria para su almacenamiento, ya que almacena explícitamente un valor para cada par de nodos $i, j \\in V$.\n",
    "\n",
    "Por norma general, las redes complejas del mundo real suelen ser **dispersas**, es decir, la mayoría de los elementos de su matriz de adyacencia son $0$, lo que supone un gasto innecesario de memoria con este tipo de representación.\n",
    "\n",
    "Vamos a crear un par de redes aleatorias con la librería [NetworkX](https://networkx.org/) para acceder a la representación en forma de **matriz de adyacencia**:"
   ]
  },
  {
   "cell_type": "code",
   "metadata": {
    "datalore": {
     "hide_input_from_viewers": false,
     "hide_output_from_viewers": false,
     "node_id": "vwzGz1WvlOGM8YuoIN2Jg5",
     "report_properties": {},
     "type": "CODE"
    },
    "id": "_tJFuNr3Ese1",
    "executionInfo": {
     "status": "ok",
     "timestamp": 1740129597324,
     "user_tz": -60,
     "elapsed": 1153,
     "user": {
      "displayName": "Sergio D'Antonio Maceiras",
      "userId": "13475738069996452389"
     }
    },
    "ExecuteTime": {
     "end_time": "2025-03-23T15:33:19.093894Z",
     "start_time": "2025-03-23T15:33:18.480841Z"
    }
   },
   "source": [
    "import scipy\n",
    "import scipy.sparse\n",
    "import networkx as nx\n",
    "\n",
    "no_dirigida = nx.erdos_renyi_graph(10, 0.4, seed=1337, directed=False)\n",
    "dirigida = nx.erdos_renyi_graph(10, 0.4, seed=42, directed=True)"
   ],
   "outputs": [],
   "execution_count": 1
  },
  {
   "cell_type": "markdown",
   "metadata": {
    "datalore": {
     "hide_input_from_viewers": false,
     "hide_output_from_viewers": false,
     "node_id": "aUdVOdw1wGKQt1CKExFWCh",
     "report_properties": {},
     "type": "MD"
    },
    "id": "nYYGGZVcEse2"
   },
   "source": [
    "En el caso de la red no dirigida:"
   ]
  },
  {
   "cell_type": "code",
   "metadata": {
    "colab": {
     "base_uri": "https://localhost:8080/",
     "height": 576
    },
    "datalore": {
     "hide_input_from_viewers": false,
     "hide_output_from_viewers": false,
     "node_id": "HGaWdUnYT4X4rodUGDkaPF",
     "report_properties": {},
     "type": "CODE"
    },
    "executionInfo": {
     "elapsed": 1415,
     "status": "ok",
     "timestamp": 1707917351977,
     "user": {
      "displayName": "Sergio D'Antonio Maceiras",
      "userId": "13475738069996452389"
     },
     "user_tz": -60
    },
    "id": "ZVKbtZ3IEse2",
    "outputId": "cf4728e0-82ab-418b-b4b8-580720214413",
    "ExecuteTime": {
     "end_time": "2025-03-23T15:33:42.847375Z",
     "start_time": "2025-03-23T15:33:42.240507Z"
    }
   },
   "source": [
    "nx.draw_networkx(no_dirigida)\n",
    "print(nx.adjacency_matrix(no_dirigida).todense())"
   ],
   "outputs": [
    {
     "name": "stdout",
     "output_type": "stream",
     "text": [
      "[[0 0 0 1 0 1 0 1 0 0]\n",
      " [0 0 1 0 1 0 0 1 0 1]\n",
      " [0 1 0 1 0 1 0 0 0 0]\n",
      " [1 0 1 0 0 0 0 0 0 1]\n",
      " [0 1 0 0 0 0 0 0 1 1]\n",
      " [1 0 1 0 0 0 1 0 0 0]\n",
      " [0 0 0 0 0 1 0 1 0 0]\n",
      " [1 1 0 0 0 0 1 0 0 0]\n",
      " [0 0 0 0 1 0 0 0 0 0]\n",
      " [0 1 0 1 1 0 0 0 0 0]]\n"
     ]
    },
    {
     "data": {
      "text/plain": [
       "<Figure size 640x480 with 1 Axes>"
      ],
      "image/png": "[encoded data removed]"
     },
     "metadata": {},
     "output_type": "display_data"
    }
   ],
   "execution_count": 2
  },
  {
   "cell_type": "markdown",
   "metadata": {
    "datalore": {
     "hide_input_from_viewers": false,
     "hide_output_from_viewers": false,
     "node_id": "Z2vkYc4bgmqdUoU1ThYE7A",
     "report_properties": {},
     "type": "MD"
    },
    "id": "53Fv0V-JEse2"
   },
   "source": [
    "Y para la red dirigida:"
   ]
  },
  {
   "cell_type": "code",
   "execution_count": null,
   "metadata": {
    "colab": {
     "base_uri": "https://localhost:8080/",
     "height": 576
    },
    "datalore": {
     "hide_input_from_viewers": false,
     "hide_output_from_viewers": false,
     "node_id": "zm6Ype5MuQb3XLscLf642T",
     "report_properties": {},
     "type": "CODE"
    },
    "executionInfo": {
     "elapsed": 1151,
     "status": "ok",
     "timestamp": 1707917358967,
     "user": {
      "displayName": "Sergio D'Antonio Maceiras",
      "userId": "13475738069996452389"
     },
     "user_tz": -60
    },
    "id": "nYlwRKzfEse3",
    "outputId": "b1e4c225-a31e-45d4-8a23-68471a0a34f1"
   },
   "outputs": [
    {
     "name": "stdout",
     "output_type": "stream",
     "text": [
      "[[0 0 1 1 1 0 0 0 1 0]\n",
      " [1 0 1 0 1 1 0 0 1 0]\n",
      " [0 1 0 0 0 1 1 0 1 1]\n",
      " [1 0 0 0 0 0 0 0 1 0]\n",
      " [0 0 0 0 0 0 1 1 1 1]\n",
      " [1 1 1 0 1 0 1 1 1 0]\n",
      " [0 0 1 0 1 1 0 0 0 0]\n",
      " [0 0 0 1 1 1 1 0 1 0]\n",
      " [0 1 0 1 0 0 1 1 0 0]\n",
      " [1 0 0 1 1 0 0 1 1 0]]\n"
     ]
    },
    {
     "data": {
      "image/png": "[encoded data removed]",
      "text/plain": [
       "<Figure size 640x480 with 1 Axes>"
      ]
     },
     "metadata": {},
     "output_type": "display_data"
    }
   ],
   "source": [
    "nx.draw_networkx(dirigida)\n",
    "print(nx.adjacency_matrix(dirigida).todense())"
   ]
  },
  {
   "cell_type": "markdown",
   "metadata": {
    "datalore": {
     "hide_input_from_viewers": false,
     "hide_output_from_viewers": false,
     "node_id": "6f8eMxlGBsG4ainZwFzGJV",
     "report_properties": {},
     "type": "MD"
    },
    "id": "nbjGHZHjEse5"
   },
   "source": [
    "## Lista de adyacencia\n",
    "\n",
    "Una optimización con respecto al consumo de memoria de las matrices de adyacencia son las **listas de adyacencia**, puesto que solo almacenan aquellas posiciones $A_{ij}\\neq0, i,j \\in V$. Opcionalmente, las anotaciones de aristas $w_{ij}$ pueden almacenarse junto con el nombre del vecino $j$ en una tupla, por ejemplo, $(j, w_{ij})$. Por lo tanto, una lista de adyacencia es similar a una tabla *hash* de adyacencias.\n",
    "\n",
    "Para el grafo de ejemplo de la matriz de adyacencia $A$ anterior, la lista de adyacencias sería la siguiente:\n",
    "\n",
    "$$\n",
    "\\begin{align*}\n",
    "    [1] &\\rightarrow (2, 5)\\\\\n",
    "    [2] &\\rightarrow (1, 3, 5)\\\\\n",
    "    [3] &\\rightarrow (2, 4)\\\\\n",
    "    [4] &\\rightarrow (3, 5, 6)\\\\\n",
    "    [5] &\\rightarrow (1, 2, 4)\\\\\n",
    "    [6] &\\rightarrow (4)\n",
    "\\end{align*}\n",
    "$$\n",
    "\n",
    "También podemos obtener la lista de adyacencia en forma de diccionario con **NetworkX** para la red aleatoria no dirigida anterior:"
   ]
  },
  {
   "cell_type": "code",
   "execution_count": null,
   "metadata": {
    "colab": {
     "base_uri": "https://localhost:8080/"
    },
    "datalore": {
     "hide_input_from_viewers": false,
     "hide_output_from_viewers": false,
     "node_id": "trabWYsRlMp52GDnhQdp8C",
     "report_properties": {},
     "type": "CODE"
    },
    "executionInfo": {
     "elapsed": 244,
     "status": "ok",
     "timestamp": 1707917362925,
     "user": {
      "displayName": "Sergio D'Antonio Maceiras",
      "userId": "13475738069996452389"
     },
     "user_tz": -60
    },
    "id": "hBXWcIFQEse6",
    "outputId": "a7744069-65a9-420d-81f0-a361008fcc83"
   },
   "outputs": [
    {
     "data": {
      "text/plain": [
       "{0: {3: {}, 5: {}, 7: {}},\n",
       " 1: {2: {}, 4: {}, 7: {}, 9: {}},\n",
       " 2: {1: {}, 3: {}, 5: {}},\n",
       " 3: {0: {}, 2: {}, 9: {}},\n",
       " 4: {1: {}, 8: {}, 9: {}},\n",
       " 5: {0: {}, 2: {}, 6: {}},\n",
       " 6: {5: {}, 7: {}},\n",
       " 7: {0: {}, 1: {}, 6: {}},\n",
       " 8: {4: {}},\n",
       " 9: {1: {}, 3: {}, 4: {}}}"
      ]
     },
     "execution_count": 8,
     "metadata": {},
     "output_type": "execute_result"
    }
   ],
   "source": [
    "dict(no_dirigida.adjacency())"
   ]
  },
  {
   "cell_type": "markdown",
   "metadata": {
    "datalore": {
     "hide_input_from_viewers": false,
     "hide_output_from_viewers": false,
     "node_id": "Iwx4llYI95ky3W1ECaQ999",
     "report_properties": {},
     "type": "MD"
    },
    "id": "tzh016s0Ese6"
   },
   "source": [
    "Podemos observar que, al no tener pesos en la red, los vecinos no tienen ninguna información asociada `{}`."
   ]
  },
  {
   "cell_type": "markdown",
   "metadata": {
    "datalore": {
     "hide_input_from_viewers": false,
     "hide_output_from_viewers": false,
     "node_id": "NXklDGG8tR8YMKODIrqQ6H",
     "report_properties": {},
     "type": "MD"
    },
    "id": "VC4bFsbfEse7"
   },
   "source": [
    "## Lista de aristas\n",
    "\n",
    "La tercera opción de representación de redes es la **lista de aristas**. Como su propio nombre indica, almacena sólo las aristas en sí: $(i,j)$ para las aristas no ponderadas y $(i,j,w_{ij})$ para las aristas ponderadas, sin enumerar directamente los nodos. Los índices de los nodos, la presencia de nodos sin aristas, y si el grafo es dirigido, ponderado, bipartito, etc. deben inferirse del contenido de la lista de aristas.\n",
    "\n",
    "Para el ejemplo simple de la matriz de adyacencia $A$ la lista de aristas sería:\n",
    "\n",
    "$$\n",
    "A = \\left\\{(1,2), (1,5), (2,3), (2,5), (3,4), (4,5), (4,6) \\right\\}\n",
    "$$\n",
    "\n",
    "En una red simple, una arista puede aparecer sólo como $(i,j)$, lo que implica tanto que no está ponderada como que su arista recíproca $(j, i)$ también existe. En un grafo no simple, las aristas pueden ser dirigidas, por lo que ver $(i,j)$ no debería implicar que $(j,i)$ también exista. Esto presenta una ambigüedad que no puede resolverse sin un conocimiento externo sobre si la lista de aristas representa una red dirigida o no dirigida. Además, como sólo se enumeran las aristas, los nodos sin aristas no se enumeran, lo que puede causar ambigüedades adicionales. Esta ambigüedad hace que este formato de representación sea poco recomendable.\n",
    "\n",
    "Podemos acceder a la lista de aristas de una red de **NetworkX** accediendo a su propiedad `edges`:"
   ]
  },
  {
   "cell_type": "code",
   "execution_count": null,
   "metadata": {
    "colab": {
     "base_uri": "https://localhost:8080/"
    },
    "datalore": {
     "hide_input_from_viewers": false,
     "hide_output_from_viewers": false,
     "node_id": "4APkuxmueOyR0cj0AXBLfw",
     "report_properties": {},
     "type": "CODE"
    },
    "executionInfo": {
     "elapsed": 467,
     "status": "ok",
     "timestamp": 1707917369352,
     "user": {
      "displayName": "Sergio D'Antonio Maceiras",
      "userId": "13475738069996452389"
     },
     "user_tz": -60
    },
    "id": "Uvv3rwX-Ese8",
    "outputId": "e212d40f-2af7-4132-bf9b-4d2c65e051f9"
   },
   "outputs": [
    {
     "data": {
      "text/plain": [
       "EdgeView([(0, 3), (0, 5), (0, 7), (1, 2), (1, 4), (1, 7), (1, 9), (2, 3), (2, 5), (3, 9), (4, 8), (4, 9), (5, 6), (6, 7)])"
      ]
     },
     "execution_count": 9,
     "metadata": {},
     "output_type": "execute_result"
    }
   ],
   "source": [
    "no_dirigida.edges"
   ]
  },
  {
   "cell_type": "markdown",
   "metadata": {
    "datalore": {
     "hide_input_from_viewers": false,
     "hide_output_from_viewers": false,
     "node_id": "X78C5bXDRnfKzykbg1FKfy",
     "report_properties": {},
     "type": "MD"
    },
    "id": "JGIy-8GGEse8"
   },
   "source": [
    "O en el caso de la red dirigida:"
   ]
  },
  {
   "cell_type": "code",
   "execution_count": null,
   "metadata": {
    "colab": {
     "base_uri": "https://localhost:8080/"
    },
    "datalore": {
     "hide_input_from_viewers": false,
     "hide_output_from_viewers": false,
     "node_id": "VRmyRipKRkPHXTMdH6FSzE",
     "report_properties": {},
     "type": "CODE"
    },
    "executionInfo": {
     "elapsed": 240,
     "status": "ok",
     "timestamp": 1707917371825,
     "user": {
      "displayName": "Sergio D'Antonio Maceiras",
      "userId": "13475738069996452389"
     },
     "user_tz": -60
    },
    "id": "cSNJZDyDEse8",
    "outputId": "bf93bba0-7ebf-4743-add7-f127158506e7"
   },
   "outputs": [
    {
     "data": {
      "text/plain": [
       "OutEdgeView([(0, 2), (0, 3), (0, 4), (0, 8), (1, 0), (1, 2), (1, 4), (1, 5), (1, 8), (2, 1), (2, 5), (2, 6), (2, 8), (2, 9), (3, 0), (3, 8), (4, 6), (4, 7), (4, 8), (4, 9), (5, 0), (5, 1), (5, 2), (5, 4), (5, 6), (5, 7), (5, 8), (6, 2), (6, 4), (6, 5), (7, 3), (7, 4), (7, 5), (7, 6), (7, 8), (8, 1), (8, 3), (8, 6), (8, 7), (9, 0), (9, 3), (9, 4), (9, 7), (9, 8)])"
      ]
     },
     "execution_count": 10,
     "metadata": {},
     "output_type": "execute_result"
    }
   ],
   "source": [
    "dirigida.edges"
   ]
  },
  {
   "cell_type": "markdown",
   "metadata": {
    "datalore": {
     "hide_input_from_viewers": false,
     "hide_output_from_viewers": false,
     "node_id": "ugdsDTFynx7boMDuaDA9mn",
     "report_properties": {},
     "type": "MD"
    },
    "id": "v0q2R-5gEse9"
   },
   "source": [
    "# Estadísticas descriptivas de las redes\n",
    "\n",
    "El objetivo de modelar la realidad en forma de redes complejas no es otro que entender y describir los fenómenos del mundo real de forma cuantitativa y cualitativa. Dicho de otra forma, **extraer conocimiento útil** mediante el análisis de las redes complejas.\n",
    "\n",
    "Un conjunto de herramientas que nos sirve para alcanzar nuestro objetivo son las estadísticas descriptivas de una red, las cuales se pueden agrupar en:\n",
    "\n",
    "- Medidas de **conectividad** de la red, que están directa o indirectamente relacionadas con el número de conexiones que tiene un nodo, así como con la estructura global de conexiones de la red.\n",
    "- Medidas de **_motif_**, que cuentan la frecuencia de subgrafos específicos en una red; o dicho de otra forma, patrones de interconexión que se producen en las redes complejas en números significativamente superiores a los de las redes aleatorias ([fuente](https://www.science.org/doi/10.1126/science.298.5594.824)).\n",
    "- Medidas de **posición**, relacionadas con el lugar que ocupan los nodos dentro de la red, así como la distancia entre ellos.\n",
    "\n",
    "Además, en función de su ámbito podemos distinguir entre las medidas a **nivel de nodo**, o **locales**, y las medidas a **nivel de red**, o **globales**."
   ]
  },
  {
   "cell_type": "markdown",
   "metadata": {
    "datalore": {
     "hide_input_from_viewers": false,
     "hide_output_from_viewers": false,
     "node_id": "jta87dqILTYZHCVbQy7ZyG",
     "report_properties": {},
     "type": "MD"
    },
    "id": "rryr1Vm9Ese9"
   },
   "source": [
    "## Zachary's Karate Club\n",
    "\n",
    "Para aplicar las estadísticas descriptivas que vamos a ver a continuación usaremos una red social muy conocida por aquellos que se adentran en el campo del análisis de redes complejas: el [club de karate de Zachary](https://www.journals.uchicago.edu/doi/10.1086/jar.33.4.3629752). Un resumen del origen y contenido de esta red:\n",
    "\n",
    "> These are data collected from the members of a university karate club by Wayne Zachary in 1977. The ZACHE matrix represents the presence or absence of ties among the members of the club. The ZACHC matrix indicates the relative strength of the associations (number of situations in and outside the club in which interactions occurred). Here's how the Zach C matrix was constructed. A finite set of possible contexts, chosen on the basis of observation of the group, will be used as the domain of a scale variable. Then, the relationship between each pair of individuals in the network is examined against this (nominal) scale. A value, equal to the total number of contexts from the scale in which the two individuals interacted, is then assigned to the corresponding entry in C. Eight contexts are included in the domain of the scale applied to the edges in the karate club network. They are: (1) Association in and between academic classes at the university. (2) Membership in Mr. Hi's private karate studio on the east side of the city where Mr. Hi taught nights as a part-time instructor. (3) Membership in Mr. Hi's private karate studio on the east side of the city, where many of his supporters worked out on weekends. (4) Student teaching at the east-side karate studio referred to in (2). This is different from (2) in that student teachers interacted with each other, but were prohibited from interacting with their sutdents. (5) Interaction at the university rathskeller, located in the same basement as the karate club's workout area. (6) Interaction at a student-oriented bar located across the street from the university campus. (7) Attendance at open karate tournaments held through the area at private karate studios. (8) Attendance at intercollegiate karate tournaments held at local universities. Since both open and intercollegiate tournaments were held on Saturdays, attendance at both was impossible. This scale was applied to the relationships between all pairs of individuals in the karate club, using data compiled over the three years of direct observation of interactions in the club. For each existing edge in E (Figure 2), the pair of individuals involved interacted in at least one of the above eight contexts. The quantified matrix of contexts is given in Figure 3, and is the third component in the capacitated network model (V,E,C).\n",
    "\n",
    "Esta red social está incluida en la librería **NetworkX**, podemos cargarla con [`karate_club_graph()`](https://networkx.org/documentation/stable/reference/generated/networkx.generators.social.karate_club_graph.html):"
   ]
  },
  {
   "cell_type": "code",
   "metadata": {
    "colab": {
     "base_uri": "https://localhost:8080/",
     "height": 516
    },
    "datalore": {
     "hide_input_from_viewers": false,
     "hide_output_from_viewers": false,
     "node_id": "guDDUMVW6zEYq6xIxd25zf",
     "report_properties": {},
     "type": "CODE"
    },
    "executionInfo": {
     "elapsed": 366,
     "status": "ok",
     "timestamp": 1740129603137,
     "user": {
      "displayName": "Sergio D'Antonio Maceiras",
      "userId": "13475738069996452389"
     },
     "user_tz": -60
    },
    "id": "w6hPz5LDEse9",
    "outputId": "95d72399-f4d8-4931-bd3c-fb307645ff75",
    "ExecuteTime": {
     "end_time": "2025-03-23T15:39:28.311617Z",
     "start_time": "2025-03-23T15:39:28.228106Z"
    }
   },
   "source": [
    "karate = nx.karate_club_graph()\n",
    "\n",
    "nx.draw_circular(karate, with_labels=True)"
   ],
   "outputs": [
    {
     "data": {
      "text/plain": [
       "<Figure size 640x480 with 1 Axes>"
      ],
      "image/png": "[encoded data removed]"
     },
     "metadata": {},
     "output_type": "display_data"
    }
   ],
   "execution_count": 3
  },
  {
   "cell_type": "markdown",
   "metadata": {
    "datalore": {
     "hide_input_from_viewers": false,
     "hide_output_from_viewers": false,
     "node_id": "D9xhaMzbAFCj1LkTHi0iC3",
     "report_properties": {},
     "type": "MD"
    },
    "id": "reeukvSzEse-"
   },
   "source": [
    "## Grado del nodo\n",
    "\n",
    "La más básica de las estadísticas de red es el **grado** de un nodo, que cuenta el número de conexiones que tiene en la red. La estructura de grados de una red a menudo es suficiente para detectar muchos otros patrones estadísticos en la estructura de la red.\n",
    "\n",
    "En una red no dirigida, una arista $(i, j)$ contribuye al grado de ambos nodos. Por lo tanto, si su matriz de adyacencia es $A$, el grado $k_i$ de un nodo $i$ se define como:\n",
    "\n",
    "$$\n",
    "k_i = \\sum_{j=1}^n A_{ij} = \\sum_{j=1}^n A_{ji}\n",
    "$$\n",
    "\n",
    "Como una misma arista contribuye a dos nodos, la suma de todos los grados de la red será el doble del número de aristas $m$. Podemos derivar la siguiente expresión para el **grado medio de la red $\\left< k\\right>$**:\n",
    "\n",
    "$$\n",
    "\\left< k\\right> = \\frac{1}{n} \\sum_{i=1}^n k_i = \\frac{2m}{n}\n",
    "$$\n",
    "\n",
    "Podemos dividir el número de aristas $m$ entre el total de aristas posibles que puede haber en un grafo $\\binom{n}{2}$ para obtener la **densidad** $\\rho$ de la red:\n",
    "\n",
    "$$\n",
    "\\rho = \\frac{m}{\\binom{n}{2}} = \\frac{2m}{n(n-1)} = \\frac{\\left< k\\right>}{n-1} \\simeq \\frac{\\left< k\\right>}{n}\n",
    "$$\n",
    "\n",
    "En el caso de que la red sea **dirigida** es necesario distinguir grado de entrada (*in-degree*) y grado de salida (*out-degree*), en función de las aristas que entran y salen de cada nodo. Suponiendo que la red está definida por la matriz de adyacencia $A$, se define:\n",
    "\n",
    "$$\n",
    "\\begin{aligned}\n",
    "    k_i^{\\textrm{out}} &= \\sum_{j=1}^n A_{ij}\\\\\n",
    "    k_i^{\\textrm{in}} &= \\sum_{j=1}^n A_{ji}\n",
    "\\end{aligned}\n",
    "$$\n",
    "\n",
    "Con respecto al grado promedio también distinguiremos si es de entrada o de salida. Ya que toda arista de salida es una arista de entrada para otro nodo, los grados medios de entrada y salida de una red coinciden:\n",
    "\n",
    "$$\n",
    "\\left<k^\\textrm{out}\\right> = \\frac{1}{n} \\sum_{i=1}^n k_i^\\textrm{out}\n",
    "$$\n",
    "\n",
    "Vamos a calcular el grado de cada nodo y el grado medio de la red del club de karate:"
   ]
  },
  {
   "cell_type": "code",
   "metadata": {
    "colab": {
     "base_uri": "https://localhost:8080/"
    },
    "datalore": {
     "hide_input_from_viewers": false,
     "hide_output_from_viewers": false,
     "node_id": "6kyi8YRngaLxJzYdhjAPES",
     "report_properties": {},
     "type": "CODE"
    },
    "executionInfo": {
     "elapsed": 246,
     "status": "ok",
     "timestamp": 1707917422862,
     "user": {
      "displayName": "Sergio D'Antonio Maceiras",
      "userId": "13475738069996452389"
     },
     "user_tz": -60
    },
    "id": "5FKqmrYzEse-",
    "outputId": "96b9bf6c-88ea-4130-d6f4-3803b5258491",
    "ExecuteTime": {
     "end_time": "2025-03-23T15:42:18.690959Z",
     "start_time": "2025-03-23T15:42:18.669587Z"
    }
   },
   "source": [
    "print(\"Grado de cada nodo de la red:\")\n",
    "for v in karate:\n",
    "    print(f\"{v:4} {karate.degree(v):6}\")\n",
    "\n",
    "print(\"\\n\\n\")\n",
    "print(f\"Grado medio de la red: {2*karate.number_of_edges() / float(karate.number_of_nodes()):.4f}\")"
   ],
   "outputs": [
    {
     "name": "stdout",
     "output_type": "stream",
     "text": [
      "Grado de cada nodo de la red:\n",
      "   0     16\n",
      "   1      9\n",
      "   2     10\n",
      "   3      6\n",
      "   4      3\n",
      "   5      4\n",
      "   6      4\n",
      "   7      4\n",
      "   8      5\n",
      "   9      2\n",
      "  10      3\n",
      "  11      1\n",
      "  12      2\n",
      "  13      5\n",
      "  14      2\n",
      "  15      2\n",
      "  16      2\n",
      "  17      2\n",
      "  18      2\n",
      "  19      3\n",
      "  20      2\n",
      "  21      2\n",
      "  22      2\n",
      "  23      5\n",
      "  24      3\n",
      "  25      3\n",
      "  26      2\n",
      "  27      4\n",
      "  28      3\n",
      "  29      4\n",
      "  30      4\n",
      "  31      6\n",
      "  32     12\n",
      "  33     17\n",
      "\n",
      "\n",
      "\n",
      "Grado medio de la red: 4.5882\n"
     ]
    }
   ],
   "execution_count": 4
  },
  {
   "cell_type": "markdown",
   "metadata": {
    "datalore": {
     "hide_input_from_viewers": false,
     "hide_output_from_viewers": false,
     "node_id": "EYOBymZtYBZn1GnBy9V1E6",
     "report_properties": {},
     "type": "MD"
    },
    "id": "C2PzhR_mEse-"
   },
   "source": [
    "## Distribución de grados\n",
    "\n",
    "Una vez que sabemos calcular el grado de cada nodo de la red podemos realizar un análisis a nivel global (para toda la red) del comportamiento de esta métrica. Esto se conoce como la **distribución de grados** $Pr(k)$ que se corresponde con la probabilidad de que un nodo seleccionado de manera aleatoria tendrá $k$ vecinos, o dicho de otro modo, tendrá un grado $k$.\n",
    "\n",
    "Podemos visualizar esta distribución con un gráfico de barras que represente el grado $k$ en el eje X y el número de nodos con grado $k$ en el eje Y:"
   ]
  },
  {
   "cell_type": "code",
   "metadata": {
    "colab": {
     "base_uri": "https://localhost:8080/",
     "height": 451
    },
    "datalore": {
     "hide_input_from_viewers": false,
     "hide_output_from_viewers": false,
     "node_id": "13uBEL6NxhHEJZ58pCEsjk",
     "report_properties": {},
     "type": "CODE"
    },
    "executionInfo": {
     "elapsed": 1351,
     "status": "ok",
     "timestamp": 1707917437700,
     "user": {
      "displayName": "Sergio D'Antonio Maceiras",
      "userId": "13475738069996452389"
     },
     "user_tz": -60
    },
    "id": "bYtvmFWyEse-",
    "outputId": "9e7cb905-94f6-4f39-8c44-57264af9193b",
    "ExecuteTime": {
     "end_time": "2025-03-23T15:43:31.183263Z",
     "start_time": "2025-03-23T15:43:29.287164Z"
    }
   },
   "source": [
    "import seaborn as sns\n",
    "import matplotlib.pyplot as plt\n",
    "sns.set_theme(style=\"whitegrid\")\n",
    "\n",
    "grados = [d for n, d in karate.degree()]\n",
    "sns.countplot(x=grados)"
   ],
   "outputs": [
    {
     "data": {
      "text/plain": [
       "<Axes: ylabel='count'>"
      ]
     },
     "execution_count": 7,
     "metadata": {},
     "output_type": "execute_result"
    },
    {
     "data": {
      "text/plain": [
       "<Figure size 640x480 with 1 Axes>"
      ],
      "image/png": "[encoded data removed]"
     },
     "metadata": {},
     "output_type": "display_data"
    }
   ],
   "execution_count": 7
  },
  {
   "cell_type": "markdown",
   "metadata": {
    "datalore": {
     "hide_input_from_viewers": false,
     "hide_output_from_viewers": false,
     "node_id": "6KF2J5WfqGUi3MWZSG3bx5",
     "report_properties": {},
     "type": "MD"
    },
    "id": "Us30jqbCEse_"
   },
   "source": [
    "Podemos observar que la distribución de grados del club de karate está sesgada a la izquierda. En lugar de representar la distribución como una gráfica de barras se suele utilizar una gráfica de puntos empleando escala logarítmica en ambos ejes para comprimir visualmente la varianza de ambas variables:"
   ]
  },
  {
   "cell_type": "code",
   "execution_count": null,
   "metadata": {
    "colab": {
     "base_uri": "https://localhost:8080/",
     "height": 624
    },
    "datalore": {
     "hide_input_from_viewers": false,
     "hide_output_from_viewers": false,
     "node_id": "YbTAoNLTeBfu34nZcKDVPT",
     "report_properties": {},
     "type": "CODE"
    },
    "executionInfo": {
     "elapsed": 1167,
     "status": "ok",
     "timestamp": 1707917446938,
     "user": {
      "displayName": "Sergio D'Antonio Maceiras",
      "userId": "13475738069996452389"
     },
     "user_tz": -60
    },
    "id": "tem9KlXBEse_",
    "outputId": "a5c1a8f0-86cd-4795-cfa9-2d09b76c7c9d"
   },
   "outputs": [
    {
     "data": {
      "text/plain": [
       "<Axes: >"
      ]
     },
     "execution_count": 14,
     "metadata": {},
     "output_type": "execute_result"
    },
    {
     "data": {
      "image/png": "[encoded data removed]",
      "text/plain": [
       "<Figure size 700x700 with 1 Axes>"
      ]
     },
     "metadata": {},
     "output_type": "display_data"
    }
   ],
   "source": [
    "grados_ord = sorted(set(grados))\n",
    "conteo = [grados.count(g) for g in grados_ord]\n",
    "\n",
    "f, ax = plt.subplots(figsize=(7, 7))\n",
    "ax.set(xscale=\"log\", yscale=\"log\")\n",
    "sns.scatterplot(x=grados_ord, y=conteo, ax=ax)"
   ]
  },
  {
   "cell_type": "markdown",
   "metadata": {
    "id": "bDyORxFJzBZB"
   },
   "source": [
    "## Betweenness\n"
   ]
  },
  {
   "cell_type": "markdown",
   "metadata": {
    "id": "FHTgmDVQzBZC"
   },
   "source": [
    "- Se calcula como el número de caminos mínimos que pasan por un nodo\n",
    "- Un nodo con betweenness alto indica que es importante porque hace de pegamento en la red\n",
    "\n",
    "$$\n",
    "Bt(E) = \\sum_{i \\in U, j \\in U, i \\neq j} \\frac{|\\sigma_{ij}(E)|}{|\\sigma_{ij}|}\n",
    "$$"
   ]
  },
  {
   "cell_type": "code",
   "execution_count": 8,
   "metadata": {
    "colab": {
     "base_uri": "https://localhost:8080/"
    },
    "id": "_ODToY9szBZC",
    "executionInfo": {
     "status": "ok",
     "timestamp": 1740129729899,
     "user_tz": -60,
     "elapsed": 46,
     "user": {
      "displayName": "Sergio D'Antonio Maceiras",
      "userId": "13475738069996452389"
     }
    },
    "outputId": "b01f99f8-466f-4737-dd9a-197bd991953b"
   },
   "outputs": [
    {
     "output_type": "stream",
     "name": "stdout",
     "text": [
      "Betweeness centrality:\n",
      "   0 0.4376\n",
      "   1 0.0539\n",
      "   2 0.1437\n",
      "   3 0.0119\n",
      "   4 0.0006\n",
      "   5 0.0300\n",
      "   6 0.0300\n",
      "   7 0.0000\n",
      "   8 0.0559\n",
      "   9 0.0008\n",
      "  10 0.0006\n",
      "  11 0.0000\n",
      "  12 0.0000\n",
      "  13 0.0459\n",
      "  14 0.0000\n",
      "  15 0.0000\n",
      "  16 0.0000\n",
      "  17 0.0000\n",
      "  18 0.0000\n",
      "  19 0.0325\n",
      "  20 0.0000\n",
      "  21 0.0000\n",
      "  22 0.0000\n",
      "  23 0.0176\n",
      "  24 0.0022\n",
      "  25 0.0038\n",
      "  26 0.0000\n",
      "  27 0.0223\n",
      "  28 0.0018\n",
      "  29 0.0029\n",
      "  30 0.0144\n",
      "  31 0.1383\n",
      "  32 0.1452\n",
      "  33 0.3041\n"
     ]
    }
   ],
   "source": [
    "betweness = nx.betweenness_centrality(karate)\n",
    "\n",
    "print(\"Betweeness centrality:\")\n",
    "for v in karate:\n",
    "    print(f\"{v:4} {betweness[v]:.4f}\")\n"
   ]
  },
  {
   "cell_type": "markdown",
   "metadata": {
    "datalore": {
     "hide_input_from_viewers": false,
     "hide_output_from_viewers": false,
     "node_id": "HzdiJGySFgjrZBH0WBM5uB",
     "report_properties": {},
     "type": "MD"
    },
    "id": "MsmeA7NsEse_"
   },
   "source": [
    "## Motifs\n",
    "\n",
    "Como se ha definido previamente, un **motif** es un subgrafo con unas determinades propiedades que se repite en forma de patrón a lo largo de una red. Normalmente querremos contar cuántos **motifs** de un tipo concreto podemos encontrar en una red, para razonar sobre ella. Cabe esperar que, dependiendo del número de nodos que implique el **motif** a contar, el proceso será muy costoso computacionalmente. A continuación vamos a analizar algunos **pequeños motifs** interesantes que se traducen en propiedades interesantes de las redes.\n",
    "\n",
    "### Coeficiente de clustering\n",
    "\n",
    "En una red no dirigida, el **motif** más pequeño es un triángulo. El **coeficiente de clustering global** (también conocido como **transitividad**) se basa en tripletes de nodos. Un triplete son tres nodos que están conectados por dos (triplete abierto) o tres (triplete cerrado) aristas no dirigidas. Por lo tanto, un triángulo incluye tres tripletes cerrados, uno centrado en cada uno de los nodos. El **coeficiente de clustering global** es el número de tripletes cerrados dividido por el número total de tripletes (tanto abiertos como cerrados):\n",
    "\n",
    "$$\n",
    "C = \\frac{3\\times\\textrm{número de triángulos}}{\\textrm{número total de tripletes}} = \\frac{\\sum_{i=1}^n \\sum_{j=1}^n \\sum_{k=1}^n A_{ij}A_{jk}A_{ki}}{\\sum_{i=1}^n \\sum_{j=1}^n \\sum_{k\\neq i}^n A_{ij}A_{jk}}\n",
    "$$\n",
    "\n",
    "Esta métrica tiene una variante a nivel de nodo: el **coeficiente de clustering local** de un nodo cuantifica lo cerca que están sus vecinos de ser una pandilla (*clique*). Viene dado por una proporción del número de enlaces entre los nodos de su vecindad dividido por el número de enlaces que podrían existir entre ellos:\n",
    "\n",
    "$$\n",
    "C_i = \\frac{\\textrm{número de pares de vecinos de }i\\textrm{ que están conectados}}{\\textrm{número total de posibles pares vecinos de }i} = \\frac{\\sum_{j<k}A_{ij}A_{jk}A_{ki}}{\\binom{k_i}{2}}\n",
    "$$\n",
    "\n",
    "Calculamos el coeficiente de clustering local de los nodos de la red social del club de karate:"
   ]
  },
  {
   "cell_type": "code",
   "execution_count": null,
   "metadata": {
    "colab": {
     "base_uri": "https://localhost:8080/"
    },
    "datalore": {
     "hide_input_from_viewers": false,
     "hide_output_from_viewers": false,
     "node_id": "s5JuxWqh6qYYy67tv8KBLj",
     "report_properties": {},
     "type": "CODE"
    },
    "executionInfo": {
     "elapsed": 257,
     "status": "ok",
     "timestamp": 1707917450840,
     "user": {
      "displayName": "Sergio D'Antonio Maceiras",
      "userId": "13475738069996452389"
     },
     "user_tz": -60
    },
    "id": "eeT6ShQ3EsfA",
    "outputId": "109170a0-21cb-4012-ef2f-24ed633bbe12"
   },
   "outputs": [
    {
     "data": {
      "text/plain": [
       "{0: 0.15,\n",
       " 1: 0.3333333333333333,\n",
       " 2: 0.24444444444444444,\n",
       " 3: 0.6666666666666666,\n",
       " 4: 0.6666666666666666,\n",
       " 5: 0.5,\n",
       " 6: 0.5,\n",
       " 7: 1.0,\n",
       " 8: 0.5,\n",
       " 9: 0,\n",
       " 10: 0.6666666666666666,\n",
       " 11: 0,\n",
       " 12: 1.0,\n",
       " 13: 0.6,\n",
       " 14: 1.0,\n",
       " 15: 1.0,\n",
       " 16: 1.0,\n",
       " 17: 1.0,\n",
       " 18: 1.0,\n",
       " 19: 0.3333333333333333,\n",
       " 20: 1.0,\n",
       " 21: 1.0,\n",
       " 22: 1.0,\n",
       " 23: 0.4,\n",
       " 24: 0.3333333333333333,\n",
       " 25: 0.3333333333333333,\n",
       " 26: 1.0,\n",
       " 27: 0.16666666666666666,\n",
       " 28: 0.3333333333333333,\n",
       " 29: 0.6666666666666666,\n",
       " 30: 0.5,\n",
       " 31: 0.2,\n",
       " 32: 0.19696969696969696,\n",
       " 33: 0.11029411764705882}"
      ]
     },
     "execution_count": 15,
     "metadata": {},
     "output_type": "execute_result"
    }
   ],
   "source": [
    "nx.clustering(karate)"
   ]
  },
  {
   "cell_type": "markdown",
   "metadata": {
    "datalore": {
     "hide_input_from_viewers": false,
     "hide_output_from_viewers": false,
     "node_id": "LIDth26WKpnq6HAwmypEIj",
     "report_properties": {},
     "type": "MD"
    },
    "id": "GXW53VaKEsfA"
   },
   "source": [
    "Y su **transitividad** o **coeficiente de clustering global**:"
   ]
  },
  {
   "cell_type": "code",
   "execution_count": null,
   "metadata": {
    "colab": {
     "base_uri": "https://localhost:8080/"
    },
    "datalore": {
     "hide_input_from_viewers": false,
     "hide_output_from_viewers": false,
     "node_id": "SgsTisk5OliJFrSxgILini",
     "report_properties": {},
     "type": "CODE"
    },
    "executionInfo": {
     "elapsed": 251,
     "status": "ok",
     "timestamp": 1707917454350,
     "user": {
      "displayName": "Sergio D'Antonio Maceiras",
      "userId": "13475738069996452389"
     },
     "user_tz": -60
    },
    "id": "R4b1ooRREsfA",
    "outputId": "a88ac603-acf7-4759-9245-b9549e950d05"
   },
   "outputs": [
    {
     "data": {
      "text/plain": [
       "0.2556818181818182"
      ]
     },
     "execution_count": 16,
     "metadata": {},
     "output_type": "execute_result"
    }
   ],
   "source": [
    "nx.transitivity(karate)"
   ]
  },
  {
   "cell_type": "markdown",
   "metadata": {
    "datalore": {
     "hide_input_from_viewers": false,
     "hide_output_from_viewers": false,
     "node_id": "xgaU1EINdxoCSLeSaxKS1o",
     "report_properties": {},
     "type": "MD"
    },
    "id": "EyKgk7e9EsfA"
   },
   "source": [
    "### Reciprocidad\n",
    "\n",
    "En el caso de las **redes dirigidas** existe un **motif** simple interesante que consiste en un ciclo de tamaño 2, es decir, dos nodos $i, j$ relacionados por dos aristas $(i, j), (j, i)$. La **reciprocidad de una red** $r$ viene dada por la fracción de aristas que son recíprocas. Para calcular $r$, simplemente contamos el número de ciclos de tamaño 2 y lo dividimos por el número total de aristas:\n",
    "\n",
    "$$\n",
    "r = \\frac{1}{m} \\sum_{i,j} A_{ij}A_{ji}\n",
    "$$\n",
    "\n",
    "También podemos cuantificar la reciprocidad que experimenta un nodo individual, que es una medida a nivel de nodo llamada **reciprocidad local**. En lugar de sumar toda la red, en este caso contamos el número de ciclos de tamaño 2 unidos al nodo $i$, y lo dividimos por su grado de salida:\n",
    "\n",
    "$$\n",
    "r_i = \\frac{1}{k_i^{\\textrm{out}}}\\sum_j A_{ij}A_{ji}\n",
    "$$\n",
    "\n",
    "Esta métrica es interesante por varias razones. En primer lugar, en las redes que transportan información o material (como las redes de correo electrónico, la web o la Wikipedia) los enlaces mutuos facilitan el proceso de transporte. En segundo lugar, cuando se analizan redes dirigidas, la gente suele tratarlas como no dirigidas por simplicidad; por lo tanto, estudiar la reciprocidad ayuda a estimar el error introducido cuando se trata una red dirigida como no dirigida. Por último, la detección de patrones de reciprocidad no triviales puede revelar posibles mecanismos y principios organizativos que dan forma a la topología de la red observada."
   ]
  },
  {
   "cell_type": "markdown",
   "metadata": {
    "datalore": {
     "hide_input_from_viewers": false,
     "hide_output_from_viewers": false,
     "node_id": "EyHn2X6HU7nrGIOzDY8dYV",
     "report_properties": {},
     "type": "MD"
    },
    "id": "X4lM0yuZEsfB"
   },
   "source": [
    "## Caminos geodésicos y posición\n",
    "\n",
    "Un **camino geodésico** es el más corto de todos los caminos posibles entre dos nodos. Estos caminos sirven de base para una serie de medidas de posición de la estructura de la red. Si bien hay una gran variedad de métricas asociadas a los caminos geodésicos, todas ellas se pueden calcular a partir de la matriz de distancias $\\ell$ en la cual $\\ell_{ij}$ indica el tamaño del camino geodésico entre los nodos $i$ y $j$. En el caso de que no se pueda ir entre estos dos nodos se representa como $\\ell_{ij}=\\infty$. Calcular esta matriz es un [problema computacionalmente difícil](https://en.wikipedia.org/wiki/Shortest_path_problem#All-pairs_shortest_paths), sobre todo si tenemos **aristas ponderadas**.\n",
    "\n",
    "Podemos calcular una versión en forma de diccionario de $\\ell$ para la red del club de karate con **NetworkX**:"
   ]
  },
  {
   "cell_type": "code",
   "metadata": {
    "datalore": {
     "hide_input_from_viewers": false,
     "hide_output_from_viewers": false,
     "node_id": "vOu4QuCNGPMwX4ga4I80qD",
     "report_properties": {},
     "type": "CODE"
    },
    "id": "9Nq_IJ8mEsfB",
    "ExecuteTime": {
     "end_time": "2025-03-23T15:49:45.503348Z",
     "start_time": "2025-03-23T15:49:45.498982Z"
    }
   },
   "source": [
    "l = dict(nx.all_pairs_shortest_path_length(karate))"
   ],
   "outputs": [],
   "execution_count": 8
  },
  {
   "cell_type": "markdown",
   "metadata": {
    "datalore": {
     "hide_input_from_viewers": false,
     "hide_output_from_viewers": false,
     "node_id": "XUha6yePb9CYLJwbkkAAq2",
     "report_properties": {},
     "type": "MD"
    },
    "id": "fI3AJMNVEsfB"
   },
   "source": [
    "Ahora podemos preguntar el tamaño del camino más corto entre dos nodos:"
   ]
  },
  {
   "metadata": {
    "ExecuteTime": {
     "end_time": "2025-03-23T15:49:54.051350Z",
     "start_time": "2025-03-23T15:49:54.033274Z"
    }
   },
   "cell_type": "code",
   "source": "l",
   "outputs": [
    {
     "data": {
      "text/plain": [
       "{0: {0: 0,\n",
       "  1: 1,\n",
       "  2: 1,\n",
       "  3: 1,\n",
       "  4: 1,\n",
       "  5: 1,\n",
       "  6: 1,\n",
       "  7: 1,\n",
       "  8: 1,\n",
       "  10: 1,\n",
       "  11: 1,\n",
       "  12: 1,\n",
       "  13: 1,\n",
       "  17: 1,\n",
       "  19: 1,\n",
       "  21: 1,\n",
       "  31: 1,\n",
       "  30: 2,\n",
       "  9: 2,\n",
       "  27: 2,\n",
       "  28: 2,\n",
       "  32: 2,\n",
       "  16: 2,\n",
       "  33: 2,\n",
       "  24: 2,\n",
       "  25: 2,\n",
       "  23: 3,\n",
       "  14: 3,\n",
       "  15: 3,\n",
       "  18: 3,\n",
       "  20: 3,\n",
       "  22: 3,\n",
       "  29: 3,\n",
       "  26: 3},\n",
       " 1: {1: 0,\n",
       "  0: 1,\n",
       "  2: 1,\n",
       "  3: 1,\n",
       "  7: 1,\n",
       "  13: 1,\n",
       "  17: 1,\n",
       "  19: 1,\n",
       "  21: 1,\n",
       "  30: 1,\n",
       "  4: 2,\n",
       "  5: 2,\n",
       "  6: 2,\n",
       "  8: 2,\n",
       "  10: 2,\n",
       "  11: 2,\n",
       "  12: 2,\n",
       "  31: 2,\n",
       "  9: 2,\n",
       "  27: 2,\n",
       "  28: 2,\n",
       "  32: 2,\n",
       "  33: 2,\n",
       "  16: 3,\n",
       "  24: 3,\n",
       "  25: 3,\n",
       "  23: 3,\n",
       "  14: 3,\n",
       "  15: 3,\n",
       "  18: 3,\n",
       "  20: 3,\n",
       "  22: 3,\n",
       "  29: 3,\n",
       "  26: 3},\n",
       " 2: {2: 0,\n",
       "  0: 1,\n",
       "  1: 1,\n",
       "  3: 1,\n",
       "  7: 1,\n",
       "  8: 1,\n",
       "  9: 1,\n",
       "  13: 1,\n",
       "  27: 1,\n",
       "  28: 1,\n",
       "  32: 1,\n",
       "  4: 2,\n",
       "  5: 2,\n",
       "  6: 2,\n",
       "  10: 2,\n",
       "  11: 2,\n",
       "  12: 2,\n",
       "  17: 2,\n",
       "  19: 2,\n",
       "  21: 2,\n",
       "  31: 2,\n",
       "  30: 2,\n",
       "  33: 2,\n",
       "  23: 2,\n",
       "  24: 2,\n",
       "  14: 2,\n",
       "  15: 2,\n",
       "  18: 2,\n",
       "  20: 2,\n",
       "  22: 2,\n",
       "  29: 2,\n",
       "  16: 3,\n",
       "  25: 3,\n",
       "  26: 3},\n",
       " 3: {3: 0,\n",
       "  0: 1,\n",
       "  1: 1,\n",
       "  2: 1,\n",
       "  7: 1,\n",
       "  12: 1,\n",
       "  13: 1,\n",
       "  4: 2,\n",
       "  5: 2,\n",
       "  6: 2,\n",
       "  8: 2,\n",
       "  10: 2,\n",
       "  11: 2,\n",
       "  17: 2,\n",
       "  19: 2,\n",
       "  21: 2,\n",
       "  31: 2,\n",
       "  30: 2,\n",
       "  9: 2,\n",
       "  27: 2,\n",
       "  28: 2,\n",
       "  32: 2,\n",
       "  33: 2,\n",
       "  16: 3,\n",
       "  24: 3,\n",
       "  25: 3,\n",
       "  23: 3,\n",
       "  14: 3,\n",
       "  15: 3,\n",
       "  18: 3,\n",
       "  20: 3,\n",
       "  22: 3,\n",
       "  29: 3,\n",
       "  26: 3},\n",
       " 4: {4: 0,\n",
       "  0: 1,\n",
       "  6: 1,\n",
       "  10: 1,\n",
       "  1: 2,\n",
       "  2: 2,\n",
       "  3: 2,\n",
       "  5: 2,\n",
       "  7: 2,\n",
       "  8: 2,\n",
       "  11: 2,\n",
       "  12: 2,\n",
       "  13: 2,\n",
       "  17: 2,\n",
       "  19: 2,\n",
       "  21: 2,\n",
       "  31: 2,\n",
       "  16: 2,\n",
       "  30: 3,\n",
       "  9: 3,\n",
       "  27: 3,\n",
       "  28: 3,\n",
       "  32: 3,\n",
       "  33: 3,\n",
       "  24: 3,\n",
       "  25: 3,\n",
       "  23: 4,\n",
       "  14: 4,\n",
       "  15: 4,\n",
       "  18: 4,\n",
       "  20: 4,\n",
       "  22: 4,\n",
       "  29: 4,\n",
       "  26: 4},\n",
       " 5: {5: 0,\n",
       "  0: 1,\n",
       "  6: 1,\n",
       "  10: 1,\n",
       "  16: 1,\n",
       "  1: 2,\n",
       "  2: 2,\n",
       "  3: 2,\n",
       "  4: 2,\n",
       "  7: 2,\n",
       "  8: 2,\n",
       "  11: 2,\n",
       "  12: 2,\n",
       "  13: 2,\n",
       "  17: 2,\n",
       "  19: 2,\n",
       "  21: 2,\n",
       "  31: 2,\n",
       "  30: 3,\n",
       "  9: 3,\n",
       "  27: 3,\n",
       "  28: 3,\n",
       "  32: 3,\n",
       "  33: 3,\n",
       "  24: 3,\n",
       "  25: 3,\n",
       "  23: 4,\n",
       "  14: 4,\n",
       "  15: 4,\n",
       "  18: 4,\n",
       "  20: 4,\n",
       "  22: 4,\n",
       "  29: 4,\n",
       "  26: 4},\n",
       " 6: {6: 0,\n",
       "  0: 1,\n",
       "  4: 1,\n",
       "  5: 1,\n",
       "  16: 1,\n",
       "  1: 2,\n",
       "  2: 2,\n",
       "  3: 2,\n",
       "  7: 2,\n",
       "  8: 2,\n",
       "  10: 2,\n",
       "  11: 2,\n",
       "  12: 2,\n",
       "  13: 2,\n",
       "  17: 2,\n",
       "  19: 2,\n",
       "  21: 2,\n",
       "  31: 2,\n",
       "  30: 3,\n",
       "  9: 3,\n",
       "  27: 3,\n",
       "  28: 3,\n",
       "  32: 3,\n",
       "  33: 3,\n",
       "  24: 3,\n",
       "  25: 3,\n",
       "  23: 4,\n",
       "  14: 4,\n",
       "  15: 4,\n",
       "  18: 4,\n",
       "  20: 4,\n",
       "  22: 4,\n",
       "  29: 4,\n",
       "  26: 4},\n",
       " 7: {7: 0,\n",
       "  0: 1,\n",
       "  1: 1,\n",
       "  2: 1,\n",
       "  3: 1,\n",
       "  4: 2,\n",
       "  5: 2,\n",
       "  6: 2,\n",
       "  8: 2,\n",
       "  10: 2,\n",
       "  11: 2,\n",
       "  12: 2,\n",
       "  13: 2,\n",
       "  17: 2,\n",
       "  19: 2,\n",
       "  21: 2,\n",
       "  31: 2,\n",
       "  30: 2,\n",
       "  9: 2,\n",
       "  27: 2,\n",
       "  28: 2,\n",
       "  32: 2,\n",
       "  16: 3,\n",
       "  33: 3,\n",
       "  24: 3,\n",
       "  25: 3,\n",
       "  23: 3,\n",
       "  14: 3,\n",
       "  15: 3,\n",
       "  18: 3,\n",
       "  20: 3,\n",
       "  22: 3,\n",
       "  29: 3,\n",
       "  26: 4},\n",
       " 8: {8: 0,\n",
       "  0: 1,\n",
       "  2: 1,\n",
       "  30: 1,\n",
       "  32: 1,\n",
       "  33: 1,\n",
       "  1: 2,\n",
       "  3: 2,\n",
       "  4: 2,\n",
       "  5: 2,\n",
       "  6: 2,\n",
       "  7: 2,\n",
       "  10: 2,\n",
       "  11: 2,\n",
       "  12: 2,\n",
       "  13: 2,\n",
       "  17: 2,\n",
       "  19: 2,\n",
       "  21: 2,\n",
       "  31: 2,\n",
       "  9: 2,\n",
       "  27: 2,\n",
       "  28: 2,\n",
       "  14: 2,\n",
       "  15: 2,\n",
       "  18: 2,\n",
       "  20: 2,\n",
       "  22: 2,\n",
       "  23: 2,\n",
       "  29: 2,\n",
       "  26: 2,\n",
       "  16: 3,\n",
       "  24: 3,\n",
       "  25: 3},\n",
       " 9: {9: 0,\n",
       "  2: 1,\n",
       "  33: 1,\n",
       "  0: 2,\n",
       "  1: 2,\n",
       "  3: 2,\n",
       "  7: 2,\n",
       "  8: 2,\n",
       "  13: 2,\n",
       "  27: 2,\n",
       "  28: 2,\n",
       "  32: 2,\n",
       "  14: 2,\n",
       "  15: 2,\n",
       "  18: 2,\n",
       "  19: 2,\n",
       "  20: 2,\n",
       "  23: 2,\n",
       "  26: 2,\n",
       "  29: 2,\n",
       "  30: 2,\n",
       "  31: 2,\n",
       "  22: 2,\n",
       "  4: 3,\n",
       "  5: 3,\n",
       "  6: 3,\n",
       "  10: 3,\n",
       "  11: 3,\n",
       "  12: 3,\n",
       "  17: 3,\n",
       "  21: 3,\n",
       "  24: 3,\n",
       "  25: 3,\n",
       "  16: 4},\n",
       " 10: {10: 0,\n",
       "  0: 1,\n",
       "  4: 1,\n",
       "  5: 1,\n",
       "  1: 2,\n",
       "  2: 2,\n",
       "  3: 2,\n",
       "  6: 2,\n",
       "  7: 2,\n",
       "  8: 2,\n",
       "  11: 2,\n",
       "  12: 2,\n",
       "  13: 2,\n",
       "  17: 2,\n",
       "  19: 2,\n",
       "  21: 2,\n",
       "  31: 2,\n",
       "  16: 2,\n",
       "  30: 3,\n",
       "  9: 3,\n",
       "  27: 3,\n",
       "  28: 3,\n",
       "  32: 3,\n",
       "  33: 3,\n",
       "  24: 3,\n",
       "  25: 3,\n",
       "  23: 4,\n",
       "  14: 4,\n",
       "  15: 4,\n",
       "  18: 4,\n",
       "  20: 4,\n",
       "  22: 4,\n",
       "  29: 4,\n",
       "  26: 4},\n",
       " 11: {11: 0,\n",
       "  0: 1,\n",
       "  1: 2,\n",
       "  2: 2,\n",
       "  3: 2,\n",
       "  4: 2,\n",
       "  5: 2,\n",
       "  6: 2,\n",
       "  7: 2,\n",
       "  8: 2,\n",
       "  10: 2,\n",
       "  12: 2,\n",
       "  13: 2,\n",
       "  17: 2,\n",
       "  19: 2,\n",
       "  21: 2,\n",
       "  31: 2,\n",
       "  30: 3,\n",
       "  9: 3,\n",
       "  27: 3,\n",
       "  28: 3,\n",
       "  32: 3,\n",
       "  16: 3,\n",
       "  33: 3,\n",
       "  24: 3,\n",
       "  25: 3,\n",
       "  23: 4,\n",
       "  14: 4,\n",
       "  15: 4,\n",
       "  18: 4,\n",
       "  20: 4,\n",
       "  22: 4,\n",
       "  29: 4,\n",
       "  26: 4},\n",
       " 12: {12: 0,\n",
       "  0: 1,\n",
       "  3: 1,\n",
       "  1: 2,\n",
       "  2: 2,\n",
       "  4: 2,\n",
       "  5: 2,\n",
       "  6: 2,\n",
       "  7: 2,\n",
       "  8: 2,\n",
       "  10: 2,\n",
       "  11: 2,\n",
       "  13: 2,\n",
       "  17: 2,\n",
       "  19: 2,\n",
       "  21: 2,\n",
       "  31: 2,\n",
       "  30: 3,\n",
       "  9: 3,\n",
       "  27: 3,\n",
       "  28: 3,\n",
       "  32: 3,\n",
       "  16: 3,\n",
       "  33: 3,\n",
       "  24: 3,\n",
       "  25: 3,\n",
       "  23: 4,\n",
       "  14: 4,\n",
       "  15: 4,\n",
       "  18: 4,\n",
       "  20: 4,\n",
       "  22: 4,\n",
       "  29: 4,\n",
       "  26: 4},\n",
       " 13: {13: 0,\n",
       "  0: 1,\n",
       "  1: 1,\n",
       "  2: 1,\n",
       "  3: 1,\n",
       "  33: 1,\n",
       "  4: 2,\n",
       "  5: 2,\n",
       "  6: 2,\n",
       "  7: 2,\n",
       "  8: 2,\n",
       "  10: 2,\n",
       "  11: 2,\n",
       "  12: 2,\n",
       "  17: 2,\n",
       "  19: 2,\n",
       "  21: 2,\n",
       "  31: 2,\n",
       "  30: 2,\n",
       "  9: 2,\n",
       "  27: 2,\n",
       "  28: 2,\n",
       "  32: 2,\n",
       "  14: 2,\n",
       "  15: 2,\n",
       "  18: 2,\n",
       "  20: 2,\n",
       "  23: 2,\n",
       "  26: 2,\n",
       "  29: 2,\n",
       "  22: 2,\n",
       "  16: 3,\n",
       "  24: 3,\n",
       "  25: 3},\n",
       " 14: {14: 0,\n",
       "  32: 1,\n",
       "  33: 1,\n",
       "  2: 2,\n",
       "  8: 2,\n",
       "  15: 2,\n",
       "  18: 2,\n",
       "  20: 2,\n",
       "  22: 2,\n",
       "  23: 2,\n",
       "  29: 2,\n",
       "  30: 2,\n",
       "  31: 2,\n",
       "  9: 2,\n",
       "  13: 2,\n",
       "  19: 2,\n",
       "  26: 2,\n",
       "  27: 2,\n",
       "  28: 2,\n",
       "  0: 3,\n",
       "  1: 3,\n",
       "  3: 3,\n",
       "  7: 3,\n",
       "  25: 3,\n",
       "  24: 3,\n",
       "  4: 4,\n",
       "  5: 4,\n",
       "  6: 4,\n",
       "  10: 4,\n",
       "  11: 4,\n",
       "  12: 4,\n",
       "  17: 4,\n",
       "  21: 4,\n",
       "  16: 5},\n",
       " 15: {15: 0,\n",
       "  32: 1,\n",
       "  33: 1,\n",
       "  2: 2,\n",
       "  8: 2,\n",
       "  14: 2,\n",
       "  18: 2,\n",
       "  20: 2,\n",
       "  22: 2,\n",
       "  23: 2,\n",
       "  29: 2,\n",
       "  30: 2,\n",
       "  31: 2,\n",
       "  9: 2,\n",
       "  13: 2,\n",
       "  19: 2,\n",
       "  26: 2,\n",
       "  27: 2,\n",
       "  28: 2,\n",
       "  0: 3,\n",
       "  1: 3,\n",
       "  3: 3,\n",
       "  7: 3,\n",
       "  25: 3,\n",
       "  24: 3,\n",
       "  4: 4,\n",
       "  5: 4,\n",
       "  6: 4,\n",
       "  10: 4,\n",
       "  11: 4,\n",
       "  12: 4,\n",
       "  17: 4,\n",
       "  21: 4,\n",
       "  16: 5},\n",
       " 16: {16: 0,\n",
       "  5: 1,\n",
       "  6: 1,\n",
       "  0: 2,\n",
       "  10: 2,\n",
       "  4: 2,\n",
       "  1: 3,\n",
       "  2: 3,\n",
       "  3: 3,\n",
       "  7: 3,\n",
       "  8: 3,\n",
       "  11: 3,\n",
       "  12: 3,\n",
       "  13: 3,\n",
       "  17: 3,\n",
       "  19: 3,\n",
       "  21: 3,\n",
       "  31: 3,\n",
       "  30: 4,\n",
       "  9: 4,\n",
       "  27: 4,\n",
       "  28: 4,\n",
       "  32: 4,\n",
       "  33: 4,\n",
       "  24: 4,\n",
       "  25: 4,\n",
       "  23: 5,\n",
       "  14: 5,\n",
       "  15: 5,\n",
       "  18: 5,\n",
       "  20: 5,\n",
       "  22: 5,\n",
       "  29: 5,\n",
       "  26: 5},\n",
       " 17: {17: 0,\n",
       "  0: 1,\n",
       "  1: 1,\n",
       "  2: 2,\n",
       "  3: 2,\n",
       "  4: 2,\n",
       "  5: 2,\n",
       "  6: 2,\n",
       "  7: 2,\n",
       "  8: 2,\n",
       "  10: 2,\n",
       "  11: 2,\n",
       "  12: 2,\n",
       "  13: 2,\n",
       "  19: 2,\n",
       "  21: 2,\n",
       "  31: 2,\n",
       "  30: 2,\n",
       "  9: 3,\n",
       "  27: 3,\n",
       "  28: 3,\n",
       "  32: 3,\n",
       "  16: 3,\n",
       "  33: 3,\n",
       "  24: 3,\n",
       "  25: 3,\n",
       "  23: 4,\n",
       "  14: 4,\n",
       "  15: 4,\n",
       "  18: 4,\n",
       "  20: 4,\n",
       "  22: 4,\n",
       "  29: 4,\n",
       "  26: 4},\n",
       " 18: {18: 0,\n",
       "  32: 1,\n",
       "  33: 1,\n",
       "  2: 2,\n",
       "  8: 2,\n",
       "  14: 2,\n",
       "  15: 2,\n",
       "  20: 2,\n",
       "  22: 2,\n",
       "  23: 2,\n",
       "  29: 2,\n",
       "  30: 2,\n",
       "  31: 2,\n",
       "  9: 2,\n",
       "  13: 2,\n",
       "  19: 2,\n",
       "  26: 2,\n",
       "  27: 2,\n",
       "  28: 2,\n",
       "  0: 3,\n",
       "  1: 3,\n",
       "  3: 3,\n",
       "  7: 3,\n",
       "  25: 3,\n",
       "  24: 3,\n",
       "  4: 4,\n",
       "  5: 4,\n",
       "  6: 4,\n",
       "  10: 4,\n",
       "  11: 4,\n",
       "  12: 4,\n",
       "  17: 4,\n",
       "  21: 4,\n",
       "  16: 5},\n",
       " 19: {19: 0,\n",
       "  0: 1,\n",
       "  1: 1,\n",
       "  33: 1,\n",
       "  2: 2,\n",
       "  3: 2,\n",
       "  4: 2,\n",
       "  5: 2,\n",
       "  6: 2,\n",
       "  7: 2,\n",
       "  8: 2,\n",
       "  10: 2,\n",
       "  11: 2,\n",
       "  12: 2,\n",
       "  13: 2,\n",
       "  17: 2,\n",
       "  21: 2,\n",
       "  31: 2,\n",
       "  30: 2,\n",
       "  9: 2,\n",
       "  14: 2,\n",
       "  15: 2,\n",
       "  18: 2,\n",
       "  20: 2,\n",
       "  23: 2,\n",
       "  26: 2,\n",
       "  27: 2,\n",
       "  28: 2,\n",
       "  29: 2,\n",
       "  32: 2,\n",
       "  22: 2,\n",
       "  16: 3,\n",
       "  24: 3,\n",
       "  25: 3},\n",
       " 20: {20: 0,\n",
       "  32: 1,\n",
       "  33: 1,\n",
       "  2: 2,\n",
       "  8: 2,\n",
       "  14: 2,\n",
       "  15: 2,\n",
       "  18: 2,\n",
       "  22: 2,\n",
       "  23: 2,\n",
       "  29: 2,\n",
       "  30: 2,\n",
       "  31: 2,\n",
       "  9: 2,\n",
       "  13: 2,\n",
       "  19: 2,\n",
       "  26: 2,\n",
       "  27: 2,\n",
       "  28: 2,\n",
       "  0: 3,\n",
       "  1: 3,\n",
       "  3: 3,\n",
       "  7: 3,\n",
       "  25: 3,\n",
       "  24: 3,\n",
       "  4: 4,\n",
       "  5: 4,\n",
       "  6: 4,\n",
       "  10: 4,\n",
       "  11: 4,\n",
       "  12: 4,\n",
       "  17: 4,\n",
       "  21: 4,\n",
       "  16: 5},\n",
       " 21: {21: 0,\n",
       "  0: 1,\n",
       "  1: 1,\n",
       "  2: 2,\n",
       "  3: 2,\n",
       "  4: 2,\n",
       "  5: 2,\n",
       "  6: 2,\n",
       "  7: 2,\n",
       "  8: 2,\n",
       "  10: 2,\n",
       "  11: 2,\n",
       "  12: 2,\n",
       "  13: 2,\n",
       "  17: 2,\n",
       "  19: 2,\n",
       "  31: 2,\n",
       "  30: 2,\n",
       "  9: 3,\n",
       "  27: 3,\n",
       "  28: 3,\n",
       "  32: 3,\n",
       "  16: 3,\n",
       "  33: 3,\n",
       "  24: 3,\n",
       "  25: 3,\n",
       "  23: 4,\n",
       "  14: 4,\n",
       "  15: 4,\n",
       "  18: 4,\n",
       "  20: 4,\n",
       "  22: 4,\n",
       "  29: 4,\n",
       "  26: 4},\n",
       " 22: {22: 0,\n",
       "  32: 1,\n",
       "  33: 1,\n",
       "  2: 2,\n",
       "  8: 2,\n",
       "  14: 2,\n",
       "  15: 2,\n",
       "  18: 2,\n",
       "  20: 2,\n",
       "  23: 2,\n",
       "  29: 2,\n",
       "  30: 2,\n",
       "  31: 2,\n",
       "  9: 2,\n",
       "  13: 2,\n",
       "  19: 2,\n",
       "  26: 2,\n",
       "  27: 2,\n",
       "  28: 2,\n",
       "  0: 3,\n",
       "  1: 3,\n",
       "  3: 3,\n",
       "  7: 3,\n",
       "  25: 3,\n",
       "  24: 3,\n",
       "  4: 4,\n",
       "  5: 4,\n",
       "  6: 4,\n",
       "  10: 4,\n",
       "  11: 4,\n",
       "  12: 4,\n",
       "  17: 4,\n",
       "  21: 4,\n",
       "  16: 5},\n",
       " 23: {23: 0,\n",
       "  25: 1,\n",
       "  27: 1,\n",
       "  29: 1,\n",
       "  32: 1,\n",
       "  33: 1,\n",
       "  24: 2,\n",
       "  31: 2,\n",
       "  2: 2,\n",
       "  26: 2,\n",
       "  8: 2,\n",
       "  14: 2,\n",
       "  15: 2,\n",
       "  18: 2,\n",
       "  20: 2,\n",
       "  22: 2,\n",
       "  30: 2,\n",
       "  9: 2,\n",
       "  13: 2,\n",
       "  19: 2,\n",
       "  28: 2,\n",
       "  0: 3,\n",
       "  1: 3,\n",
       "  3: 3,\n",
       "  7: 3,\n",
       "  4: 4,\n",
       "  5: 4,\n",
       "  6: 4,\n",
       "  10: 4,\n",
       "  11: 4,\n",
       "  12: 4,\n",
       "  17: 4,\n",
       "  21: 4,\n",
       "  16: 5},\n",
       " 24: {24: 0,\n",
       "  25: 1,\n",
       "  27: 1,\n",
       "  31: 1,\n",
       "  23: 2,\n",
       "  2: 2,\n",
       "  33: 2,\n",
       "  0: 2,\n",
       "  28: 2,\n",
       "  32: 2,\n",
       "  29: 3,\n",
       "  1: 3,\n",
       "  3: 3,\n",
       "  7: 3,\n",
       "  8: 3,\n",
       "  9: 3,\n",
       "  13: 3,\n",
       "  14: 3,\n",
       "  15: 3,\n",
       "  18: 3,\n",
       "  19: 3,\n",
       "  20: 3,\n",
       "  26: 3,\n",
       "  30: 3,\n",
       "  22: 3,\n",
       "  4: 3,\n",
       "  5: 3,\n",
       "  6: 3,\n",
       "  10: 3,\n",
       "  11: 3,\n",
       "  12: 3,\n",
       "  17: 3,\n",
       "  21: 3,\n",
       "  16: 4},\n",
       " 25: {25: 0,\n",
       "  23: 1,\n",
       "  24: 1,\n",
       "  31: 1,\n",
       "  27: 2,\n",
       "  29: 2,\n",
       "  32: 2,\n",
       "  33: 2,\n",
       "  0: 2,\n",
       "  28: 2,\n",
       "  2: 3,\n",
       "  26: 3,\n",
       "  8: 3,\n",
       "  14: 3,\n",
       "  15: 3,\n",
       "  18: 3,\n",
       "  20: 3,\n",
       "  22: 3,\n",
       "  30: 3,\n",
       "  9: 3,\n",
       "  13: 3,\n",
       "  19: 3,\n",
       "  1: 3,\n",
       "  3: 3,\n",
       "  4: 3,\n",
       "  5: 3,\n",
       "  6: 3,\n",
       "  7: 3,\n",
       "  10: 3,\n",
       "  11: 3,\n",
       "  12: 3,\n",
       "  17: 3,\n",
       "  21: 3,\n",
       "  16: 4},\n",
       " 26: {26: 0,\n",
       "  29: 1,\n",
       "  33: 1,\n",
       "  23: 2,\n",
       "  32: 2,\n",
       "  8: 2,\n",
       "  9: 2,\n",
       "  13: 2,\n",
       "  14: 2,\n",
       "  15: 2,\n",
       "  18: 2,\n",
       "  19: 2,\n",
       "  20: 2,\n",
       "  27: 2,\n",
       "  28: 2,\n",
       "  30: 2,\n",
       "  31: 2,\n",
       "  22: 2,\n",
       "  25: 3,\n",
       "  2: 3,\n",
       "  0: 3,\n",
       "  1: 3,\n",
       "  3: 3,\n",
       "  24: 3,\n",
       "  7: 4,\n",
       "  4: 4,\n",
       "  5: 4,\n",
       "  6: 4,\n",
       "  10: 4,\n",
       "  11: 4,\n",
       "  12: 4,\n",
       "  17: 4,\n",
       "  21: 4,\n",
       "  16: 5},\n",
       " 27: {27: 0,\n",
       "  2: 1,\n",
       "  23: 1,\n",
       "  24: 1,\n",
       "  33: 1,\n",
       "  0: 2,\n",
       "  1: 2,\n",
       "  3: 2,\n",
       "  7: 2,\n",
       "  8: 2,\n",
       "  9: 2,\n",
       "  13: 2,\n",
       "  28: 2,\n",
       "  32: 2,\n",
       "  25: 2,\n",
       "  29: 2,\n",
       "  31: 2,\n",
       "  14: 2,\n",
       "  15: 2,\n",
       "  18: 2,\n",
       "  19: 2,\n",
       "  20: 2,\n",
       "  26: 2,\n",
       "  30: 2,\n",
       "  22: 2,\n",
       "  4: 3,\n",
       "  5: 3,\n",
       "  6: 3,\n",
       "  10: 3,\n",
       "  11: 3,\n",
       "  12: 3,\n",
       "  17: 3,\n",
       "  21: 3,\n",
       "  16: 4},\n",
       " 28: {28: 0,\n",
       "  2: 1,\n",
       "  31: 1,\n",
       "  33: 1,\n",
       "  0: 2,\n",
       "  1: 2,\n",
       "  3: 2,\n",
       "  7: 2,\n",
       "  8: 2,\n",
       "  9: 2,\n",
       "  13: 2,\n",
       "  27: 2,\n",
       "  32: 2,\n",
       "  24: 2,\n",
       "  25: 2,\n",
       "  14: 2,\n",
       "  15: 2,\n",
       "  18: 2,\n",
       "  19: 2,\n",
       "  20: 2,\n",
       "  23: 2,\n",
       "  26: 2,\n",
       "  29: 2,\n",
       "  30: 2,\n",
       "  22: 2,\n",
       "  4: 3,\n",
       "  5: 3,\n",
       "  6: 3,\n",
       "  10: 3,\n",
       "  11: 3,\n",
       "  12: 3,\n",
       "  17: 3,\n",
       "  21: 3,\n",
       "  16: 4},\n",
       " 29: {29: 0,\n",
       "  23: 1,\n",
       "  26: 1,\n",
       "  32: 1,\n",
       "  33: 1,\n",
       "  25: 2,\n",
       "  27: 2,\n",
       "  2: 2,\n",
       "  8: 2,\n",
       "  14: 2,\n",
       "  15: 2,\n",
       "  18: 2,\n",
       "  20: 2,\n",
       "  22: 2,\n",
       "  30: 2,\n",
       "  31: 2,\n",
       "  9: 2,\n",
       "  13: 2,\n",
       "  19: 2,\n",
       "  28: 2,\n",
       "  24: 3,\n",
       "  0: 3,\n",
       "  1: 3,\n",
       "  3: 3,\n",
       "  7: 3,\n",
       "  4: 4,\n",
       "  5: 4,\n",
       "  6: 4,\n",
       "  10: 4,\n",
       "  11: 4,\n",
       "  12: 4,\n",
       "  17: 4,\n",
       "  21: 4,\n",
       "  16: 5},\n",
       " 30: {30: 0,\n",
       "  1: 1,\n",
       "  8: 1,\n",
       "  32: 1,\n",
       "  33: 1,\n",
       "  0: 2,\n",
       "  2: 2,\n",
       "  3: 2,\n",
       "  7: 2,\n",
       "  13: 2,\n",
       "  17: 2,\n",
       "  19: 2,\n",
       "  21: 2,\n",
       "  14: 2,\n",
       "  15: 2,\n",
       "  18: 2,\n",
       "  20: 2,\n",
       "  22: 2,\n",
       "  23: 2,\n",
       "  29: 2,\n",
       "  31: 2,\n",
       "  9: 2,\n",
       "  26: 2,\n",
       "  27: 2,\n",
       "  28: 2,\n",
       "  4: 3,\n",
       "  5: 3,\n",
       "  6: 3,\n",
       "  10: 3,\n",
       "  11: 3,\n",
       "  12: 3,\n",
       "  25: 3,\n",
       "  24: 3,\n",
       "  16: 4},\n",
       " 31: {31: 0,\n",
       "  0: 1,\n",
       "  24: 1,\n",
       "  25: 1,\n",
       "  28: 1,\n",
       "  32: 1,\n",
       "  33: 1,\n",
       "  1: 2,\n",
       "  2: 2,\n",
       "  3: 2,\n",
       "  4: 2,\n",
       "  5: 2,\n",
       "  6: 2,\n",
       "  7: 2,\n",
       "  8: 2,\n",
       "  10: 2,\n",
       "  11: 2,\n",
       "  12: 2,\n",
       "  13: 2,\n",
       "  17: 2,\n",
       "  19: 2,\n",
       "  21: 2,\n",
       "  27: 2,\n",
       "  23: 2,\n",
       "  14: 2,\n",
       "  15: 2,\n",
       "  18: 2,\n",
       "  20: 2,\n",
       "  22: 2,\n",
       "  29: 2,\n",
       "  30: 2,\n",
       "  9: 2,\n",
       "  26: 2,\n",
       "  16: 3},\n",
       " 32: {32: 0,\n",
       "  2: 1,\n",
       "  8: 1,\n",
       "  14: 1,\n",
       "  15: 1,\n",
       "  18: 1,\n",
       "  20: 1,\n",
       "  22: 1,\n",
       "  23: 1,\n",
       "  29: 1,\n",
       "  30: 1,\n",
       "  31: 1,\n",
       "  33: 1,\n",
       "  0: 2,\n",
       "  1: 2,\n",
       "  3: 2,\n",
       "  7: 2,\n",
       "  9: 2,\n",
       "  13: 2,\n",
       "  27: 2,\n",
       "  28: 2,\n",
       "  25: 2,\n",
       "  26: 2,\n",
       "  24: 2,\n",
       "  19: 2,\n",
       "  4: 3,\n",
       "  5: 3,\n",
       "  6: 3,\n",
       "  10: 3,\n",
       "  11: 3,\n",
       "  12: 3,\n",
       "  17: 3,\n",
       "  21: 3,\n",
       "  16: 4},\n",
       " 33: {33: 0,\n",
       "  8: 1,\n",
       "  9: 1,\n",
       "  13: 1,\n",
       "  14: 1,\n",
       "  15: 1,\n",
       "  18: 1,\n",
       "  19: 1,\n",
       "  20: 1,\n",
       "  23: 1,\n",
       "  26: 1,\n",
       "  27: 1,\n",
       "  28: 1,\n",
       "  29: 1,\n",
       "  30: 1,\n",
       "  31: 1,\n",
       "  32: 1,\n",
       "  22: 1,\n",
       "  0: 2,\n",
       "  2: 2,\n",
       "  1: 2,\n",
       "  3: 2,\n",
       "  25: 2,\n",
       "  24: 2,\n",
       "  4: 3,\n",
       "  5: 3,\n",
       "  6: 3,\n",
       "  7: 3,\n",
       "  10: 3,\n",
       "  11: 3,\n",
       "  12: 3,\n",
       "  17: 3,\n",
       "  21: 3,\n",
       "  16: 4}}"
      ]
     },
     "execution_count": 10,
     "metadata": {},
     "output_type": "execute_result"
    }
   ],
   "execution_count": 10
  },
  {
   "cell_type": "code",
   "metadata": {
    "colab": {
     "base_uri": "https://localhost:8080/"
    },
    "datalore": {
     "hide_input_from_viewers": false,
     "hide_output_from_viewers": false,
     "node_id": "2EWFoaA8zLfaa2oSkwTMoA",
     "report_properties": {},
     "type": "CODE"
    },
    "executionInfo": {
     "elapsed": 331,
     "status": "ok",
     "timestamp": 1707917545337,
     "user": {
      "displayName": "Sergio D'Antonio Maceiras",
      "userId": "13475738069996452389"
     },
     "user_tz": -60
    },
    "id": "zYMhQbnyEsfB",
    "outputId": "e2bdcd24-c008-4fd5-8a8f-2a603fdefaf0",
    "ExecuteTime": {
     "end_time": "2025-03-23T15:49:47.883289Z",
     "start_time": "2025-03-23T15:49:47.880036Z"
    }
   },
   "source": [
    "nodo_1 = 10\n",
    "nodo_2 = 20\n",
    "\n",
    "print(f\"El camino más corto entre el nodo {nodo_1} y el {nodo_2} es {l[nodo_1][nodo_2]}\")"
   ],
   "outputs": [
    {
     "name": "stdout",
     "output_type": "stream",
     "text": [
      "El camino más corto entre el nodo 10 y el 20 es 4\n"
     ]
    }
   ],
   "execution_count": 9
  },
  {
   "cell_type": "markdown",
   "metadata": {
    "datalore": {
     "hide_input_from_viewers": false,
     "hide_output_from_viewers": false,
     "node_id": "9FxvRAn5JzWhwSboxXLQfj",
     "report_properties": {},
     "type": "MD"
    },
    "id": "Sxo0hJ86EsfB"
   },
   "source": [
    "### Diámetro de la red\n",
    "\n",
    "La primera métrica posicional es el diámetro de la red, que es la longitud del más largo de todos los caminos geodésicos. El diámetro de una red es una métrica global. Podemos calcular el **diámetro** de la red del club de karate:"
   ]
  },
  {
   "cell_type": "code",
   "execution_count": null,
   "metadata": {
    "colab": {
     "base_uri": "https://localhost:8080/"
    },
    "datalore": {
     "hide_input_from_viewers": false,
     "hide_output_from_viewers": false,
     "node_id": "jTvI1ekYdh2tEA8gL5vyRA",
     "report_properties": {},
     "type": "CODE"
    },
    "executionInfo": {
     "elapsed": 253,
     "status": "ok",
     "timestamp": 1707917557185,
     "user": {
      "displayName": "Sergio D'Antonio Maceiras",
      "userId": "13475738069996452389"
     },
     "user_tz": -60
    },
    "id": "uCpBGf84EsfB",
    "outputId": "fdc87a7e-773b-4338-f5b5-ab48d2c6044f"
   },
   "outputs": [
    {
     "data": {
      "text/plain": [
       "5"
      ]
     },
     "execution_count": 20,
     "metadata": {},
     "output_type": "execute_result"
    }
   ],
   "source": [
    "nx.diameter(karate)"
   ]
  },
  {
   "cell_type": "markdown",
   "metadata": {
    "datalore": {
     "hide_input_from_viewers": false,
     "hide_output_from_viewers": false,
     "node_id": "ym9tCrDRoab4BK7nYqB0Ws",
     "report_properties": {},
     "type": "MD"
    },
    "id": "h3KD2n2xEsfB"
   },
   "source": [
    "### Excentricidad\n",
    "\n",
    "La **excentricidad** es la variante local del diámetro. Dicho de otra forma, es el camino más largo que se puede realizar en la red partiendo de un determinado nodo. Se puede interpretar como el 'alcance' de un determinado miembro de la red social."
   ]
  },
  {
   "cell_type": "code",
   "execution_count": null,
   "metadata": {
    "colab": {
     "base_uri": "https://localhost:8080/"
    },
    "datalore": {
     "hide_input_from_viewers": false,
     "hide_output_from_viewers": false,
     "node_id": "OR1fZ3cC4JIuAbFL1pf74o",
     "report_properties": {},
     "type": "CODE"
    },
    "executionInfo": {
     "elapsed": 240,
     "status": "ok",
     "timestamp": 1707917629409,
     "user": {
      "displayName": "Sergio D'Antonio Maceiras",
      "userId": "13475738069996452389"
     },
     "user_tz": -60
    },
    "id": "fq0g9hqTEsfB",
    "outputId": "05a7f6d4-6483-43ed-bb7d-1c1efe5abbed"
   },
   "outputs": [
    {
     "data": {
      "text/plain": [
       "{0: 3,\n",
       " 1: 3,\n",
       " 2: 3,\n",
       " 3: 3,\n",
       " 4: 4,\n",
       " 5: 4,\n",
       " 6: 4,\n",
       " 7: 4,\n",
       " 8: 3,\n",
       " 9: 4,\n",
       " 10: 4,\n",
       " 11: 4,\n",
       " 12: 4,\n",
       " 13: 3,\n",
       " 14: 5,\n",
       " 15: 5,\n",
       " 16: 5,\n",
       " 17: 4,\n",
       " 18: 5,\n",
       " 19: 3,\n",
       " 20: 5,\n",
       " 21: 4,\n",
       " 22: 5,\n",
       " 23: 5,\n",
       " 24: 4,\n",
       " 25: 4,\n",
       " 26: 5,\n",
       " 27: 4,\n",
       " 28: 4,\n",
       " 29: 5,\n",
       " 30: 4,\n",
       " 31: 3,\n",
       " 32: 4,\n",
       " 33: 4}"
      ]
     },
     "execution_count": 23,
     "metadata": {},
     "output_type": "execute_result"
    }
   ],
   "source": [
    "nx.eccentricity(karate, sp=l)"
   ]
  },
  {
   "cell_type": "markdown",
   "metadata": {
    "datalore": {
     "hide_input_from_viewers": false,
     "hide_output_from_viewers": false,
     "node_id": "Tk3LyQKe1cewB76v5sFiC6",
     "report_properties": {},
     "type": "MD"
    },
    "id": "i0k7SAKSEsfB"
   },
   "source": [
    "### Camino geodésico medio\n",
    "\n",
    "Esta es una métrica a nivel de red (global) de la distancia media entre cualquier par de nodos seleccionados aleatoriamente de manera uniforme. Como métrica agregada es una buena forma de resumir el _tamaño_ medio de la red. Normalmente se suele acompañar de un análisis de la distribución de las longitudes de los caminos geodésicos."
   ]
  },
  {
   "cell_type": "code",
   "execution_count": null,
   "metadata": {
    "colab": {
     "base_uri": "https://localhost:8080/",
     "height": 451
    },
    "datalore": {
     "hide_input_from_viewers": false,
     "hide_output_from_viewers": false,
     "node_id": "mYC3K1zCVmrtZZHIQ3SPau",
     "report_properties": {},
     "type": "CODE"
    },
    "executionInfo": {
     "elapsed": 793,
     "status": "ok",
     "timestamp": 1707917624405,
     "user": {
      "displayName": "Sergio D'Antonio Maceiras",
      "userId": "13475738069996452389"
     },
     "user_tz": -60
    },
    "id": "aoSWRPPUEsfC",
    "outputId": "74e397e1-6a89-497f-8058-414bd3c47bda"
   },
   "outputs": [
    {
     "name": "stdout",
     "output_type": "stream",
     "text": [
      "El camino geodésico medio es: 2.41\n"
     ]
    },
    {
     "data": {
      "image/png": "[encoded data removed]",
      "text/plain": [
       "<Figure size 640x480 with 1 Axes>"
      ]
     },
     "metadata": {},
     "output_type": "display_data"
    }
   ],
   "source": [
    "caminos = []\n",
    "for i in l.keys():\n",
    "    for j in l[i].keys():\n",
    "        if l[i][j] != 0:\n",
    "            caminos.append(l[i][j])\n",
    "\n",
    "sns.countplot(x=caminos)\n",
    "\n",
    "print(f\"El camino geodésico medio es: {nx.average_shortest_path_length(karate):.2f}\")"
   ]
  },
  {
   "cell_type": "markdown",
   "metadata": {
    "datalore": {
     "hide_input_from_viewers": false,
     "hide_output_from_viewers": false,
     "node_id": "OZJ21aDDqphGeRgYsNQkPt",
     "report_properties": {},
     "type": "MD"
    },
    "id": "kxm0Mkw5EsfC"
   },
   "source": [
    "## Componentes\n",
    "\n",
    "Si cada par de vértices está conectado por algún camino, la red está **conectada**. Si hay algún par de vértices entre los que no existe ningún camino, se dice que el grafo está **desconectado**, es decir, que está formado por más de una **componente**.\n",
    "\n",
    "En un grafo no dirigido, el conjunto de vértices alcanzables desde un vértice se llama componente (y, para cada vértice $j$ alcanzable desde $i$, $i$ también es alcanzable desde $j$). En un grafo dirigido, la accesibilidad en una dirección no implica la accesibilidad en la otra, y la noción de \"conectado\" se vuelve más compleja. Un grupo de nodos que es alcanzable por pares sólo si ignoramos la dirección de las aristas es un **componente débilmente conectado**, mientras que un grupo de nodos que es alcanzable por pares si obedecemos las direcciones es un **componente fuertemente conectado**. Del mismo modo, un componente de salida es el conjunto de nodos a los que se puede llegar desde $i$, mientras que un componente de entrada es el conjunto de nodos que pueden llegar a $i$.\n",
    "\n",
    "Muchas redes están formadas por múltiples componentes y, entre ellos, siempre hay un **componente más grande** (*largest component*), que suele ser el de mayor interés.\n",
    "\n",
    "Desde **NetworkX** podemos obtener los distintos componentes de una red:"
   ]
  },
  {
   "cell_type": "code",
   "execution_count": null,
   "metadata": {
    "colab": {
     "base_uri": "https://localhost:8080/"
    },
    "datalore": {
     "hide_input_from_viewers": false,
     "hide_output_from_viewers": false,
     "node_id": "vM9fS2mrxf54vHck4XrY8b",
     "report_properties": {},
     "type": "CODE"
    },
    "executionInfo": {
     "elapsed": 233,
     "status": "ok",
     "timestamp": 1707917632908,
     "user": {
      "displayName": "Sergio D'Antonio Maceiras",
      "userId": "13475738069996452389"
     },
     "user_tz": -60
    },
    "id": "MlSn3DmtEsfC",
    "outputId": "8f5a49be-394a-44a3-8de8-6a8fb29945b1"
   },
   "outputs": [
    {
     "data": {
      "text/plain": [
       "[{0,\n",
       "  1,\n",
       "  2,\n",
       "  3,\n",
       "  4,\n",
       "  5,\n",
       "  6,\n",
       "  7,\n",
       "  8,\n",
       "  9,\n",
       "  10,\n",
       "  11,\n",
       "  12,\n",
       "  13,\n",
       "  14,\n",
       "  15,\n",
       "  16,\n",
       "  17,\n",
       "  18,\n",
       "  19,\n",
       "  20,\n",
       "  21,\n",
       "  22,\n",
       "  23,\n",
       "  24,\n",
       "  25,\n",
       "  26,\n",
       "  27,\n",
       "  28,\n",
       "  29,\n",
       "  30,\n",
       "  31,\n",
       "  32,\n",
       "  33}]"
      ]
     },
     "execution_count": 24,
     "metadata": {},
     "output_type": "execute_result"
    }
   ],
   "source": [
    "list(nx.connected_components(karate))"
   ]
  },
  {
   "cell_type": "markdown",
   "metadata": {
    "datalore": {
     "hide_input_from_viewers": false,
     "hide_output_from_viewers": false,
     "node_id": "RDjyDKwFmG1OACMObund88",
     "report_properties": {},
     "type": "MD"
    },
    "id": "89btWzgAEsfC"
   },
   "source": [
    "En esta ocasión todos los nodos pertenecen a la única componente de la red."
   ]
  },
  {
   "cell_type": "markdown",
   "metadata": {
    "id": "gDHg0SfWzBZF"
   },
   "source": []
  },
  {
   "cell_type": "markdown",
   "metadata": {
    "id": "-v3doA4H9rQ-"
   },
   "source": [
    "# EJERCICIO\n"
   ]
  },
  {
   "cell_type": "code",
   "source": [
    "import networkx as nx\n",
    "import matplotlib.pyplot as plt\n",
    "\n",
    "!wget https://drive.upm.es/s/0aXFycZxgKTa9gt/download -O soc-FourSquare.mtx\n",
    "\n",
    "G = nx.Graph()\n",
    "with open('soc-FourSquare.mtx', 'r') as file:\n",
    "    for line in file:\n",
    "        if line.startswith('%'):\n",
    "            continue\n",
    "        parts = line.strip().split()\n",
    "        if len(parts) == 3:\n",
    "            i, j, weight = map(float, parts)\n",
    "            G.add_edge(int(i), int(j), weight=weight)\n",
    "        elif len(parts) == 2:\n",
    "            i, j = map(int, parts)\n",
    "            G.add_edge(i, j)\n",
    "\n",
    "\n",
    "print(f\"El grafo tiene {G.number_of_nodes()} nodos y {G.number_of_edges()} aristas\")\n"
   ],
   "metadata": {
    "id": "bOJiVvk559q5"
   },
   "execution_count": null,
   "outputs": []
  },
  {
   "cell_type": "code",
   "source": [],
   "metadata": {
    "id": "LYODlksI9O2H"
   },
   "execution_count": null,
   "outputs": []
  },
  {
   "cell_type": "markdown",
   "source": [],
   "metadata": {
    "id": "_Dtd5P0E2uXn"
   }
  }
 ],
 "metadata": {
  "colab": {
   "provenance": []
  },
  "datalore": {
   "base_environment": "minimal",
   "computation_mode": "JUPYTER",
   "package_manager": "conda",
   "packages": [
    {
     "name": "scipy",
     "source": "CONDA"
    },
    {
     "name": "networkx",
     "source": "CONDA",
     "version": "2.7.1"
    },
    {
     "name": "seaborn",
     "source": "CONDA",
     "version": "0.11.2"
    }
   ],
   "version": 1
  },
  "kernelspec": {
   "display_name": "Python 3",
   "language": "python",
   "name": "python3"
  },
  "language_info": {
   "codemirror_mode": {
    "name": "ipython",
    "version": 3
   },
   "file_extension": ".py",
   "mimetype": "text/x-python",
   "name": "python",
   "nbconvert_exporter": "python",
   "pygments_lexer": "ipython3",
   "version": "3.13.0"
  },
  "vscode": {
   "interpreter": {
    "hash": "2982768db5f5fb2f5da9d2a9598c3ca42d4f5b2e5ef8d17ff5b19889a5b63042"
   }
  }
 },
 "nbformat": 4,
 "nbformat_minor": 0
}
