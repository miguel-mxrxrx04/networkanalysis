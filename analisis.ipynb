{
 "cells": [
  {
   "cell_type": "code",
   "execution_count": 1,
   "metadata": {},
   "outputs": [],
   "source": [
    "import networkx as nx\n",
    "\n",
    "G = nx.read_gml('definitivo.gml')"
   ]
  },
  {
   "cell_type": "code",
   "execution_count": null,
   "metadata": {},
   "outputs": [
    {
     "name": "stdout",
     "output_type": "stream",
     "text": [
      "Número de nodos 31116\n",
      "Número de aristas 40704\n",
      "Conexo False\n"
     ]
    }
   ],
   "source": [
    "G = G.to_undirected()\n",
    "print(\"Número de nodos\", G.number_of_nodes())\n",
    "print(\"Número de aristas\", G.number_of_edges())\n",
    "print(\"Conexo\", nx.is_connected(G)) # Causado por falta de scrapeo en algún subreddit"
   ]
  }
 ],
 "metadata": {
  "kernelspec": {
   "display_name": "cspenv",
   "language": "python",
   "name": "python3"
  },
  "language_info": {
   "codemirror_mode": {
    "name": "ipython",
    "version": 3
   },
   "file_extension": ".py",
   "mimetype": "text/x-python",
   "name": "python",
   "nbconvert_exporter": "python",
   "pygments_lexer": "ipython3",
   "version": "3.12.10"
  }
 },
 "nbformat": 4,
 "nbformat_minor": 2
}
