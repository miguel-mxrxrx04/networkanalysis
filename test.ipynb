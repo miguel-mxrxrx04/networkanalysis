{
 "cells": [
  {
   "metadata": {
    "ExecuteTime": {
     "end_time": "2025-04-21T18:11:22.527439Z",
     "start_time": "2025-04-21T18:11:19.497245Z"
    }
   },
   "cell_type": "code",
   "source": [
    "import praw\n",
    "from time import sleep\n",
    "\n",
    "# Configura tu conexión con Reddit\n",
    "reddit = praw.Reddit(\n",
    "    client_id=\"XEVqTpGA9HE6MNujQAWt1w\",\n",
    "    client_secret=\"bv4J3usOH-V__I4tGD__bLoWnGA_Sg\",\n",
    "    user_agent=\"Testing_api\",\n",
    "    read_only=True\n",
    ")\n",
    "\n",
    "# Define el subreddit y la búsqueda\n",
    "subreddit_name = \"flatearth\"\n",
    "\n",
    "queries_list = [\n",
    "    \"flat earth\",\n",
    "    #\"flat earth theory\",\n",
    "    #\"flat earth society\",\n",
    "    #\"flatearth\",\n",
    "    #\"flatearth theory\",\n",
    "    #\"flatearth society\",\n",
    "    #\"flat earth news\",\n",
    "    #\"flat earth memes\",\n",
    "    #\"flat earth videos\",\n",
    "    #\"flat earth documentary\",\n",
    "    #\"flat earth\",\n",
    "    #\"flat\",\n",
    "    #\"globe\",\n",
    "    #\"round earth\",\n",
    "    #\"NASA\"\n",
    "]\n",
    "\n",
    "resultados_totales = set()\n",
    "\n",
    "subredit = reddit.subreddit(subreddit_name)\n",
    "\n",
    "for query in queries_list:\n",
    "    print(f\"Buscando en el subreddit {subreddit_name} con la consulta '{query}'\")\n",
    "    resultados = subredit.search(query, limit=100)\n",
    "    \n",
    "    for submission in resultados:\n",
    "        # Verifica si el título ya está en los resultados totales\n",
    "        if submission.title not in resultados_totales:\n",
    "            resultados_totales.add(submission)"
   ],
   "id": "1090c5fae0aa9c6f",
   "outputs": [
    {
     "name": "stdout",
     "output_type": "stream",
     "text": [
      "Buscando en el subreddit flatearth con la consulta 'flat earth'\n"
     ]
    }
   ],
   "execution_count": 4
  },
  {
   "metadata": {
    "ExecuteTime": {
     "end_time": "2025-04-21T18:11:24.329682Z",
     "start_time": "2025-04-21T18:11:24.325683Z"
    }
   },
   "cell_type": "code",
   "source": "post = list(resultados_totales)[0]",
   "id": "afddfae6f8d7555f",
   "outputs": [],
   "execution_count": 5
  },
  {
   "metadata": {
    "ExecuteTime": {
     "end_time": "2025-04-21T18:11:25.108494Z",
     "start_time": "2025-04-21T18:11:25.102073Z"
    }
   },
   "cell_type": "code",
   "source": [
    "# Extraer el título y el contenido del post asi como el nombre del autor\n",
    "\n",
    "print(f\"Title: {post.title}\")\n",
    "print(f\"Author: {post.author}\")\n",
    "print(f\"Content: {post.selftext}\")\n",
    "print(f\"URL: {post.url}\")\n",
    "print(f\"Upvotes: {post.ups}\")\n",
    "print(f\"Downvotes: {post.downs}\")\n",
    "print(f\"Comments: {post.num_comments}\")\n",
    "print(f\"Created: {post.created}\")\n",
    "print(f\"Subreddit: {post.subreddit}\")\n",
    "print(f\"Post ID: {post.id}\")\n",
    "print(f\"Post URL: {post.url}\")\n",
    "print(f\"Post Score: {post.score}\")\n",
    "\n",
    "#Navegar el arbol de comentarios\n",
    "comentarios = post.comments\n",
    "\n",
    "for comentario in comentarios:\n",
    "    print(f\"Comentario: {comentario.body}\")\n",
    "    print(f\"Autor: {comentario.author}\")\n",
    "    print(f\"Upvotes: {comentario.ups}\")\n",
    "    print(f\"Downvotes: {comentario.downs}\")\n",
    "    print(f\"Created: {comentario.created}\")\n",
    "    print(f\"Comentario ID: {comentario.id}\")\n",
    "    print(f\"Comentario URL: {comentario.permalink}\")\n",
    "    print(f\"Comentario Score: {comentario.score}\")\n",
    "    \n",
    "\n",
    "    "
   ],
   "id": "29cc027d9e565b4b",
   "outputs": [
    {
     "name": "stdout",
     "output_type": "stream",
     "text": [
      "Title: What it’s like arguing with a flat earth enthusiast…. 😂\n",
      "Author: EasternCranberry559\n",
      "Content: \n",
      "URL: https://i.redd.it/1cfpcyimxvwa1.jpg\n",
      "Upvotes: 896\n",
      "Downvotes: 0\n",
      "Comments: 33\n",
      "Created: 1732650846.0\n",
      "Subreddit: flatearth\n",
      "Post ID: 1h0l1qn\n",
      "Post URL: https://i.redd.it/1cfpcyimxvwa1.jpg\n",
      "Post Score: 896\n",
      "Comentario: Actually, for them its like shooting your chess opponent in the head, then claiming you win because they can't make any moves.\n",
      "\n",
      "They ban you if you argue against them\n",
      "Autor: Eric_Prozzy\n",
      "Upvotes: 31\n",
      "Downvotes: 0\n",
      "Created: 1732651617.0\n",
      "Comentario ID: lz4nh73\n",
      "Comentario URL: /r/flatearth/comments/1h0l1qn/what_its_like_arguing_with_a_flat_earth_enthusiast/lz4nh73/\n",
      "Comentario Score: 31\n",
      "Comentario: We quite literally can't play the board either because they ban us for trying so they are the pigeon here.\n",
      "Autor: KamikazeTank\n",
      "Upvotes: 42\n",
      "Downvotes: 0\n",
      "Created: 1732651326.0\n",
      "Comentario ID: lz4mj6m\n",
      "Comentario URL: /r/flatearth/comments/1h0l1qn/what_its_like_arguing_with_a_flat_earth_enthusiast/lz4mj6m/\n",
      "Comentario Score: 42\n",
      "Comentario: They perfectly summarized themselves!!\n",
      "Autor: EasternCranberry559\n",
      "Upvotes: 36\n",
      "Downvotes: 0\n",
      "Created: 1732650874.0\n",
      "Comentario ID: lz4l253\n",
      "Comentario URL: /r/flatearth/comments/1h0l1qn/what_its_like_arguing_with_a_flat_earth_enthusiast/lz4l253/\n",
      "Comentario Score: 36\n",
      "Comentario: Flat Earther: \"Aha! Checkmate!\"\n",
      "\n",
      "Glober: \"But you can't move that piece because your King is in check. Also that's not even how that piece moves. Also also that's not even checkmate.\"\n",
      "\n",
      "Flat Earther: \"Oh forget the details. You're just mad because you so obviously lost.\"\n",
      "Autor: OverPower314\n",
      "Upvotes: 41\n",
      "Downvotes: 0\n",
      "Created: 1732653468.0\n",
      "Comentario ID: lz4tf70\n",
      "Comentario URL: /r/flatearth/comments/1h0l1qn/what_its_like_arguing_with_a_flat_earth_enthusiast/lz4tf70/\n",
      "Comentario Score: 41\n",
      "Comentario: I went and read some of the comments. It’s pretty funny that they think this sub exists for debate.\n",
      "Autor: rabbi420\n",
      "Upvotes: 10\n",
      "Downvotes: 0\n",
      "Created: 1732652428.0\n",
      "Comentario ID: lz4q2wb\n",
      "Comentario URL: /r/flatearth/comments/1h0l1qn/what_its_like_arguing_with_a_flat_earth_enthusiast/lz4q2wb/\n",
      "Comentario Score: 10\n",
      "Comentario: Nah, the pigeon has a better understanding of gravity.\n",
      "Autor: Batgirl_III\n",
      "Upvotes: 9\n",
      "Downvotes: 0\n",
      "Created: 1732652680.0\n",
      "Comentario ID: lz4qvlt\n",
      "Comentario URL: /r/flatearth/comments/1h0l1qn/what_its_like_arguing_with_a_flat_earth_enthusiast/lz4qvlt/\n",
      "Comentario Score: 9\n",
      "Comentario: IMAX would *kill* to have projection that strong.\n",
      "Autor: cearnicus\n",
      "Upvotes: 8\n",
      "Downvotes: 0\n",
      "Created: 1732652432.0\n",
      "Comentario ID: lz4q39d\n",
      "Comentario URL: /r/flatearth/comments/1h0l1qn/what_its_like_arguing_with_a_flat_earth_enthusiast/lz4q39d/\n",
      "Comentario Score: 8\n",
      "Comentario: I'm curious what part of the Earth is a glob.\n",
      "Autor: Speciesunkn0wn\n",
      "Upvotes: 5\n",
      "Downvotes: 0\n",
      "Created: 1732653323.0\n",
      "Comentario ID: lz4syar\n",
      "Comentario URL: /r/flatearth/comments/1h0l1qn/what_its_like_arguing_with_a_flat_earth_enthusiast/lz4syar/\n",
      "Comentario Score: 5\n",
      "Comentario: \"How is my king contained there? It's not in check of anything, look at the gyro stats\"\n",
      "Autor: Skelegasm\n",
      "Upvotes: 4\n",
      "Downvotes: 0\n",
      "Created: 1732653977.0\n",
      "Comentario ID: lz4v302\n",
      "Comentario URL: /r/flatearth/comments/1h0l1qn/what_its_like_arguing_with_a_flat_earth_enthusiast/lz4v302/\n",
      "Comentario Score: 4\n",
      "Comentario: Sit there and argue that the board is round when it plainly isn’t. Tell them it’s perspective.\n",
      "Autor: Large-Raise9643\n",
      "Upvotes: 3\n",
      "Downvotes: 0\n",
      "Created: 1732656557.0\n",
      "Comentario ID: lz53hql\n",
      "Comentario URL: /r/flatearth/comments/1h0l1qn/what_its_like_arguing_with_a_flat_earth_enthusiast/lz53hql/\n",
      "Comentario Score: 3\n",
      "Comentario: Flat Earther: See, I beat you at chess\n",
      "\n",
      "Normal people: what are you talking about, we aren’t even playing chess\n",
      "Autor: Lost_Astronaut_654\n",
      "Upvotes: 3\n",
      "Downvotes: 0\n",
      "Created: 1732672368.0\n",
      "Comentario ID: lz6cbyf\n",
      "Comentario URL: /r/flatearth/comments/1h0l1qn/what_its_like_arguing_with_a_flat_earth_enthusiast/lz6cbyf/\n",
      "Comentario Score: 3\n",
      "Comentario: My rendition of it includes knocking all the pieces over.\n",
      "\n",
      "But yeah. It fits.\n",
      "Autor: Driftless1981\n",
      "Upvotes: 1\n",
      "Downvotes: 0\n",
      "Created: 1732659718.0\n",
      "Comentario ID: lz5diet\n",
      "Comentario URL: /r/flatearth/comments/1h0l1qn/what_its_like_arguing_with_a_flat_earth_enthusiast/lz5diet/\n",
      "Comentario Score: 1\n",
      "Comentario: Bruh... what did pigeons ever do to deserve this insult\n",
      "Autor: He_Never_Helps_01\n",
      "Upvotes: 1\n",
      "Downvotes: 0\n",
      "Created: 1732661594.0\n",
      "Comentario ID: lz5j3oz\n",
      "Comentario URL: /r/flatearth/comments/1h0l1qn/what_its_like_arguing_with_a_flat_earth_enthusiast/lz5j3oz/\n",
      "Comentario Score: 1\n",
      "Comentario: Projection is a key skill for those with nothing else to work with.\n",
      "Autor: rygelicus\n",
      "Upvotes: 1\n",
      "Downvotes: 0\n",
      "Created: 1732662422.0\n",
      "Comentario ID: lz5lh0l\n",
      "Comentario URL: /r/flatearth/comments/1h0l1qn/what_its_like_arguing_with_a_flat_earth_enthusiast/lz5lh0l/\n",
      "Comentario Score: 1\n",
      "Comentario: Enthusiast must mean crazy where you live.\n",
      "Autor: Ill_Initial8986\n",
      "Upvotes: 1\n",
      "Downvotes: 0\n",
      "Created: 1732665167.0\n",
      "Comentario ID: lz5t0xg\n",
      "Comentario URL: /r/flatearth/comments/1h0l1qn/what_its_like_arguing_with_a_flat_earth_enthusiast/lz5t0xg/\n",
      "Comentario Score: 1\n",
      "Comentario: It's genuinely crazy the amount of cognitive dissonance and confidence required to be a flat earther and be convinced it's everyone else that must be wrong. Especially comedic considering this is such an easy thing to disprove too. Look at how the stars move lmao. Look outside during a lunar eclipse. How would that work on a flat earth? A child could figure this out.\n",
      "Autor: Sad-Set-5817\n",
      "Upvotes: 1\n",
      "Downvotes: 0\n",
      "Created: 1732666948.0\n",
      "Comentario ID: lz5xto1\n",
      "Comentario URL: /r/flatearth/comments/1h0l1qn/what_its_like_arguing_with_a_flat_earth_enthusiast/lz5xto1/\n",
      "Comentario Score: 1\n",
      "Comentario: Yet people continue to argue with them and I am entertained.\n",
      "Autor: mythxical\n",
      "Upvotes: 1\n",
      "Downvotes: 0\n",
      "Created: 1732679618.0\n",
      "Comentario ID: lz6v0ir\n",
      "Comentario URL: /r/flatearth/comments/1h0l1qn/what_its_like_arguing_with_a_flat_earth_enthusiast/lz6v0ir/\n",
      "Comentario Score: 1\n",
      "Comentario: Is there any reason to engage in any discussion on the topic\n",
      "Autor: anyoceans\n",
      "Upvotes: 1\n",
      "Downvotes: 0\n",
      "Created: 1732680936.0\n",
      "Comentario ID: lz6y5lz\n",
      "Comentario URL: /r/flatearth/comments/1h0l1qn/what_its_like_arguing_with_a_flat_earth_enthusiast/lz6y5lz/\n",
      "Comentario Score: 1\n"
     ]
    }
   ],
   "execution_count": 6
  },
  {
   "metadata": {
    "ExecuteTime": {
     "end_time": "2025-04-21T18:11:29.322273Z",
     "start_time": "2025-04-21T18:11:26.218024Z"
    }
   },
   "cell_type": "code",
   "source": "!pip install tqdm",
   "id": "815693f009326862",
   "outputs": [
    {
     "name": "stdout",
     "output_type": "stream",
     "text": [
      "Requirement already satisfied: tqdm in c:\\users\\iocol\\desktop\\estudiar_sc\\.venv\\lib\\site-packages (4.67.1)\n",
      "Requirement already satisfied: colorama in c:\\users\\iocol\\desktop\\estudiar_sc\\.venv\\lib\\site-packages (from tqdm) (0.4.6)\n"
     ]
    }
   ],
   "execution_count": 7
  },
  {
   "metadata": {
    "ExecuteTime": {
     "end_time": "2025-04-21T18:11:29.722867Z",
     "start_time": "2025-04-21T18:11:29.328409Z"
    }
   },
   "cell_type": "code",
   "source": [
    "import networkx as nx\n",
    "import matplotlib.pyplot as plt\n",
    "from tqdm import tqdm"
   ],
   "id": "d746fd503d0724b0",
   "outputs": [],
   "execution_count": 8
  },
  {
   "metadata": {
    "ExecuteTime": {
     "end_time": "2025-04-21T18:11:29.733100Z",
     "start_time": "2025-04-21T18:11:29.728874Z"
    }
   },
   "cell_type": "code",
   "source": "grafo = nx.Graph()",
   "id": "b798210ce3c524d1",
   "outputs": [],
   "execution_count": 9
  },
  {
   "metadata": {
    "ExecuteTime": {
     "end_time": "2025-04-21T18:11:29.745377Z",
     "start_time": "2025-04-21T18:11:29.740855Z"
    }
   },
   "cell_type": "code",
   "source": [
    "def get_results(subreddit, query_list, n_post = 10):\n",
    "    resultados_totales = set()\n",
    "    \n",
    "    subredit = reddit.subreddit(subreddit)\n",
    "    \n",
    "    for query in query_list:\n",
    "        print(f\"Buscando en el subreddit {subreddit} con la consulta '{query}'\")\n",
    "        \n",
    "        try:\n",
    "        \n",
    "            resultados = subredit.search(query, limit=n_post)\n",
    "            \n",
    "            for submission in resultados:\n",
    "                # Verifica si el título ya está en los resultados totales\n",
    "                if submission.title not in resultados_totales:\n",
    "                    resultados_totales.add(submission)\n",
    "                    \n",
    "        except Exception:\n",
    "            continue\n",
    "                \n",
    "    return resultados_totales"
   ],
   "id": "1f772f9eddfaef55",
   "outputs": [],
   "execution_count": 10
  },
  {
   "metadata": {
    "ExecuteTime": {
     "end_time": "2025-04-21T18:11:29.760845Z",
     "start_time": "2025-04-21T18:11:29.753212Z"
    }
   },
   "cell_type": "code",
   "source": [
    "def scrapear_subreddit(subreddit, query_list, n_post = 10, max_comments = None):\n",
    "    \n",
    "    # Obtener los resultados\n",
    "    resultados_totales = get_results(subreddit, query_list, n_post)\n",
    "\n",
    "    # Agregar nodo raíz al grafo\n",
    "    grafo.add_node(subreddit)\n",
    "    \n",
    "    # Agregar los nodos y aristas al grafo\n",
    "    for post in tqdm(list(resultados_totales)):\n",
    "        if post.author:\n",
    "            grafo.add_node(post.author.name,subreddit=subreddit)\n",
    "            grafo.add_edge(subreddit, post.author.name)\n",
    "            \n",
    "        while True:\n",
    "            try:\n",
    "                post.comments.replace_more(limit=None)\n",
    "                break\n",
    "            except Exception:\n",
    "                print('demasiadas peticiones')\n",
    "                sleep(10)\n",
    "            \n",
    "        comentarios = sorted(post.comments.list(), key=lambda x: x.score, reverse=True)\n",
    "        \n",
    "        for comentario in comentarios:\n",
    "            if comentario.author:\n",
    "                #comprueba que el nodo ya existe\n",
    "                if grafo.has_node(comentario.author.name):\n",
    "                    if not grafo.has_edge(post.author.name, comentario.author.name):\n",
    "                        grafo.add_edge(post.author.name, comentario.author.name)\n",
    "                        \n",
    "        if max_comments is not None:\n",
    "            comentarios = comentarios[:max_comments]\n",
    "        \n",
    "        for comentario in comentarios:\n",
    "            if comentario.author:\n",
    "                grafo.add_node(comentario.author.name, subreddit=subreddit)\n",
    "                #comprobar que no exista ya la arista\n",
    "                if not grafo.has_edge(post.author.name, comentario.author.name):\n",
    "                    grafo.add_edge(post.author.name, comentario.author.name)\n"
   ],
   "id": "658cb8662b21b9f8",
   "outputs": [],
   "execution_count": 11
  },
  {
   "metadata": {
    "ExecuteTime": {
     "end_time": "2025-04-21T10:32:51.526726Z",
     "start_time": "2025-04-21T10:32:47.588990Z"
    }
   },
   "cell_type": "code",
   "source": [
    "scrapear_subreddit('flatearth', ['flatearth'], n_post = 10)\n",
    "scrapear_subreddit('antivaccine', ['antivaccine'], n_post = 10)\n"
   ],
   "id": "6e46ff9a27f0c714",
   "outputs": [
    {
     "name": "stdout",
     "output_type": "stream",
     "text": [
      "Buscando en el subreddit flatearth con la consulta 'flatearth'\n"
     ]
    },
    {
     "name": "stderr",
     "output_type": "stream",
     "text": [
      " 10%|█         | 1/10 [00:03<00:29,  3.32s/it]\n"
     ]
    },
    {
     "ename": "KeyboardInterrupt",
     "evalue": "",
     "output_type": "error",
     "traceback": [
      "\u001B[31m---------------------------------------------------------------------------\u001B[39m",
      "\u001B[31mKeyboardInterrupt\u001B[39m                         Traceback (most recent call last)",
      "\u001B[36mCell\u001B[39m\u001B[36m \u001B[39m\u001B[32mIn[141]\u001B[39m\u001B[32m, line 1\u001B[39m\n\u001B[32m----> \u001B[39m\u001B[32m1\u001B[39m \u001B[43mscrapear_subreddit\u001B[49m\u001B[43m(\u001B[49m\u001B[33;43m'\u001B[39;49m\u001B[33;43mflatearth\u001B[39;49m\u001B[33;43m'\u001B[39;49m\u001B[43m,\u001B[49m\u001B[43m \u001B[49m\u001B[43m[\u001B[49m\u001B[33;43m'\u001B[39;49m\u001B[33;43mflatearth\u001B[39;49m\u001B[33;43m'\u001B[39;49m\u001B[43m]\u001B[49m\u001B[43m,\u001B[49m\u001B[43m \u001B[49m\u001B[43mn_post\u001B[49m\u001B[43m \u001B[49m\u001B[43m=\u001B[49m\u001B[43m \u001B[49m\u001B[32;43m10\u001B[39;49m\u001B[43m)\u001B[49m\n\u001B[32m      2\u001B[39m scrapear_subreddit(\u001B[33m'\u001B[39m\u001B[33mantivaccine\u001B[39m\u001B[33m'\u001B[39m, [\u001B[33m'\u001B[39m\u001B[33mantivaccine\u001B[39m\u001B[33m'\u001B[39m], n_post = \u001B[32m10\u001B[39m)\n",
      "\u001B[36mCell\u001B[39m\u001B[36m \u001B[39m\u001B[32mIn[140]\u001B[39m\u001B[32m, line 15\u001B[39m, in \u001B[36mscrapear_subreddit\u001B[39m\u001B[34m(subreddit, query_list, n_post, max_comments)\u001B[39m\n\u001B[32m     12\u001B[39m     grafo.add_node(post.author.name,subreddit=subreddit)\n\u001B[32m     13\u001B[39m     grafo.add_edge(subreddit, post.author.name)\n\u001B[32m---> \u001B[39m\u001B[32m15\u001B[39m \u001B[43mpost\u001B[49m\u001B[43m.\u001B[49m\u001B[43mcomments\u001B[49m.replace_more(limit=\u001B[38;5;28;01mNone\u001B[39;00m)\n\u001B[32m     16\u001B[39m comentarios = \u001B[38;5;28msorted\u001B[39m(post.comments.list(), key=\u001B[38;5;28;01mlambda\u001B[39;00m x: x.score, reverse=\u001B[38;5;28;01mTrue\u001B[39;00m)\n\u001B[32m     18\u001B[39m \u001B[38;5;28;01mfor\u001B[39;00m comentario \u001B[38;5;129;01min\u001B[39;00m comentarios:\n",
      "\u001B[36mFile \u001B[39m\u001B[32m~\\Desktop\\estudiar_SC\\.venv\\Lib\\site-packages\\praw\\models\\reddit\\base.py:38\u001B[39m, in \u001B[36mRedditBase.__getattr__\u001B[39m\u001B[34m(self, attribute)\u001B[39m\n\u001B[32m     36\u001B[39m \u001B[38;5;250m\u001B[39m\u001B[33;03m\"\"\"Return the value of ``attribute``.\"\"\"\u001B[39;00m\n\u001B[32m     37\u001B[39m \u001B[38;5;28;01mif\u001B[39;00m \u001B[38;5;129;01mnot\u001B[39;00m attribute.startswith(\u001B[33m\"\u001B[39m\u001B[33m_\u001B[39m\u001B[33m\"\u001B[39m) \u001B[38;5;129;01mand\u001B[39;00m \u001B[38;5;129;01mnot\u001B[39;00m \u001B[38;5;28mself\u001B[39m._fetched:\n\u001B[32m---> \u001B[39m\u001B[32m38\u001B[39m     \u001B[38;5;28;43mself\u001B[39;49m\u001B[43m.\u001B[49m\u001B[43m_fetch\u001B[49m\u001B[43m(\u001B[49m\u001B[43m)\u001B[49m\n\u001B[32m     39\u001B[39m     \u001B[38;5;28;01mreturn\u001B[39;00m \u001B[38;5;28mgetattr\u001B[39m(\u001B[38;5;28mself\u001B[39m, attribute)\n\u001B[32m     40\u001B[39m msg = \u001B[33mf\u001B[39m\u001B[33m\"\u001B[39m\u001B[38;5;132;01m{\u001B[39;00m\u001B[38;5;28mself\u001B[39m.\u001B[34m__class__\u001B[39m.\u001B[34m__name__\u001B[39m\u001B[38;5;132;01m!r}\u001B[39;00m\u001B[33m object has no attribute \u001B[39m\u001B[38;5;132;01m{\u001B[39;00mattribute\u001B[38;5;132;01m!r}\u001B[39;00m\u001B[33m\"\u001B[39m\n",
      "\u001B[36mFile \u001B[39m\u001B[32m~\\Desktop\\estudiar_SC\\.venv\\Lib\\site-packages\\praw\\models\\reddit\\submission.py:726\u001B[39m, in \u001B[36mSubmission._fetch\u001B[39m\u001B[34m(self)\u001B[39m\n\u001B[32m    725\u001B[39m \u001B[38;5;28;01mdef\u001B[39;00m\u001B[38;5;250m \u001B[39m\u001B[34m_fetch\u001B[39m(\u001B[38;5;28mself\u001B[39m):\n\u001B[32m--> \u001B[39m\u001B[32m726\u001B[39m     data = \u001B[38;5;28;43mself\u001B[39;49m\u001B[43m.\u001B[49m\u001B[43m_fetch_data\u001B[49m\u001B[43m(\u001B[49m\u001B[43m)\u001B[49m\n\u001B[32m    727\u001B[39m     submission_listing, comment_listing = data\n\u001B[32m    728\u001B[39m     comment_listing = Listing(\u001B[38;5;28mself\u001B[39m._reddit, _data=comment_listing[\u001B[33m\"\u001B[39m\u001B[33mdata\u001B[39m\u001B[33m\"\u001B[39m])\n",
      "\u001B[36mFile \u001B[39m\u001B[32m~\\Desktop\\estudiar_SC\\.venv\\Lib\\site-packages\\praw\\models\\reddit\\submission.py:744\u001B[39m, in \u001B[36mSubmission._fetch_data\u001B[39m\u001B[34m(self)\u001B[39m\n\u001B[32m    742\u001B[39m params.update(\u001B[38;5;28mself\u001B[39m._additional_fetch_params.copy())\n\u001B[32m    743\u001B[39m path = API_PATH[name].format(**fields)\n\u001B[32m--> \u001B[39m\u001B[32m744\u001B[39m \u001B[38;5;28;01mreturn\u001B[39;00m \u001B[38;5;28;43mself\u001B[39;49m\u001B[43m.\u001B[49m\u001B[43m_reddit\u001B[49m\u001B[43m.\u001B[49m\u001B[43mrequest\u001B[49m\u001B[43m(\u001B[49m\u001B[43mmethod\u001B[49m\u001B[43m=\u001B[49m\u001B[33;43m\"\u001B[39;49m\u001B[33;43mGET\u001B[39;49m\u001B[33;43m\"\u001B[39;49m\u001B[43m,\u001B[49m\u001B[43m \u001B[49m\u001B[43mparams\u001B[49m\u001B[43m=\u001B[49m\u001B[43mparams\u001B[49m\u001B[43m,\u001B[49m\u001B[43m \u001B[49m\u001B[43mpath\u001B[49m\u001B[43m=\u001B[49m\u001B[43mpath\u001B[49m\u001B[43m)\u001B[49m\n",
      "\u001B[36mFile \u001B[39m\u001B[32m~\\Desktop\\estudiar_SC\\.venv\\Lib\\site-packages\\praw\\util\\deprecate_args.py:46\u001B[39m, in \u001B[36m_deprecate_args.<locals>.wrapper.<locals>.wrapped\u001B[39m\u001B[34m(*args, **kwargs)\u001B[39m\n\u001B[32m     39\u001B[39m     arg_string = _generate_arg_string(_old_args[: \u001B[38;5;28mlen\u001B[39m(args)])\n\u001B[32m     40\u001B[39m     warn(\n\u001B[32m     41\u001B[39m         \u001B[33mf\u001B[39m\u001B[33m\"\u001B[39m\u001B[33mPositional arguments for \u001B[39m\u001B[38;5;132;01m{\u001B[39;00mfunc.\u001B[34m__qualname__\u001B[39m\u001B[38;5;132;01m!r}\u001B[39;00m\u001B[33m will no longer be\u001B[39m\u001B[33m\"\u001B[39m\n\u001B[32m     42\u001B[39m         \u001B[33mf\u001B[39m\u001B[33m\"\u001B[39m\u001B[33m supported in PRAW 8.\u001B[39m\u001B[38;5;130;01m\\n\u001B[39;00m\u001B[33mCall this function with \u001B[39m\u001B[38;5;132;01m{\u001B[39;00marg_string\u001B[38;5;132;01m}\u001B[39;00m\u001B[33m.\u001B[39m\u001B[33m\"\u001B[39m,\n\u001B[32m     43\u001B[39m         \u001B[38;5;167;01mDeprecationWarning\u001B[39;00m,\n\u001B[32m     44\u001B[39m         stacklevel=\u001B[32m2\u001B[39m,\n\u001B[32m     45\u001B[39m     )\n\u001B[32m---> \u001B[39m\u001B[32m46\u001B[39m \u001B[38;5;28;01mreturn\u001B[39;00m \u001B[43mfunc\u001B[49m\u001B[43m(\u001B[49m\u001B[43m*\u001B[49m\u001B[43m*\u001B[49m\u001B[38;5;28;43mdict\u001B[39;49m\u001B[43m(\u001B[49m\u001B[38;5;28;43mzip\u001B[39;49m\u001B[43m(\u001B[49m\u001B[43m_old_args\u001B[49m\u001B[43m,\u001B[49m\u001B[43m \u001B[49m\u001B[43margs\u001B[49m\u001B[43m)\u001B[49m\u001B[43m)\u001B[49m\u001B[43m,\u001B[49m\u001B[43m \u001B[49m\u001B[43m*\u001B[49m\u001B[43m*\u001B[49m\u001B[43mkwargs\u001B[49m\u001B[43m)\u001B[49m\n",
      "\u001B[36mFile \u001B[39m\u001B[32m~\\Desktop\\estudiar_SC\\.venv\\Lib\\site-packages\\praw\\reddit.py:963\u001B[39m, in \u001B[36mReddit.request\u001B[39m\u001B[34m(self, data, files, json, method, params, path)\u001B[39m\n\u001B[32m    961\u001B[39m     \u001B[38;5;28;01mraise\u001B[39;00m ClientException(msg)\n\u001B[32m    962\u001B[39m \u001B[38;5;28;01mtry\u001B[39;00m:\n\u001B[32m--> \u001B[39m\u001B[32m963\u001B[39m     \u001B[38;5;28;01mreturn\u001B[39;00m \u001B[38;5;28;43mself\u001B[39;49m\u001B[43m.\u001B[49m\u001B[43m_core\u001B[49m\u001B[43m.\u001B[49m\u001B[43mrequest\u001B[49m\u001B[43m(\u001B[49m\n\u001B[32m    964\u001B[39m \u001B[43m        \u001B[49m\u001B[43mdata\u001B[49m\u001B[43m=\u001B[49m\u001B[43mdata\u001B[49m\u001B[43m,\u001B[49m\n\u001B[32m    965\u001B[39m \u001B[43m        \u001B[49m\u001B[43mfiles\u001B[49m\u001B[43m=\u001B[49m\u001B[43mfiles\u001B[49m\u001B[43m,\u001B[49m\n\u001B[32m    966\u001B[39m \u001B[43m        \u001B[49m\u001B[43mjson\u001B[49m\u001B[43m=\u001B[49m\u001B[43mjson\u001B[49m\u001B[43m,\u001B[49m\n\u001B[32m    967\u001B[39m \u001B[43m        \u001B[49m\u001B[43mmethod\u001B[49m\u001B[43m=\u001B[49m\u001B[43mmethod\u001B[49m\u001B[43m,\u001B[49m\n\u001B[32m    968\u001B[39m \u001B[43m        \u001B[49m\u001B[43mparams\u001B[49m\u001B[43m=\u001B[49m\u001B[43mparams\u001B[49m\u001B[43m,\u001B[49m\n\u001B[32m    969\u001B[39m \u001B[43m        \u001B[49m\u001B[43mpath\u001B[49m\u001B[43m=\u001B[49m\u001B[43mpath\u001B[49m\u001B[43m,\u001B[49m\n\u001B[32m    970\u001B[39m \u001B[43m    \u001B[49m\u001B[43m)\u001B[49m\n\u001B[32m    971\u001B[39m \u001B[38;5;28;01mexcept\u001B[39;00m BadRequest \u001B[38;5;28;01mas\u001B[39;00m exception:\n\u001B[32m    972\u001B[39m     \u001B[38;5;28;01mtry\u001B[39;00m:\n",
      "\u001B[36mFile \u001B[39m\u001B[32m~\\Desktop\\estudiar_SC\\.venv\\Lib\\site-packages\\prawcore\\sessions.py:328\u001B[39m, in \u001B[36mSession.request\u001B[39m\u001B[34m(self, method, path, data, files, json, params, timeout)\u001B[39m\n\u001B[32m    326\u001B[39m     json[\u001B[33m\"\u001B[39m\u001B[33mapi_type\u001B[39m\u001B[33m\"\u001B[39m] = \u001B[33m\"\u001B[39m\u001B[33mjson\u001B[39m\u001B[33m\"\u001B[39m\n\u001B[32m    327\u001B[39m url = urljoin(\u001B[38;5;28mself\u001B[39m._requestor.oauth_url, path)\n\u001B[32m--> \u001B[39m\u001B[32m328\u001B[39m \u001B[38;5;28;01mreturn\u001B[39;00m \u001B[38;5;28;43mself\u001B[39;49m\u001B[43m.\u001B[49m\u001B[43m_request_with_retries\u001B[49m\u001B[43m(\u001B[49m\n\u001B[32m    329\u001B[39m \u001B[43m    \u001B[49m\u001B[43mdata\u001B[49m\u001B[43m=\u001B[49m\u001B[43mdata\u001B[49m\u001B[43m,\u001B[49m\n\u001B[32m    330\u001B[39m \u001B[43m    \u001B[49m\u001B[43mfiles\u001B[49m\u001B[43m=\u001B[49m\u001B[43mfiles\u001B[49m\u001B[43m,\u001B[49m\n\u001B[32m    331\u001B[39m \u001B[43m    \u001B[49m\u001B[43mjson\u001B[49m\u001B[43m=\u001B[49m\u001B[43mjson\u001B[49m\u001B[43m,\u001B[49m\n\u001B[32m    332\u001B[39m \u001B[43m    \u001B[49m\u001B[43mmethod\u001B[49m\u001B[43m=\u001B[49m\u001B[43mmethod\u001B[49m\u001B[43m,\u001B[49m\n\u001B[32m    333\u001B[39m \u001B[43m    \u001B[49m\u001B[43mparams\u001B[49m\u001B[43m=\u001B[49m\u001B[43mparams\u001B[49m\u001B[43m,\u001B[49m\n\u001B[32m    334\u001B[39m \u001B[43m    \u001B[49m\u001B[43mtimeout\u001B[49m\u001B[43m=\u001B[49m\u001B[43mtimeout\u001B[49m\u001B[43m,\u001B[49m\n\u001B[32m    335\u001B[39m \u001B[43m    \u001B[49m\u001B[43murl\u001B[49m\u001B[43m=\u001B[49m\u001B[43murl\u001B[49m\u001B[43m,\u001B[49m\n\u001B[32m    336\u001B[39m \u001B[43m\u001B[49m\u001B[43m)\u001B[49m\n",
      "\u001B[36mFile \u001B[39m\u001B[32m~\\Desktop\\estudiar_SC\\.venv\\Lib\\site-packages\\prawcore\\sessions.py:234\u001B[39m, in \u001B[36mSession._request_with_retries\u001B[39m\u001B[34m(self, data, files, json, method, params, timeout, url, retry_strategy_state)\u001B[39m\n\u001B[32m    232\u001B[39m retry_strategy_state.sleep()\n\u001B[32m    233\u001B[39m \u001B[38;5;28mself\u001B[39m._log_request(data, method, params, url)\n\u001B[32m--> \u001B[39m\u001B[32m234\u001B[39m response, saved_exception = \u001B[38;5;28;43mself\u001B[39;49m\u001B[43m.\u001B[49m\u001B[43m_make_request\u001B[49m\u001B[43m(\u001B[49m\n\u001B[32m    235\u001B[39m \u001B[43m    \u001B[49m\u001B[43mdata\u001B[49m\u001B[43m,\u001B[49m\n\u001B[32m    236\u001B[39m \u001B[43m    \u001B[49m\u001B[43mfiles\u001B[49m\u001B[43m,\u001B[49m\n\u001B[32m    237\u001B[39m \u001B[43m    \u001B[49m\u001B[43mjson\u001B[49m\u001B[43m,\u001B[49m\n\u001B[32m    238\u001B[39m \u001B[43m    \u001B[49m\u001B[43mmethod\u001B[49m\u001B[43m,\u001B[49m\n\u001B[32m    239\u001B[39m \u001B[43m    \u001B[49m\u001B[43mparams\u001B[49m\u001B[43m,\u001B[49m\n\u001B[32m    240\u001B[39m \u001B[43m    \u001B[49m\u001B[43mretry_strategy_state\u001B[49m\u001B[43m,\u001B[49m\n\u001B[32m    241\u001B[39m \u001B[43m    \u001B[49m\u001B[43mtimeout\u001B[49m\u001B[43m,\u001B[49m\n\u001B[32m    242\u001B[39m \u001B[43m    \u001B[49m\u001B[43murl\u001B[49m\u001B[43m,\u001B[49m\n\u001B[32m    243\u001B[39m \u001B[43m\u001B[49m\u001B[43m)\u001B[49m\n\u001B[32m    245\u001B[39m do_retry = \u001B[38;5;28;01mFalse\u001B[39;00m\n\u001B[32m    246\u001B[39m \u001B[38;5;28;01mif\u001B[39;00m response \u001B[38;5;129;01mis\u001B[39;00m \u001B[38;5;129;01mnot\u001B[39;00m \u001B[38;5;28;01mNone\u001B[39;00m \u001B[38;5;129;01mand\u001B[39;00m response.status_code == codes[\u001B[33m\"\u001B[39m\u001B[33munauthorized\u001B[39m\u001B[33m\"\u001B[39m]:\n",
      "\u001B[36mFile \u001B[39m\u001B[32m~\\Desktop\\estudiar_SC\\.venv\\Lib\\site-packages\\prawcore\\sessions.py:186\u001B[39m, in \u001B[36mSession._make_request\u001B[39m\u001B[34m(self, data, files, json, method, params, retry_strategy_state, timeout, url)\u001B[39m\n\u001B[32m    174\u001B[39m \u001B[38;5;28;01mdef\u001B[39;00m\u001B[38;5;250m \u001B[39m\u001B[34m_make_request\u001B[39m(\n\u001B[32m    175\u001B[39m     \u001B[38;5;28mself\u001B[39m,\n\u001B[32m    176\u001B[39m     data: \u001B[38;5;28mlist\u001B[39m[\u001B[38;5;28mtuple\u001B[39m[\u001B[38;5;28mstr\u001B[39m, Any]],\n\u001B[32m   (...)\u001B[39m\u001B[32m    183\u001B[39m     url: \u001B[38;5;28mstr\u001B[39m,\n\u001B[32m    184\u001B[39m ) -> \u001B[38;5;28mtuple\u001B[39m[Response, \u001B[38;5;28;01mNone\u001B[39;00m] | \u001B[38;5;28mtuple\u001B[39m[\u001B[38;5;28;01mNone\u001B[39;00m, \u001B[38;5;167;01mException\u001B[39;00m]:\n\u001B[32m    185\u001B[39m     \u001B[38;5;28;01mtry\u001B[39;00m:\n\u001B[32m--> \u001B[39m\u001B[32m186\u001B[39m         response = \u001B[38;5;28;43mself\u001B[39;49m\u001B[43m.\u001B[49m\u001B[43m_rate_limiter\u001B[49m\u001B[43m.\u001B[49m\u001B[43mcall\u001B[49m\u001B[43m(\u001B[49m\n\u001B[32m    187\u001B[39m \u001B[43m            \u001B[49m\u001B[38;5;28;43mself\u001B[39;49m\u001B[43m.\u001B[49m\u001B[43m_requestor\u001B[49m\u001B[43m.\u001B[49m\u001B[43mrequest\u001B[49m\u001B[43m,\u001B[49m\n\u001B[32m    188\u001B[39m \u001B[43m            \u001B[49m\u001B[38;5;28;43mself\u001B[39;49m\u001B[43m.\u001B[49m\u001B[43m_set_header_callback\u001B[49m\u001B[43m,\u001B[49m\n\u001B[32m    189\u001B[39m \u001B[43m            \u001B[49m\u001B[43mmethod\u001B[49m\u001B[43m,\u001B[49m\n\u001B[32m    190\u001B[39m \u001B[43m            \u001B[49m\u001B[43murl\u001B[49m\u001B[43m,\u001B[49m\n\u001B[32m    191\u001B[39m \u001B[43m            \u001B[49m\u001B[43mallow_redirects\u001B[49m\u001B[43m=\u001B[49m\u001B[38;5;28;43;01mFalse\u001B[39;49;00m\u001B[43m,\u001B[49m\n\u001B[32m    192\u001B[39m \u001B[43m            \u001B[49m\u001B[43mdata\u001B[49m\u001B[43m=\u001B[49m\u001B[43mdata\u001B[49m\u001B[43m,\u001B[49m\n\u001B[32m    193\u001B[39m \u001B[43m            \u001B[49m\u001B[43mfiles\u001B[49m\u001B[43m=\u001B[49m\u001B[43mfiles\u001B[49m\u001B[43m,\u001B[49m\n\u001B[32m    194\u001B[39m \u001B[43m            \u001B[49m\u001B[43mjson\u001B[49m\u001B[43m=\u001B[49m\u001B[43mjson\u001B[49m\u001B[43m,\u001B[49m\n\u001B[32m    195\u001B[39m \u001B[43m            \u001B[49m\u001B[43mparams\u001B[49m\u001B[43m=\u001B[49m\u001B[43mparams\u001B[49m\u001B[43m,\u001B[49m\n\u001B[32m    196\u001B[39m \u001B[43m            \u001B[49m\u001B[43mtimeout\u001B[49m\u001B[43m=\u001B[49m\u001B[43mtimeout\u001B[49m\u001B[43m,\u001B[49m\n\u001B[32m    197\u001B[39m \u001B[43m        \u001B[49m\u001B[43m)\u001B[49m\n\u001B[32m    198\u001B[39m         log.debug(\n\u001B[32m    199\u001B[39m             \u001B[33m\"\u001B[39m\u001B[33mResponse: \u001B[39m\u001B[38;5;132;01m%s\u001B[39;00m\u001B[33m (\u001B[39m\u001B[38;5;132;01m%s\u001B[39;00m\u001B[33m bytes) (rst-\u001B[39m\u001B[38;5;132;01m%s\u001B[39;00m\u001B[33m:rem-\u001B[39m\u001B[38;5;132;01m%s\u001B[39;00m\u001B[33m:used-\u001B[39m\u001B[38;5;132;01m%s\u001B[39;00m\u001B[33m ratelimit) at \u001B[39m\u001B[38;5;132;01m%s\u001B[39;00m\u001B[33m\"\u001B[39m,\n\u001B[32m    200\u001B[39m             response.status_code,\n\u001B[32m   (...)\u001B[39m\u001B[32m    205\u001B[39m             time.time(),\n\u001B[32m    206\u001B[39m         )\n\u001B[32m    207\u001B[39m         \u001B[38;5;28;01mreturn\u001B[39;00m response, \u001B[38;5;28;01mNone\u001B[39;00m\n",
      "\u001B[36mFile \u001B[39m\u001B[32m~\\Desktop\\estudiar_SC\\.venv\\Lib\\site-packages\\prawcore\\rate_limit.py:47\u001B[39m, in \u001B[36mRateLimiter.call\u001B[39m\u001B[34m(self, request_function, set_header_callback, *args, **kwargs)\u001B[39m\n\u001B[32m     45\u001B[39m \u001B[38;5;28mself\u001B[39m.delay()\n\u001B[32m     46\u001B[39m kwargs[\u001B[33m\"\u001B[39m\u001B[33mheaders\u001B[39m\u001B[33m\"\u001B[39m] = set_header_callback()\n\u001B[32m---> \u001B[39m\u001B[32m47\u001B[39m response = \u001B[43mrequest_function\u001B[49m\u001B[43m(\u001B[49m\u001B[43m*\u001B[49m\u001B[43margs\u001B[49m\u001B[43m,\u001B[49m\u001B[43m \u001B[49m\u001B[43m*\u001B[49m\u001B[43m*\u001B[49m\u001B[43mkwargs\u001B[49m\u001B[43m)\u001B[49m\n\u001B[32m     48\u001B[39m \u001B[38;5;28mself\u001B[39m.update(response.headers)\n\u001B[32m     49\u001B[39m \u001B[38;5;28;01mreturn\u001B[39;00m response\n",
      "\u001B[36mFile \u001B[39m\u001B[32m~\\Desktop\\estudiar_SC\\.venv\\Lib\\site-packages\\prawcore\\requestor.py:68\u001B[39m, in \u001B[36mRequestor.request\u001B[39m\u001B[34m(self, timeout, *args, **kwargs)\u001B[39m\n\u001B[32m     66\u001B[39m \u001B[38;5;250m\u001B[39m\u001B[33;03m\"\"\"Issue the HTTP request capturing any errors that may occur.\"\"\"\u001B[39;00m\n\u001B[32m     67\u001B[39m \u001B[38;5;28;01mtry\u001B[39;00m:\n\u001B[32m---> \u001B[39m\u001B[32m68\u001B[39m     \u001B[38;5;28;01mreturn\u001B[39;00m \u001B[38;5;28;43mself\u001B[39;49m\u001B[43m.\u001B[49m\u001B[43m_http\u001B[49m\u001B[43m.\u001B[49m\u001B[43mrequest\u001B[49m\u001B[43m(\u001B[49m\u001B[43m*\u001B[49m\u001B[43margs\u001B[49m\u001B[43m,\u001B[49m\u001B[43m \u001B[49m\u001B[43mtimeout\u001B[49m\u001B[43m=\u001B[49m\u001B[43mtimeout\u001B[49m\u001B[43m \u001B[49m\u001B[38;5;129;43;01mor\u001B[39;49;00m\u001B[43m \u001B[49m\u001B[38;5;28;43mself\u001B[39;49m\u001B[43m.\u001B[49m\u001B[43mtimeout\u001B[49m\u001B[43m,\u001B[49m\u001B[43m \u001B[49m\u001B[43m*\u001B[49m\u001B[43m*\u001B[49m\u001B[43mkwargs\u001B[49m\u001B[43m)\u001B[49m\n\u001B[32m     69\u001B[39m \u001B[38;5;28;01mexcept\u001B[39;00m \u001B[38;5;167;01mException\u001B[39;00m \u001B[38;5;28;01mas\u001B[39;00m exc:  \u001B[38;5;66;03m# noqa: BLE001\u001B[39;00m\n\u001B[32m     70\u001B[39m     \u001B[38;5;28;01mraise\u001B[39;00m RequestException(exc, args, kwargs) \u001B[38;5;28;01mfrom\u001B[39;00m\u001B[38;5;250m \u001B[39m\u001B[38;5;28;01mNone\u001B[39;00m\n",
      "\u001B[36mFile \u001B[39m\u001B[32m~\\Desktop\\estudiar_SC\\.venv\\Lib\\site-packages\\requests\\sessions.py:589\u001B[39m, in \u001B[36mSession.request\u001B[39m\u001B[34m(self, method, url, params, data, headers, cookies, files, auth, timeout, allow_redirects, proxies, hooks, stream, verify, cert, json)\u001B[39m\n\u001B[32m    584\u001B[39m send_kwargs = {\n\u001B[32m    585\u001B[39m     \u001B[33m\"\u001B[39m\u001B[33mtimeout\u001B[39m\u001B[33m\"\u001B[39m: timeout,\n\u001B[32m    586\u001B[39m     \u001B[33m\"\u001B[39m\u001B[33mallow_redirects\u001B[39m\u001B[33m\"\u001B[39m: allow_redirects,\n\u001B[32m    587\u001B[39m }\n\u001B[32m    588\u001B[39m send_kwargs.update(settings)\n\u001B[32m--> \u001B[39m\u001B[32m589\u001B[39m resp = \u001B[38;5;28;43mself\u001B[39;49m\u001B[43m.\u001B[49m\u001B[43msend\u001B[49m\u001B[43m(\u001B[49m\u001B[43mprep\u001B[49m\u001B[43m,\u001B[49m\u001B[43m \u001B[49m\u001B[43m*\u001B[49m\u001B[43m*\u001B[49m\u001B[43msend_kwargs\u001B[49m\u001B[43m)\u001B[49m\n\u001B[32m    591\u001B[39m \u001B[38;5;28;01mreturn\u001B[39;00m resp\n",
      "\u001B[36mFile \u001B[39m\u001B[32m~\\Desktop\\estudiar_SC\\.venv\\Lib\\site-packages\\requests\\sessions.py:703\u001B[39m, in \u001B[36mSession.send\u001B[39m\u001B[34m(self, request, **kwargs)\u001B[39m\n\u001B[32m    700\u001B[39m start = preferred_clock()\n\u001B[32m    702\u001B[39m \u001B[38;5;66;03m# Send the request\u001B[39;00m\n\u001B[32m--> \u001B[39m\u001B[32m703\u001B[39m r = \u001B[43madapter\u001B[49m\u001B[43m.\u001B[49m\u001B[43msend\u001B[49m\u001B[43m(\u001B[49m\u001B[43mrequest\u001B[49m\u001B[43m,\u001B[49m\u001B[43m \u001B[49m\u001B[43m*\u001B[49m\u001B[43m*\u001B[49m\u001B[43mkwargs\u001B[49m\u001B[43m)\u001B[49m\n\u001B[32m    705\u001B[39m \u001B[38;5;66;03m# Total elapsed time of the request (approximately)\u001B[39;00m\n\u001B[32m    706\u001B[39m elapsed = preferred_clock() - start\n",
      "\u001B[36mFile \u001B[39m\u001B[32m~\\Desktop\\estudiar_SC\\.venv\\Lib\\site-packages\\requests\\adapters.py:667\u001B[39m, in \u001B[36mHTTPAdapter.send\u001B[39m\u001B[34m(self, request, stream, timeout, verify, cert, proxies)\u001B[39m\n\u001B[32m    664\u001B[39m     timeout = TimeoutSauce(connect=timeout, read=timeout)\n\u001B[32m    666\u001B[39m \u001B[38;5;28;01mtry\u001B[39;00m:\n\u001B[32m--> \u001B[39m\u001B[32m667\u001B[39m     resp = \u001B[43mconn\u001B[49m\u001B[43m.\u001B[49m\u001B[43murlopen\u001B[49m\u001B[43m(\u001B[49m\n\u001B[32m    668\u001B[39m \u001B[43m        \u001B[49m\u001B[43mmethod\u001B[49m\u001B[43m=\u001B[49m\u001B[43mrequest\u001B[49m\u001B[43m.\u001B[49m\u001B[43mmethod\u001B[49m\u001B[43m,\u001B[49m\n\u001B[32m    669\u001B[39m \u001B[43m        \u001B[49m\u001B[43murl\u001B[49m\u001B[43m=\u001B[49m\u001B[43murl\u001B[49m\u001B[43m,\u001B[49m\n\u001B[32m    670\u001B[39m \u001B[43m        \u001B[49m\u001B[43mbody\u001B[49m\u001B[43m=\u001B[49m\u001B[43mrequest\u001B[49m\u001B[43m.\u001B[49m\u001B[43mbody\u001B[49m\u001B[43m,\u001B[49m\n\u001B[32m    671\u001B[39m \u001B[43m        \u001B[49m\u001B[43mheaders\u001B[49m\u001B[43m=\u001B[49m\u001B[43mrequest\u001B[49m\u001B[43m.\u001B[49m\u001B[43mheaders\u001B[49m\u001B[43m,\u001B[49m\n\u001B[32m    672\u001B[39m \u001B[43m        \u001B[49m\u001B[43mredirect\u001B[49m\u001B[43m=\u001B[49m\u001B[38;5;28;43;01mFalse\u001B[39;49;00m\u001B[43m,\u001B[49m\n\u001B[32m    673\u001B[39m \u001B[43m        \u001B[49m\u001B[43massert_same_host\u001B[49m\u001B[43m=\u001B[49m\u001B[38;5;28;43;01mFalse\u001B[39;49;00m\u001B[43m,\u001B[49m\n\u001B[32m    674\u001B[39m \u001B[43m        \u001B[49m\u001B[43mpreload_content\u001B[49m\u001B[43m=\u001B[49m\u001B[38;5;28;43;01mFalse\u001B[39;49;00m\u001B[43m,\u001B[49m\n\u001B[32m    675\u001B[39m \u001B[43m        \u001B[49m\u001B[43mdecode_content\u001B[49m\u001B[43m=\u001B[49m\u001B[38;5;28;43;01mFalse\u001B[39;49;00m\u001B[43m,\u001B[49m\n\u001B[32m    676\u001B[39m \u001B[43m        \u001B[49m\u001B[43mretries\u001B[49m\u001B[43m=\u001B[49m\u001B[38;5;28;43mself\u001B[39;49m\u001B[43m.\u001B[49m\u001B[43mmax_retries\u001B[49m\u001B[43m,\u001B[49m\n\u001B[32m    677\u001B[39m \u001B[43m        \u001B[49m\u001B[43mtimeout\u001B[49m\u001B[43m=\u001B[49m\u001B[43mtimeout\u001B[49m\u001B[43m,\u001B[49m\n\u001B[32m    678\u001B[39m \u001B[43m        \u001B[49m\u001B[43mchunked\u001B[49m\u001B[43m=\u001B[49m\u001B[43mchunked\u001B[49m\u001B[43m,\u001B[49m\n\u001B[32m    679\u001B[39m \u001B[43m    \u001B[49m\u001B[43m)\u001B[49m\n\u001B[32m    681\u001B[39m \u001B[38;5;28;01mexcept\u001B[39;00m (ProtocolError, \u001B[38;5;167;01mOSError\u001B[39;00m) \u001B[38;5;28;01mas\u001B[39;00m err:\n\u001B[32m    682\u001B[39m     \u001B[38;5;28;01mraise\u001B[39;00m \u001B[38;5;167;01mConnectionError\u001B[39;00m(err, request=request)\n",
      "\u001B[36mFile \u001B[39m\u001B[32m~\\Desktop\\estudiar_SC\\.venv\\Lib\\site-packages\\urllib3\\connectionpool.py:787\u001B[39m, in \u001B[36mHTTPConnectionPool.urlopen\u001B[39m\u001B[34m(self, method, url, body, headers, retries, redirect, assert_same_host, timeout, pool_timeout, release_conn, chunked, body_pos, preload_content, decode_content, **response_kw)\u001B[39m\n\u001B[32m    784\u001B[39m response_conn = conn \u001B[38;5;28;01mif\u001B[39;00m \u001B[38;5;129;01mnot\u001B[39;00m release_conn \u001B[38;5;28;01melse\u001B[39;00m \u001B[38;5;28;01mNone\u001B[39;00m\n\u001B[32m    786\u001B[39m \u001B[38;5;66;03m# Make the request on the HTTPConnection object\u001B[39;00m\n\u001B[32m--> \u001B[39m\u001B[32m787\u001B[39m response = \u001B[38;5;28;43mself\u001B[39;49m\u001B[43m.\u001B[49m\u001B[43m_make_request\u001B[49m\u001B[43m(\u001B[49m\n\u001B[32m    788\u001B[39m \u001B[43m    \u001B[49m\u001B[43mconn\u001B[49m\u001B[43m,\u001B[49m\n\u001B[32m    789\u001B[39m \u001B[43m    \u001B[49m\u001B[43mmethod\u001B[49m\u001B[43m,\u001B[49m\n\u001B[32m    790\u001B[39m \u001B[43m    \u001B[49m\u001B[43murl\u001B[49m\u001B[43m,\u001B[49m\n\u001B[32m    791\u001B[39m \u001B[43m    \u001B[49m\u001B[43mtimeout\u001B[49m\u001B[43m=\u001B[49m\u001B[43mtimeout_obj\u001B[49m\u001B[43m,\u001B[49m\n\u001B[32m    792\u001B[39m \u001B[43m    \u001B[49m\u001B[43mbody\u001B[49m\u001B[43m=\u001B[49m\u001B[43mbody\u001B[49m\u001B[43m,\u001B[49m\n\u001B[32m    793\u001B[39m \u001B[43m    \u001B[49m\u001B[43mheaders\u001B[49m\u001B[43m=\u001B[49m\u001B[43mheaders\u001B[49m\u001B[43m,\u001B[49m\n\u001B[32m    794\u001B[39m \u001B[43m    \u001B[49m\u001B[43mchunked\u001B[49m\u001B[43m=\u001B[49m\u001B[43mchunked\u001B[49m\u001B[43m,\u001B[49m\n\u001B[32m    795\u001B[39m \u001B[43m    \u001B[49m\u001B[43mretries\u001B[49m\u001B[43m=\u001B[49m\u001B[43mretries\u001B[49m\u001B[43m,\u001B[49m\n\u001B[32m    796\u001B[39m \u001B[43m    \u001B[49m\u001B[43mresponse_conn\u001B[49m\u001B[43m=\u001B[49m\u001B[43mresponse_conn\u001B[49m\u001B[43m,\u001B[49m\n\u001B[32m    797\u001B[39m \u001B[43m    \u001B[49m\u001B[43mpreload_content\u001B[49m\u001B[43m=\u001B[49m\u001B[43mpreload_content\u001B[49m\u001B[43m,\u001B[49m\n\u001B[32m    798\u001B[39m \u001B[43m    \u001B[49m\u001B[43mdecode_content\u001B[49m\u001B[43m=\u001B[49m\u001B[43mdecode_content\u001B[49m\u001B[43m,\u001B[49m\n\u001B[32m    799\u001B[39m \u001B[43m    \u001B[49m\u001B[43m*\u001B[49m\u001B[43m*\u001B[49m\u001B[43mresponse_kw\u001B[49m\u001B[43m,\u001B[49m\n\u001B[32m    800\u001B[39m \u001B[43m\u001B[49m\u001B[43m)\u001B[49m\n\u001B[32m    802\u001B[39m \u001B[38;5;66;03m# Everything went great!\u001B[39;00m\n\u001B[32m    803\u001B[39m clean_exit = \u001B[38;5;28;01mTrue\u001B[39;00m\n",
      "\u001B[36mFile \u001B[39m\u001B[32m~\\Desktop\\estudiar_SC\\.venv\\Lib\\site-packages\\urllib3\\connectionpool.py:534\u001B[39m, in \u001B[36mHTTPConnectionPool._make_request\u001B[39m\u001B[34m(self, conn, method, url, body, headers, retries, timeout, chunked, response_conn, preload_content, decode_content, enforce_content_length)\u001B[39m\n\u001B[32m    532\u001B[39m \u001B[38;5;66;03m# Receive the response from the server\u001B[39;00m\n\u001B[32m    533\u001B[39m \u001B[38;5;28;01mtry\u001B[39;00m:\n\u001B[32m--> \u001B[39m\u001B[32m534\u001B[39m     response = \u001B[43mconn\u001B[49m\u001B[43m.\u001B[49m\u001B[43mgetresponse\u001B[49m\u001B[43m(\u001B[49m\u001B[43m)\u001B[49m\n\u001B[32m    535\u001B[39m \u001B[38;5;28;01mexcept\u001B[39;00m (BaseSSLError, \u001B[38;5;167;01mOSError\u001B[39;00m) \u001B[38;5;28;01mas\u001B[39;00m e:\n\u001B[32m    536\u001B[39m     \u001B[38;5;28mself\u001B[39m._raise_timeout(err=e, url=url, timeout_value=read_timeout)\n",
      "\u001B[36mFile \u001B[39m\u001B[32m~\\Desktop\\estudiar_SC\\.venv\\Lib\\site-packages\\urllib3\\connection.py:516\u001B[39m, in \u001B[36mHTTPConnection.getresponse\u001B[39m\u001B[34m(self)\u001B[39m\n\u001B[32m    513\u001B[39m _shutdown = \u001B[38;5;28mgetattr\u001B[39m(\u001B[38;5;28mself\u001B[39m.sock, \u001B[33m\"\u001B[39m\u001B[33mshutdown\u001B[39m\u001B[33m\"\u001B[39m, \u001B[38;5;28;01mNone\u001B[39;00m)\n\u001B[32m    515\u001B[39m \u001B[38;5;66;03m# Get the response from http.client.HTTPConnection\u001B[39;00m\n\u001B[32m--> \u001B[39m\u001B[32m516\u001B[39m httplib_response = \u001B[38;5;28;43msuper\u001B[39;49m\u001B[43m(\u001B[49m\u001B[43m)\u001B[49m\u001B[43m.\u001B[49m\u001B[43mgetresponse\u001B[49m\u001B[43m(\u001B[49m\u001B[43m)\u001B[49m\n\u001B[32m    518\u001B[39m \u001B[38;5;28;01mtry\u001B[39;00m:\n\u001B[32m    519\u001B[39m     assert_header_parsing(httplib_response.msg)\n",
      "\u001B[36mFile \u001B[39m\u001B[32m~\\AppData\\Local\\Programs\\Python\\Python312\\Lib\\http\\client.py:1419\u001B[39m, in \u001B[36mHTTPConnection.getresponse\u001B[39m\u001B[34m(self)\u001B[39m\n\u001B[32m   1417\u001B[39m \u001B[38;5;28;01mtry\u001B[39;00m:\n\u001B[32m   1418\u001B[39m     \u001B[38;5;28;01mtry\u001B[39;00m:\n\u001B[32m-> \u001B[39m\u001B[32m1419\u001B[39m         \u001B[43mresponse\u001B[49m\u001B[43m.\u001B[49m\u001B[43mbegin\u001B[49m\u001B[43m(\u001B[49m\u001B[43m)\u001B[49m\n\u001B[32m   1420\u001B[39m     \u001B[38;5;28;01mexcept\u001B[39;00m \u001B[38;5;167;01mConnectionError\u001B[39;00m:\n\u001B[32m   1421\u001B[39m         \u001B[38;5;28mself\u001B[39m.close()\n",
      "\u001B[36mFile \u001B[39m\u001B[32m~\\AppData\\Local\\Programs\\Python\\Python312\\Lib\\http\\client.py:331\u001B[39m, in \u001B[36mHTTPResponse.begin\u001B[39m\u001B[34m(self)\u001B[39m\n\u001B[32m    329\u001B[39m \u001B[38;5;66;03m# read until we get a non-100 response\u001B[39;00m\n\u001B[32m    330\u001B[39m \u001B[38;5;28;01mwhile\u001B[39;00m \u001B[38;5;28;01mTrue\u001B[39;00m:\n\u001B[32m--> \u001B[39m\u001B[32m331\u001B[39m     version, status, reason = \u001B[38;5;28;43mself\u001B[39;49m\u001B[43m.\u001B[49m\u001B[43m_read_status\u001B[49m\u001B[43m(\u001B[49m\u001B[43m)\u001B[49m\n\u001B[32m    332\u001B[39m     \u001B[38;5;28;01mif\u001B[39;00m status != CONTINUE:\n\u001B[32m    333\u001B[39m         \u001B[38;5;28;01mbreak\u001B[39;00m\n",
      "\u001B[36mFile \u001B[39m\u001B[32m~\\AppData\\Local\\Programs\\Python\\Python312\\Lib\\http\\client.py:292\u001B[39m, in \u001B[36mHTTPResponse._read_status\u001B[39m\u001B[34m(self)\u001B[39m\n\u001B[32m    291\u001B[39m \u001B[38;5;28;01mdef\u001B[39;00m\u001B[38;5;250m \u001B[39m\u001B[34m_read_status\u001B[39m(\u001B[38;5;28mself\u001B[39m):\n\u001B[32m--> \u001B[39m\u001B[32m292\u001B[39m     line = \u001B[38;5;28mstr\u001B[39m(\u001B[38;5;28;43mself\u001B[39;49m\u001B[43m.\u001B[49m\u001B[43mfp\u001B[49m\u001B[43m.\u001B[49m\u001B[43mreadline\u001B[49m\u001B[43m(\u001B[49m\u001B[43m_MAXLINE\u001B[49m\u001B[43m \u001B[49m\u001B[43m+\u001B[49m\u001B[43m \u001B[49m\u001B[32;43m1\u001B[39;49m\u001B[43m)\u001B[49m, \u001B[33m\"\u001B[39m\u001B[33miso-8859-1\u001B[39m\u001B[33m\"\u001B[39m)\n\u001B[32m    293\u001B[39m     \u001B[38;5;28;01mif\u001B[39;00m \u001B[38;5;28mlen\u001B[39m(line) > _MAXLINE:\n\u001B[32m    294\u001B[39m         \u001B[38;5;28;01mraise\u001B[39;00m LineTooLong(\u001B[33m\"\u001B[39m\u001B[33mstatus line\u001B[39m\u001B[33m\"\u001B[39m)\n",
      "\u001B[36mFile \u001B[39m\u001B[32m~\\AppData\\Local\\Programs\\Python\\Python312\\Lib\\socket.py:707\u001B[39m, in \u001B[36mSocketIO.readinto\u001B[39m\u001B[34m(self, b)\u001B[39m\n\u001B[32m    705\u001B[39m \u001B[38;5;28;01mwhile\u001B[39;00m \u001B[38;5;28;01mTrue\u001B[39;00m:\n\u001B[32m    706\u001B[39m     \u001B[38;5;28;01mtry\u001B[39;00m:\n\u001B[32m--> \u001B[39m\u001B[32m707\u001B[39m         \u001B[38;5;28;01mreturn\u001B[39;00m \u001B[38;5;28;43mself\u001B[39;49m\u001B[43m.\u001B[49m\u001B[43m_sock\u001B[49m\u001B[43m.\u001B[49m\u001B[43mrecv_into\u001B[49m\u001B[43m(\u001B[49m\u001B[43mb\u001B[49m\u001B[43m)\u001B[49m\n\u001B[32m    708\u001B[39m     \u001B[38;5;28;01mexcept\u001B[39;00m timeout:\n\u001B[32m    709\u001B[39m         \u001B[38;5;28mself\u001B[39m._timeout_occurred = \u001B[38;5;28;01mTrue\u001B[39;00m\n",
      "\u001B[36mFile \u001B[39m\u001B[32m~\\AppData\\Local\\Programs\\Python\\Python312\\Lib\\ssl.py:1253\u001B[39m, in \u001B[36mSSLSocket.recv_into\u001B[39m\u001B[34m(self, buffer, nbytes, flags)\u001B[39m\n\u001B[32m   1249\u001B[39m     \u001B[38;5;28;01mif\u001B[39;00m flags != \u001B[32m0\u001B[39m:\n\u001B[32m   1250\u001B[39m         \u001B[38;5;28;01mraise\u001B[39;00m \u001B[38;5;167;01mValueError\u001B[39;00m(\n\u001B[32m   1251\u001B[39m           \u001B[33m\"\u001B[39m\u001B[33mnon-zero flags not allowed in calls to recv_into() on \u001B[39m\u001B[38;5;132;01m%s\u001B[39;00m\u001B[33m\"\u001B[39m %\n\u001B[32m   1252\u001B[39m           \u001B[38;5;28mself\u001B[39m.\u001B[34m__class__\u001B[39m)\n\u001B[32m-> \u001B[39m\u001B[32m1253\u001B[39m     \u001B[38;5;28;01mreturn\u001B[39;00m \u001B[38;5;28;43mself\u001B[39;49m\u001B[43m.\u001B[49m\u001B[43mread\u001B[49m\u001B[43m(\u001B[49m\u001B[43mnbytes\u001B[49m\u001B[43m,\u001B[49m\u001B[43m \u001B[49m\u001B[43mbuffer\u001B[49m\u001B[43m)\u001B[49m\n\u001B[32m   1254\u001B[39m \u001B[38;5;28;01melse\u001B[39;00m:\n\u001B[32m   1255\u001B[39m     \u001B[38;5;28;01mreturn\u001B[39;00m \u001B[38;5;28msuper\u001B[39m().recv_into(buffer, nbytes, flags)\n",
      "\u001B[36mFile \u001B[39m\u001B[32m~\\AppData\\Local\\Programs\\Python\\Python312\\Lib\\ssl.py:1105\u001B[39m, in \u001B[36mSSLSocket.read\u001B[39m\u001B[34m(self, len, buffer)\u001B[39m\n\u001B[32m   1103\u001B[39m \u001B[38;5;28;01mtry\u001B[39;00m:\n\u001B[32m   1104\u001B[39m     \u001B[38;5;28;01mif\u001B[39;00m buffer \u001B[38;5;129;01mis\u001B[39;00m \u001B[38;5;129;01mnot\u001B[39;00m \u001B[38;5;28;01mNone\u001B[39;00m:\n\u001B[32m-> \u001B[39m\u001B[32m1105\u001B[39m         \u001B[38;5;28;01mreturn\u001B[39;00m \u001B[38;5;28;43mself\u001B[39;49m\u001B[43m.\u001B[49m\u001B[43m_sslobj\u001B[49m\u001B[43m.\u001B[49m\u001B[43mread\u001B[49m\u001B[43m(\u001B[49m\u001B[38;5;28;43mlen\u001B[39;49m\u001B[43m,\u001B[49m\u001B[43m \u001B[49m\u001B[43mbuffer\u001B[49m\u001B[43m)\u001B[49m\n\u001B[32m   1106\u001B[39m     \u001B[38;5;28;01melse\u001B[39;00m:\n\u001B[32m   1107\u001B[39m         \u001B[38;5;28;01mreturn\u001B[39;00m \u001B[38;5;28mself\u001B[39m._sslobj.read(\u001B[38;5;28mlen\u001B[39m)\n",
      "\u001B[31mKeyboardInterrupt\u001B[39m: "
     ]
    }
   ],
   "execution_count": 141
  },
  {
   "metadata": {
    "ExecuteTime": {
     "end_time": "2025-04-21T09:52:21.002064Z",
     "start_time": "2025-04-21T09:52:20.998296Z"
    }
   },
   "cell_type": "code",
   "source": [
    "#dame las estadisticas del grafo\n",
    "nx.number_of_nodes(grafo)"
   ],
   "id": "c79e88651698bbab",
   "outputs": [
    {
     "data": {
      "text/plain": [
       "1555"
      ]
     },
     "execution_count": 95,
     "metadata": {},
     "output_type": "execute_result"
    }
   ],
   "execution_count": 95
  },
  {
   "metadata": {
    "ExecuteTime": {
     "end_time": "2025-04-21T10:29:41.337985Z",
     "start_time": "2025-04-21T10:29:41.319495Z"
    }
   },
   "cell_type": "code",
   "source": [
    "#exporta el grafo a un archivo GML\n",
    "\n",
    "nx.write_gml(grafo, \"grafo.gml\")"
   ],
   "id": "6e1f14fae099e157",
   "outputs": [],
   "execution_count": 135
  },
  {
   "metadata": {
    "ExecuteTime": {
     "end_time": "2025-04-21T18:30:48.490311Z",
     "start_time": "2025-04-21T18:30:48.483259Z"
    }
   },
   "cell_type": "code",
   "source": [
    "lista_comunes = [\"critical thinking\", \"question everything\", \"pseudoscience\",  \"debunk\", \"denial\", \"conspiracy\"]\n",
    "\n",
    "subreddit_keywords = {\n",
    "    'FlatEarth': [\n",
    "        'flat earth theory',\n",
    "        'ice wall discovery',\n",
    "        'antarctic cover‑up',\n",
    "        'horizon anomaly',\n",
    "        'ground is level',\n",
    "        *lista_comunes\n",
    "    ],\n",
    "    'moonlandinghoax': [\n",
    "        'fake lunar mission',\n",
    "        'studio filmed moon',\n",
    "        'camera glitch proof',\n",
    "        'lunar module lies',\n",
    "        'NASA backlot conspiracy',\n",
    "        *lista_comunes\n",
    "    ],\n",
    "    'aliens': [\n",
    "        'ufo disclosure',\n",
    "        'area 51 secrets',\n",
    "        'extraterrestrial visit',\n",
    "        'crop circle proof',\n",
    "        'alien cover‑up',\n",
    "        *lista_comunes\n",
    "    ],\n",
    "    'No5G': [\n",
    "        '5g health risks',\n",
    "        'radiation cover‑up',\n",
    "        'cell tower danger',\n",
    "        'electromagnetic fraud',\n",
    "        'hidden toxicity',\n",
    "        *lista_comunes\n",
    "    ],\n",
    "    'chemtrails': [\n",
    "        'chemical spraying',\n",
    "        'aerosol cover‑up',\n",
    "        'geoengineering proof',\n",
    "        'toxics in sky',\n",
    "        'secret air program',\n",
    "        *lista_comunes\n",
    "    ],\n",
    "    'antiVaxx': [\n",
    "        'big pharma lies',\n",
    "        'vaccine injury cover‑up',\n",
    "        'unreported side effects',\n",
    "        'injection fraud',\n",
    "        'medical experimentation',\n",
    "        *lista_comunes\n",
    "    ],\n",
    "    'pesticideconspiracy': [\n",
    "        'pesticide runoff cover‑up',\n",
    "        'agrochemical conspiracy',\n",
    "        'glyphosate danger',\n",
    "        'farmers whistleblower',\n",
    "        'toxic crop spraying',\n",
    "        *lista_comunes\n",
    "    ],\n",
    "    'CovidConspiracy': [\n",
    "        'plandemic proof',\n",
    "        'virus lab leak cover‑up',\n",
    "        'mask mandate fraud',\n",
    "        'PCR gate',\n",
    "        'vaccine passport tyranny',\n",
    "        *lista_comunes\n",
    "    ],\n",
    "    'climatechangeisalie': [\n",
    "        'co2 myth',\n",
    "        'green agenda',\n",
    "        'warming scam',\n",
    "        'carbon tax cover‑up',\n",
    "        'environment fraud',\n",
    "        *lista_comunes\n",
    "    ],\n",
    "    'newworldorder': [\n",
    "        'one world government',\n",
    "        'global elite plan',\n",
    "        'shadow government proof',\n",
    "        'population control agenda',\n",
    "        'nwo conspiracy',\n",
    "        *lista_comunes\n",
    "    ],\n",
    "    \n",
    "    'SimulationTheory': [\n",
    "        'we live in a simulation',\n",
    "        'matrix is real',\n",
    "        'simulated reality proof',\n",
    "        'glitch in the matrix',\n",
    "        'reality is fake',\n",
    "        'computer-generated universe',\n",
    "        'consciousness and simulation',\n",
    "        'base reality hypothesis',\n",
    "        'elon musk simulation',\n",
    "        'philosophical zombies',\n",
    "        *lista_comunes\n",
    "    ],\n",
    "    'Plandemic': [\n",
    "        'covid was planned',\n",
    "        'virus patent evidence',\n",
    "        'event 201 proof',\n",
    "        'pandemic simulation cover-up',\n",
    "        'vaccine agenda',\n",
    "        'plandemic documentary',\n",
    "        'mass control operation',\n",
    "        'false positive PCR',\n",
    "        'big pharma profits',\n",
    "        'government fear propaganda',\n",
    "        *lista_comunes\n",
    "    ],\n",
    "    'DebateHolocaust': [\n",
    "        'holocaust exaggeration claims',\n",
    "        'gas chamber doubts',\n",
    "        'revisionist history',\n",
    "        'ww2 narrative question',\n",
    "        'auschwitz controversy',\n",
    "        'truth about holocaust',\n",
    "        'holocaust denial arguments',\n",
    "        'zionist agenda claims',\n",
    "        'nuremberg trials critique',\n",
    "        'forbidden historical facts',\n",
    "        *lista_comunes\n",
    "    ],\n",
    "    'Epstein': [\n",
    "        'epstein didn’t kill himself',\n",
    "        'epstein client list',\n",
    "        'ghislaine maxwell secrets',\n",
    "        'elite pedophile ring',\n",
    "        'epstein island evidence',\n",
    "        'blackmail operation',\n",
    "        'intelligence agency ties',\n",
    "        'jeffrey epstein cover‑up',\n",
    "        'flight logs secrets',\n",
    "        'missing surveillance tapes',\n",
    "        *lista_comunes\n",
    "    ]\n",
    "}"
   ],
   "id": "5112334223a1f451",
   "outputs": [],
   "execution_count": 14
  },
  {
   "metadata": {
    "ExecuteTime": {
     "end_time": "2025-04-21T19:20:07.079831Z",
     "start_time": "2025-04-21T18:30:48.987324Z"
    }
   },
   "cell_type": "code",
   "source": [
    "#crea un grafo vacio\n",
    "grafo = nx.Graph()\n",
    "\n",
    "for subreddit, queries in subreddit_keywords.items():\n",
    "    scrapear_subreddit(subreddit, queries, n_post = 10)\n",
    "\n",
    "# Exporta el grafo a un archivo GML\n",
    "nx.write_gml(grafo, \"grafo.gml\")"
   ],
   "id": "f66f0904a201ec9b",
   "outputs": [
    {
     "name": "stdout",
     "output_type": "stream",
     "text": [
      "Buscando en el subreddit FlatEarth con la consulta 'flat earth theory'\n",
      "Buscando en el subreddit FlatEarth con la consulta 'ice wall discovery'\n",
      "Buscando en el subreddit FlatEarth con la consulta 'antarctic cover‑up'\n",
      "Buscando en el subreddit FlatEarth con la consulta 'horizon anomaly'\n",
      "Buscando en el subreddit FlatEarth con la consulta 'ground is level'\n",
      "Buscando en el subreddit FlatEarth con la consulta 'critical thinking'\n",
      "Buscando en el subreddit FlatEarth con la consulta 'question everything'\n",
      "Buscando en el subreddit FlatEarth con la consulta 'pseudoscience'\n",
      "Buscando en el subreddit FlatEarth con la consulta 'debunk'\n",
      "Buscando en el subreddit FlatEarth con la consulta 'denial'\n",
      "Buscando en el subreddit FlatEarth con la consulta 'conspiracy'\n"
     ]
    },
    {
     "name": "stderr",
     "output_type": "stream",
     "text": [
      "100%|██████████| 102/102 [04:56<00:00,  2.91s/it]\n"
     ]
    },
    {
     "name": "stdout",
     "output_type": "stream",
     "text": [
      "Buscando en el subreddit moonlandinghoax con la consulta 'fake lunar mission'\n",
      "Buscando en el subreddit moonlandinghoax con la consulta 'studio filmed moon'\n",
      "Buscando en el subreddit moonlandinghoax con la consulta 'camera glitch proof'\n",
      "Buscando en el subreddit moonlandinghoax con la consulta 'lunar module lies'\n",
      "Buscando en el subreddit moonlandinghoax con la consulta 'NASA backlot conspiracy'\n",
      "Buscando en el subreddit moonlandinghoax con la consulta 'critical thinking'\n",
      "Buscando en el subreddit moonlandinghoax con la consulta 'question everything'\n",
      "Buscando en el subreddit moonlandinghoax con la consulta 'pseudoscience'\n",
      "Buscando en el subreddit moonlandinghoax con la consulta 'debunk'\n",
      "Buscando en el subreddit moonlandinghoax con la consulta 'denial'\n",
      "Buscando en el subreddit moonlandinghoax con la consulta 'conspiracy'\n"
     ]
    },
    {
     "name": "stderr",
     "output_type": "stream",
     "text": [
      "100%|██████████| 21/21 [00:13<00:00,  1.52it/s]\n"
     ]
    },
    {
     "name": "stdout",
     "output_type": "stream",
     "text": [
      "Buscando en el subreddit aliens con la consulta 'ufo disclosure'\n",
      "Buscando en el subreddit aliens con la consulta 'area 51 secrets'\n",
      "Buscando en el subreddit aliens con la consulta 'extraterrestrial visit'\n",
      "Buscando en el subreddit aliens con la consulta 'crop circle proof'\n",
      "Buscando en el subreddit aliens con la consulta 'alien cover‑up'\n",
      "Buscando en el subreddit aliens con la consulta 'critical thinking'\n",
      "Buscando en el subreddit aliens con la consulta 'question everything'\n",
      "Buscando en el subreddit aliens con la consulta 'pseudoscience'\n",
      "Buscando en el subreddit aliens con la consulta 'debunk'\n",
      "Buscando en el subreddit aliens con la consulta 'denial'\n",
      "Buscando en el subreddit aliens con la consulta 'conspiracy'\n"
     ]
    },
    {
     "name": "stderr",
     "output_type": "stream",
     "text": [
      " 19%|█▊        | 20/107 [03:18<05:03,  3.48s/it] "
     ]
    },
    {
     "name": "stdout",
     "output_type": "stream",
     "text": [
      "demasiadas peticiones\n"
     ]
    },
    {
     "name": "stderr",
     "output_type": "stream",
     "text": [
      " 60%|█████▉    | 64/107 [13:33<08:51, 12.35s/it]"
     ]
    },
    {
     "name": "stdout",
     "output_type": "stream",
     "text": [
      "demasiadas peticiones\n"
     ]
    },
    {
     "name": "stderr",
     "output_type": "stream",
     "text": [
      " 89%|████████▉ | 95/107 [23:10<04:18, 21.55s/it]"
     ]
    },
    {
     "name": "stdout",
     "output_type": "stream",
     "text": [
      "demasiadas peticiones\n"
     ]
    },
    {
     "name": "stderr",
     "output_type": "stream",
     "text": [
      "100%|██████████| 107/107 [26:24<00:00, 14.81s/it]\n"
     ]
    },
    {
     "name": "stdout",
     "output_type": "stream",
     "text": [
      "Buscando en el subreddit No5G con la consulta '5g health risks'\n",
      "Buscando en el subreddit No5G con la consulta 'radiation cover‑up'\n",
      "Buscando en el subreddit No5G con la consulta 'cell tower danger'\n",
      "Buscando en el subreddit No5G con la consulta 'electromagnetic fraud'\n",
      "Buscando en el subreddit No5G con la consulta 'hidden toxicity'\n",
      "Buscando en el subreddit No5G con la consulta 'critical thinking'\n",
      "Buscando en el subreddit No5G con la consulta 'question everything'\n",
      "Buscando en el subreddit No5G con la consulta 'pseudoscience'\n",
      "Buscando en el subreddit No5G con la consulta 'debunk'\n",
      "Buscando en el subreddit No5G con la consulta 'denial'\n",
      "Buscando en el subreddit No5G con la consulta 'conspiracy'\n"
     ]
    },
    {
     "name": "stderr",
     "output_type": "stream",
     "text": [
      "0it [00:00, ?it/s]\n"
     ]
    },
    {
     "name": "stdout",
     "output_type": "stream",
     "text": [
      "Buscando en el subreddit chemtrails con la consulta 'chemical spraying'\n",
      "Buscando en el subreddit chemtrails con la consulta 'aerosol cover‑up'\n",
      "Buscando en el subreddit chemtrails con la consulta 'geoengineering proof'\n",
      "Buscando en el subreddit chemtrails con la consulta 'toxics in sky'\n",
      "Buscando en el subreddit chemtrails con la consulta 'secret air program'\n",
      "Buscando en el subreddit chemtrails con la consulta 'critical thinking'\n",
      "Buscando en el subreddit chemtrails con la consulta 'question everything'\n",
      "Buscando en el subreddit chemtrails con la consulta 'pseudoscience'\n",
      "Buscando en el subreddit chemtrails con la consulta 'debunk'\n",
      "Buscando en el subreddit chemtrails con la consulta 'denial'\n",
      "Buscando en el subreddit chemtrails con la consulta 'conspiracy'\n"
     ]
    },
    {
     "name": "stderr",
     "output_type": "stream",
     "text": [
      "100%|██████████| 66/66 [01:52<00:00,  1.70s/it]\n"
     ]
    },
    {
     "name": "stdout",
     "output_type": "stream",
     "text": [
      "Buscando en el subreddit antiVaxx con la consulta 'big pharma lies'\n",
      "Buscando en el subreddit antiVaxx con la consulta 'vaccine injury cover‑up'\n",
      "Buscando en el subreddit antiVaxx con la consulta 'unreported side effects'\n",
      "Buscando en el subreddit antiVaxx con la consulta 'injection fraud'\n",
      "Buscando en el subreddit antiVaxx con la consulta 'medical experimentation'\n",
      "Buscando en el subreddit antiVaxx con la consulta 'critical thinking'\n",
      "Buscando en el subreddit antiVaxx con la consulta 'question everything'\n",
      "Buscando en el subreddit antiVaxx con la consulta 'pseudoscience'\n",
      "Buscando en el subreddit antiVaxx con la consulta 'debunk'\n",
      "Buscando en el subreddit antiVaxx con la consulta 'denial'\n",
      "Buscando en el subreddit antiVaxx con la consulta 'conspiracy'\n"
     ]
    },
    {
     "name": "stderr",
     "output_type": "stream",
     "text": [
      "100%|██████████| 34/34 [00:26<00:00,  1.28it/s]\n"
     ]
    },
    {
     "name": "stdout",
     "output_type": "stream",
     "text": [
      "Buscando en el subreddit pesticideconspiracy con la consulta 'pesticide runoff cover‑up'\n",
      "Buscando en el subreddit pesticideconspiracy con la consulta 'agrochemical conspiracy'\n",
      "Buscando en el subreddit pesticideconspiracy con la consulta 'glyphosate danger'\n",
      "Buscando en el subreddit pesticideconspiracy con la consulta 'farmers whistleblower'\n",
      "Buscando en el subreddit pesticideconspiracy con la consulta 'toxic crop spraying'\n",
      "Buscando en el subreddit pesticideconspiracy con la consulta 'critical thinking'\n",
      "Buscando en el subreddit pesticideconspiracy con la consulta 'question everything'\n",
      "Buscando en el subreddit pesticideconspiracy con la consulta 'pseudoscience'\n",
      "Buscando en el subreddit pesticideconspiracy con la consulta 'debunk'\n",
      "Buscando en el subreddit pesticideconspiracy con la consulta 'denial'\n",
      "Buscando en el subreddit pesticideconspiracy con la consulta 'conspiracy'\n"
     ]
    },
    {
     "name": "stderr",
     "output_type": "stream",
     "text": [
      "0it [00:00, ?it/s]\n"
     ]
    },
    {
     "name": "stdout",
     "output_type": "stream",
     "text": [
      "Buscando en el subreddit CovidConspiracy con la consulta 'plandemic proof'\n",
      "Buscando en el subreddit CovidConspiracy con la consulta 'virus lab leak cover‑up'\n",
      "Buscando en el subreddit CovidConspiracy con la consulta 'mask mandate fraud'\n",
      "Buscando en el subreddit CovidConspiracy con la consulta 'PCR gate'\n",
      "Buscando en el subreddit CovidConspiracy con la consulta 'vaccine passport tyranny'\n",
      "Buscando en el subreddit CovidConspiracy con la consulta 'critical thinking'\n",
      "Buscando en el subreddit CovidConspiracy con la consulta 'question everything'\n",
      "Buscando en el subreddit CovidConspiracy con la consulta 'pseudoscience'\n",
      "Buscando en el subreddit CovidConspiracy con la consulta 'debunk'\n",
      "Buscando en el subreddit CovidConspiracy con la consulta 'denial'\n",
      "Buscando en el subreddit CovidConspiracy con la consulta 'conspiracy'\n"
     ]
    },
    {
     "name": "stderr",
     "output_type": "stream",
     "text": [
      "0it [00:00, ?it/s]\n"
     ]
    },
    {
     "name": "stdout",
     "output_type": "stream",
     "text": [
      "Buscando en el subreddit climatechangeisalie con la consulta 'co2 myth'\n",
      "Buscando en el subreddit climatechangeisalie con la consulta 'green agenda'\n",
      "Buscando en el subreddit climatechangeisalie con la consulta 'warming scam'\n",
      "Buscando en el subreddit climatechangeisalie con la consulta 'carbon tax cover‑up'\n",
      "Buscando en el subreddit climatechangeisalie con la consulta 'environment fraud'\n",
      "Buscando en el subreddit climatechangeisalie con la consulta 'critical thinking'\n",
      "Buscando en el subreddit climatechangeisalie con la consulta 'question everything'\n",
      "Buscando en el subreddit climatechangeisalie con la consulta 'pseudoscience'\n",
      "Buscando en el subreddit climatechangeisalie con la consulta 'debunk'\n",
      "Buscando en el subreddit climatechangeisalie con la consulta 'denial'\n",
      "Buscando en el subreddit climatechangeisalie con la consulta 'conspiracy'\n"
     ]
    },
    {
     "name": "stderr",
     "output_type": "stream",
     "text": [
      "0it [00:00, ?it/s]\n"
     ]
    },
    {
     "name": "stdout",
     "output_type": "stream",
     "text": [
      "Buscando en el subreddit newworldorder con la consulta 'one world government'\n",
      "Buscando en el subreddit newworldorder con la consulta 'global elite plan'\n",
      "Buscando en el subreddit newworldorder con la consulta 'shadow government proof'\n",
      "Buscando en el subreddit newworldorder con la consulta 'population control agenda'\n",
      "Buscando en el subreddit newworldorder con la consulta 'nwo conspiracy'\n",
      "Buscando en el subreddit newworldorder con la consulta 'critical thinking'\n",
      "Buscando en el subreddit newworldorder con la consulta 'question everything'\n",
      "Buscando en el subreddit newworldorder con la consulta 'pseudoscience'\n",
      "Buscando en el subreddit newworldorder con la consulta 'debunk'\n",
      "Buscando en el subreddit newworldorder con la consulta 'denial'\n",
      "Buscando en el subreddit newworldorder con la consulta 'conspiracy'\n"
     ]
    },
    {
     "name": "stderr",
     "output_type": "stream",
     "text": [
      "100%|██████████| 40/40 [00:25<00:00,  1.57it/s]\n"
     ]
    },
    {
     "name": "stdout",
     "output_type": "stream",
     "text": [
      "Buscando en el subreddit SimulationTheory con la consulta 'we live in a simulation'\n",
      "Buscando en el subreddit SimulationTheory con la consulta 'matrix is real'\n",
      "Buscando en el subreddit SimulationTheory con la consulta 'simulated reality proof'\n",
      "Buscando en el subreddit SimulationTheory con la consulta 'glitch in the matrix'\n",
      "Buscando en el subreddit SimulationTheory con la consulta 'reality is fake'\n",
      "Buscando en el subreddit SimulationTheory con la consulta 'computer-generated universe'\n",
      "Buscando en el subreddit SimulationTheory con la consulta 'consciousness and simulation'\n",
      "Buscando en el subreddit SimulationTheory con la consulta 'base reality hypothesis'\n",
      "Buscando en el subreddit SimulationTheory con la consulta 'elon musk simulation'\n",
      "Buscando en el subreddit SimulationTheory con la consulta 'philosophical zombies'\n",
      "Buscando en el subreddit SimulationTheory con la consulta 'critical thinking'\n",
      "Buscando en el subreddit SimulationTheory con la consulta 'question everything'\n",
      "Buscando en el subreddit SimulationTheory con la consulta 'pseudoscience'\n",
      "Buscando en el subreddit SimulationTheory con la consulta 'debunk'\n",
      "Buscando en el subreddit SimulationTheory con la consulta 'denial'\n",
      "Buscando en el subreddit SimulationTheory con la consulta 'conspiracy'\n"
     ]
    },
    {
     "name": "stderr",
     "output_type": "stream",
     "text": [
      " 82%|████████▏ | 105/128 [03:43<00:17,  1.31it/s]"
     ]
    },
    {
     "name": "stdout",
     "output_type": "stream",
     "text": [
      "demasiadas peticiones\n"
     ]
    },
    {
     "name": "stderr",
     "output_type": "stream",
     "text": [
      "100%|██████████| 128/128 [05:05<00:00,  2.38s/it]\n"
     ]
    },
    {
     "name": "stdout",
     "output_type": "stream",
     "text": [
      "Buscando en el subreddit Plandemic con la consulta 'covid was planned'\n",
      "Buscando en el subreddit Plandemic con la consulta 'virus patent evidence'\n",
      "Buscando en el subreddit Plandemic con la consulta 'event 201 proof'\n",
      "Buscando en el subreddit Plandemic con la consulta 'pandemic simulation cover-up'\n",
      "Buscando en el subreddit Plandemic con la consulta 'vaccine agenda'\n",
      "Buscando en el subreddit Plandemic con la consulta 'plandemic documentary'\n",
      "Buscando en el subreddit Plandemic con la consulta 'mass control operation'\n",
      "Buscando en el subreddit Plandemic con la consulta 'false positive PCR'\n",
      "Buscando en el subreddit Plandemic con la consulta 'big pharma profits'\n",
      "Buscando en el subreddit Plandemic con la consulta 'government fear propaganda'\n",
      "Buscando en el subreddit Plandemic con la consulta 'critical thinking'\n",
      "Buscando en el subreddit Plandemic con la consulta 'question everything'\n",
      "Buscando en el subreddit Plandemic con la consulta 'pseudoscience'\n",
      "Buscando en el subreddit Plandemic con la consulta 'debunk'\n",
      "Buscando en el subreddit Plandemic con la consulta 'denial'\n",
      "Buscando en el subreddit Plandemic con la consulta 'conspiracy'\n"
     ]
    },
    {
     "name": "stderr",
     "output_type": "stream",
     "text": [
      "0it [00:00, ?it/s]\n"
     ]
    },
    {
     "name": "stdout",
     "output_type": "stream",
     "text": [
      "Buscando en el subreddit DebateHolocaust con la consulta 'holocaust exaggeration claims'\n",
      "Buscando en el subreddit DebateHolocaust con la consulta 'gas chamber doubts'\n",
      "Buscando en el subreddit DebateHolocaust con la consulta 'revisionist history'\n",
      "Buscando en el subreddit DebateHolocaust con la consulta 'ww2 narrative question'\n",
      "Buscando en el subreddit DebateHolocaust con la consulta 'auschwitz controversy'\n",
      "Buscando en el subreddit DebateHolocaust con la consulta 'truth about holocaust'\n",
      "Buscando en el subreddit DebateHolocaust con la consulta 'holocaust denial arguments'\n",
      "Buscando en el subreddit DebateHolocaust con la consulta 'zionist agenda claims'\n",
      "Buscando en el subreddit DebateHolocaust con la consulta 'nuremberg trials critique'\n",
      "Buscando en el subreddit DebateHolocaust con la consulta 'forbidden historical facts'\n",
      "Buscando en el subreddit DebateHolocaust con la consulta 'critical thinking'\n",
      "Buscando en el subreddit DebateHolocaust con la consulta 'question everything'\n",
      "Buscando en el subreddit DebateHolocaust con la consulta 'pseudoscience'\n",
      "Buscando en el subreddit DebateHolocaust con la consulta 'debunk'\n",
      "Buscando en el subreddit DebateHolocaust con la consulta 'denial'\n",
      "Buscando en el subreddit DebateHolocaust con la consulta 'conspiracy'\n"
     ]
    },
    {
     "name": "stderr",
     "output_type": "stream",
     "text": [
      "100%|██████████| 10/10 [00:05<00:00,  1.79it/s]\n"
     ]
    },
    {
     "name": "stdout",
     "output_type": "stream",
     "text": [
      "Buscando en el subreddit Epstein con la consulta 'epstein didn’t kill himself'\n",
      "Buscando en el subreddit Epstein con la consulta 'epstein client list'\n",
      "Buscando en el subreddit Epstein con la consulta 'ghislaine maxwell secrets'\n",
      "Buscando en el subreddit Epstein con la consulta 'elite pedophile ring'\n",
      "Buscando en el subreddit Epstein con la consulta 'epstein island evidence'\n",
      "Buscando en el subreddit Epstein con la consulta 'blackmail operation'\n",
      "Buscando en el subreddit Epstein con la consulta 'intelligence agency ties'\n",
      "Buscando en el subreddit Epstein con la consulta 'jeffrey epstein cover‑up'\n",
      "Buscando en el subreddit Epstein con la consulta 'flight logs secrets'\n",
      "Buscando en el subreddit Epstein con la consulta 'missing surveillance tapes'\n",
      "Buscando en el subreddit Epstein con la consulta 'critical thinking'\n",
      "Buscando en el subreddit Epstein con la consulta 'question everything'\n",
      "Buscando en el subreddit Epstein con la consulta 'pseudoscience'\n",
      "Buscando en el subreddit Epstein con la consulta 'debunk'\n",
      "Buscando en el subreddit Epstein con la consulta 'denial'\n",
      "Buscando en el subreddit Epstein con la consulta 'conspiracy'\n"
     ]
    },
    {
     "name": "stderr",
     "output_type": "stream",
     "text": [
      "100%|██████████| 134/134 [08:05<00:00,  3.62s/it] \n"
     ]
    }
   ],
   "execution_count": 15
  },
  {
   "metadata": {},
   "cell_type": "markdown",
   "source": [
    "dañino:\n",
    "\n",
    "tiera plana\n",
    "antivacunas\n",
    "moonlanding\n",
    "\n",
    "no dañino\n"
   ],
   "id": "c8e6c88f97758118"
  }
 ],
 "metadata": {
  "kernelspec": {
   "display_name": "Python 3",
   "language": "python",
   "name": "python3"
  },
  "language_info": {
   "codemirror_mode": {
    "name": "ipython",
    "version": 2
   },
   "file_extension": ".py",
   "mimetype": "text/x-python",
   "name": "python",
   "nbconvert_exporter": "python",
   "pygments_lexer": "ipython2",
   "version": "2.7.6"
  }
 },
 "nbformat": 4,
 "nbformat_minor": 5
}
