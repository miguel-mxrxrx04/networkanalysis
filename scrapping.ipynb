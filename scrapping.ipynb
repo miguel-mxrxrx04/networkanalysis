{
 "cells": [
  {
   "metadata": {},
   "cell_type": "markdown",
   "source": [
    "## Scrapping\n",
    "\n",
    "En primer lugar comenzamos definiendo el objeto reddit, y realizamos una serie de pruebas para empezar a scrappear la informacion de reddit."
   ],
   "id": "f354a2e9bd639587"
  },
  {
   "metadata": {
    "ExecuteTime": {
     "end_time": "2025-04-22T21:30:29.977960Z",
     "start_time": "2025-04-22T21:30:29.974531Z"
    }
   },
   "cell_type": "code",
   "source": "from time import sleep",
   "id": "ed5d8fc5c38b84f0",
   "outputs": [],
   "execution_count": 13
  },
  {
   "metadata": {
    "ExecuteTime": {
     "end_time": "2025-04-22T21:30:30.005312Z",
     "start_time": "2025-04-22T21:30:29.998001Z"
    }
   },
   "cell_type": "code",
   "source": [
    "import praw\n",
    "\n",
    "# Configura tu conexión con Reddit\n",
    "reddit = praw.Reddit(\n",
    "    client_id=\"XEVqTpGA9HE6MNujQAWt1w\",\n",
    "    client_secret=\"bv4J3usOH-V__I4tGD__bLoWnGA_Sg\",\n",
    "    user_agent=\"Testing_api\",\n",
    "    read_only=True\n",
    ")\n",
    "\n"
   ],
   "id": "a5c1a426543c4fc",
   "outputs": [],
   "execution_count": 14
  },
  {
   "metadata": {},
   "cell_type": "markdown",
   "source": "Vamos a comenzar a buscar en el subreddit de la tierra plana, y ver que resultados obtenemos.\n",
   "id": "f0b96dc5daf1e53"
  },
  {
   "metadata": {
    "ExecuteTime": {
     "end_time": "2025-04-22T21:30:32.184811Z",
     "start_time": "2025-04-22T21:30:30.026113Z"
    }
   },
   "cell_type": "code",
   "source": [
    "# Define el subreddit y la búsqueda\n",
    "subreddit_name = \"flatearth\"\n",
    "\n",
    "queries_list = [\n",
    "    \"flat earth\",\n",
    "]\n",
    "\n",
    "resultados_totales = set()\n",
    "\n",
    "subredit = reddit.subreddit(subreddit_name)\n",
    "\n",
    "# Realiza la búsqueda en el subreddit\n",
    "for query in queries_list:\n",
    "    print(f\"Buscando en el subreddit {subreddit_name} con la consulta '{query}'\")\n",
    "    resultados = subredit.search(query, limit=100)\n",
    "    \n",
    "    # Itera sobre los resultados\n",
    "    for submission in resultados:\n",
    "        # Verifica si el título ya está en los resultados totales\n",
    "        if submission.title not in resultados_totales:\n",
    "            resultados_totales.add(submission)"
   ],
   "id": "73d930c415c0a7f4",
   "outputs": [
    {
     "name": "stdout",
     "output_type": "stream",
     "text": [
      "Buscando en el subreddit flatearth con la consulta 'flat earth'\n"
     ]
    }
   ],
   "execution_count": 15
  },
  {
   "metadata": {},
   "cell_type": "markdown",
   "source": "Ahora vamos a comprobar que resultados hemos obtenido, y ver si podemos extraer la informacion de los posts.",
   "id": "640545d5ec1e2e84"
  },
  {
   "metadata": {
    "ExecuteTime": {
     "end_time": "2025-04-22T21:30:33.763506Z",
     "start_time": "2025-04-22T21:30:33.760508Z"
    }
   },
   "cell_type": "code",
   "source": [
    "#Tomamos el primer post de los resultados\n",
    "\n",
    "post = list(resultados_totales)[0]"
   ],
   "id": "afddfae6f8d7555f",
   "outputs": [],
   "execution_count": 16
  },
  {
   "metadata": {
    "ExecuteTime": {
     "end_time": "2025-04-22T21:30:35.030415Z",
     "start_time": "2025-04-22T21:30:35.025056Z"
    }
   },
   "cell_type": "code",
   "source": [
    "# Extraer el título y el contenido del post asi como el nombre del autor\n",
    "\n",
    "print(f\"Title: {post.title}\")\n",
    "print(f\"Author: {post.author}\")\n",
    "print(f\"Content: {post.selftext}\")\n",
    "print(f\"URL: {post.url}\")\n",
    "print(f\"Upvotes: {post.ups}\")\n",
    "print(f\"Downvotes: {post.downs}\")\n",
    "print(f\"Comments: {post.num_comments}\")\n",
    "print(f\"Created: {post.created}\")\n",
    "print(f\"Subreddit: {post.subreddit}\")\n",
    "print(f\"Post ID: {post.id}\")\n",
    "print(f\"Post URL: {post.url}\")\n",
    "print(f\"Post Score: {post.score}\")\n",
    "\n",
    "print('\\n\\n')\n",
    "\n",
    "#Navegar el arbol de comentarios\n",
    "comentarios = post.comments\n",
    "\n",
    "comentario = comentarios[0]\n",
    "print(f\"Comentario: {comentario.body}\")\n",
    "print(f\"Autor: {comentario.author}\")\n",
    "print(f\"Upvotes: {comentario.ups}\")\n",
    "print(f\"Downvotes: {comentario.downs}\")\n",
    "print(f\"Created: {comentario.created}\")\n",
    "print(f\"Comentario ID: {comentario.id}\")\n",
    "print(f\"Comentario URL: {comentario.permalink}\")\n",
    "print(f\"Comentario Score: {comentario.score}\")"
   ],
   "id": "29cc027d9e565b4b",
   "outputs": [
    {
     "name": "stdout",
     "output_type": "stream",
     "text": [
      "Title: The Earth isn't flat.\n",
      "Author: XYSunshine\n",
      "Content: \n",
      "URL: https://i.redd.it/ius8hoezfm0d1.jpeg\n",
      "Upvotes: 200\n",
      "Downvotes: 0\n",
      "Comments: 198\n",
      "Created: 1715792490.0\n",
      "Subreddit: flatearth\n",
      "Post ID: 1cspu8e\n",
      "Post URL: https://i.redd.it/ius8hoezfm0d1.jpeg\n",
      "Post Score: 200\n",
      "\n",
      "\n",
      "\n",
      "Comentario: No stars? Must be fake\n",
      "Autor: MightBeBren\n",
      "Upvotes: 53\n",
      "Downvotes: 0\n",
      "Created: 1715793607.0\n",
      "Comentario ID: l46nbfa\n",
      "Comentario URL: /r/flatearth/comments/1cspu8e/the_earth_isnt_flat/l46nbfa/\n",
      "Comentario Score: 53\n"
     ]
    }
   ],
   "execution_count": 17
  },
  {
   "metadata": {},
   "cell_type": "markdown",
   "source": [
    "Vemos que estamos extrayendo la información de los posts, y de todos los comentarios, asi como comentarios de comentarios, puesto que estamos extrayendo una lista aplanada que contiene todos los comentarios que tendrían forma de árbol.\n",
    "\n",
    "## Limitaciones y problemas.\n",
    "\n",
    "- Nos encontramos con una limitacion, cada vez que hacemos una querie, dentro de un subreddit solamente podemos obtener un máximo de 100 posts, que es lo que nos devuelve la API de reddit. Por lo que si queremos obtener más posts, tenemos que hacer varias queries, y unir los resultados.\n",
    "- La API de reddit tiene un límite de peticiones por segundo, por lo que si hacemos muchas peticiones en poco tiempo, nos puede bloquear la cuenta. Por lo que tenemos que tener cuidado con esto.\n",
    "- Podríamos obtener resultados duplicados, por lo que tenemos que comprobar si el post ya existe en los resultados totales.\n",
    "- debemos intentar encontrar resultados de la gente lo más convencida posible para evitar el ruido que se pueda generar por memes y posts\n",
    "\n",
    "Una posible solución a esto, es hacer una lista de palabras clave, y hacer una búsqueda por cada palabra clave, y unir los resultados. De esta forma, podemos obtener más resultados, y evitar el ruido que se pueda generar por memes y posts."
   ],
   "id": "f5d7c8ac2a1e72b"
  },
  {
   "metadata": {
    "ExecuteTime": {
     "end_time": "2025-04-22T21:30:35.111829Z",
     "start_time": "2025-04-22T21:30:35.108305Z"
    }
   },
   "cell_type": "code",
   "source": [
    "import networkx as nx\n",
    "import matplotlib.pyplot as plt\n",
    "from tqdm import tqdm"
   ],
   "id": "d746fd503d0724b0",
   "outputs": [],
   "execution_count": 18
  },
  {
   "metadata": {},
   "cell_type": "markdown",
   "source": [
    "## Funciones de scrapping\n",
    "\n",
    "Vamos a definir una serie de funciones que nos permitan scrappear la información de reddit, y guardarla en un grafo. Para ello, vamos a utilizar la libreria networkx."
   ],
   "id": "73cf8f48d45f7661"
  },
  {
   "metadata": {
    "ExecuteTime": {
     "end_time": "2025-04-22T21:30:35.138592Z",
     "start_time": "2025-04-22T21:30:35.134068Z"
    }
   },
   "cell_type": "code",
   "source": [
    "def get_results(subreddit, query_list, n_post = 10):\n",
    "    resultados_totales = set()\n",
    "    \n",
    "    subredit = reddit.subreddit(subreddit)\n",
    "    \n",
    "    for query in query_list:\n",
    "        print(f\"Buscando en el subreddit {subreddit} con la consulta '{query}'\")\n",
    "        \n",
    "        try:\n",
    "        \n",
    "            resultados = subredit.search(query, limit=n_post)\n",
    "            \n",
    "            for submission in resultados:\n",
    "                # Verifica si el título ya está en los resultados totales\n",
    "                if submission.title not in resultados_totales:\n",
    "                    resultados_totales.add(submission)\n",
    "                    \n",
    "        except Exception:\n",
    "            continue\n",
    "                \n",
    "    return resultados_totales\n"
   ],
   "id": "1f772f9eddfaef55",
   "outputs": [],
   "execution_count": 19
  },
  {
   "metadata": {},
   "cell_type": "markdown",
   "source": "Esta funcion permite encontrar posts dado un sub subreddit y una lista de 'palabras clave'",
   "id": "7e5acb06963d8c7f"
  },
  {
   "metadata": {
    "ExecuteTime": {
     "end_time": "2025-04-22T21:30:35.157872Z",
     "start_time": "2025-04-22T21:30:35.152358Z"
    }
   },
   "cell_type": "code",
   "source": [
    "def scrapear_subreddit(subreddit, query_list, n_post = 10, max_comments = None):\n",
    "    \n",
    "    # Obtener los resultados\n",
    "    resultados_totales = get_results(subreddit, query_list, n_post)\n",
    "\n",
    "    # Agregar nodo raíz al grafo\n",
    "    grafo.add_node(subreddit)\n",
    "    \n",
    "    # Agregar los nodos y aristas al grafo\n",
    "    for post in tqdm(list(resultados_totales)):\n",
    "        if post.author:\n",
    "            grafo.add_node(post.author.name,subreddit=subreddit)\n",
    "            grafo.add_edge(subreddit, post.author.name)\n",
    "            \n",
    "        while True:\n",
    "            try:\n",
    "                post.comments.replace_more(limit=None)\n",
    "                break\n",
    "            except Exception:\n",
    "                print('demasiadas peticiones')\n",
    "                sleep(10)\n",
    "            \n",
    "        comentarios = sorted(post.comments.list(), key=lambda x: x.score, reverse=True)\n",
    "        \n",
    "        for comentario in comentarios:\n",
    "            if comentario.author:\n",
    "                #comprueba que el nodo ya existe\n",
    "                if grafo.has_node(comentario.author.name):\n",
    "                    if not grafo.has_edge(post.author.name, comentario.author.name):\n",
    "                        grafo.add_edge(post.author.name, comentario.author.name)\n",
    "                        \n",
    "        if max_comments is not None:\n",
    "            comentarios = comentarios[:max_comments]\n",
    "        \n",
    "        for comentario in comentarios:\n",
    "            if comentario.author:\n",
    "                grafo.add_node(comentario.author.name, subreddit=subreddit)\n",
    "                #comprobar que no exista ya la arista\n",
    "                if not grafo.has_edge(post.author.name, comentario.author.name):\n",
    "                    grafo.add_edge(post.author.name, comentario.author.name)"
   ],
   "id": "658cb8662b21b9f8",
   "outputs": [],
   "execution_count": 20
  },
  {
   "metadata": {},
   "cell_type": "markdown",
   "source": "Esta funcion permite scrapear un subreddit, y guardar la información en un grafo.",
   "id": "af3513269a90217d"
  },
  {
   "metadata": {
    "ExecuteTime": {
     "end_time": "2025-04-22T21:31:31.220475Z",
     "start_time": "2025-04-22T21:30:57.706894Z"
    }
   },
   "cell_type": "code",
   "source": [
    "# Probamos entonces nuestra funcion de scrapping.\n",
    "grafo = nx.Graph()\n",
    "\n",
    "scrapear_subreddit('flatearth', ['flatearth'], n_post = 10)\n",
    "scrapear_subreddit('antivaccine', ['antivaccine'], n_post = 10)\n"
   ],
   "id": "6e46ff9a27f0c714",
   "outputs": [
    {
     "name": "stdout",
     "output_type": "stream",
     "text": [
      "Buscando en el subreddit flatearth con la consulta 'flatearth'\n"
     ]
    },
    {
     "name": "stderr",
     "output_type": "stream",
     "text": [
      "100%|██████████| 10/10 [00:30<00:00,  3.00s/it]\n"
     ]
    },
    {
     "name": "stdout",
     "output_type": "stream",
     "text": [
      "Buscando en el subreddit antivaccine con la consulta 'antivaccine'\n"
     ]
    },
    {
     "name": "stderr",
     "output_type": "stream",
     "text": [
      "100%|██████████| 10/10 [00:02<00:00,  3.59it/s]\n"
     ]
    }
   ],
   "execution_count": 22
  },
  {
   "metadata": {
    "ExecuteTime": {
     "end_time": "2025-04-22T21:34:10.548856Z",
     "start_time": "2025-04-22T21:34:10.418222Z"
    }
   },
   "cell_type": "code",
   "source": [
    "# Vamos a ver algunas de las características del grafo\n",
    "\n",
    "print(f\"Numero de nodos: {grafo.number_of_nodes()}\")\n",
    "print(f\"Numero de aristas: {grafo.number_of_edges()}\")\n",
    "print(f\"Numero de componentes: {nx.number_connected_components(grafo)}\")\n",
    "print(f\"Promedio de grado: {sum(dict(grafo.degree()).values())/grafo.number_of_nodes()}\")\n",
    "print(f\"Promedio de clustering: {nx.average_clustering(grafo)}\")\n",
    "\n",
    "# Y un histograma de la distribucion de grados\n",
    "\n",
    "plt.hist([grafo.degree(nodo) for nodo in grafo.nodes()])\n",
    "plt.xlabel('Grado')\n",
    "plt.ylabel('Frecuencia')\n",
    "plt.title('Distribucion de grados')\n",
    "plt.show()\n"
   ],
   "id": "c79e88651698bbab",
   "outputs": [
    {
     "name": "stdout",
     "output_type": "stream",
     "text": [
      "Numero de nodos: 1553\n",
      "Numero de aristas: 1654\n",
      "Numero de componentes: 2\n",
      "Promedio de grado: 2.130070830650354\n",
      "Promedio de clustering: 0.0020872147617880593\n"
     ]
    },
    {
     "data": {
      "text/plain": [
       "<Figure size 640x480 with 1 Axes>"
      ],
      "image/png": "[encoded data removed]"
     },
     "metadata": {},
     "output_type": "display_data"
    }
   ],
   "execution_count": 29
  },
  {
   "metadata": {
    "ExecuteTime": {
     "end_time": "2025-04-22T21:35:34.899609Z",
     "start_time": "2025-04-22T21:35:26.136780Z"
    }
   },
   "cell_type": "code",
   "source": [
    "# Vamos a ver el grafo\n",
    "\n",
    "nx.draw(grafo)\n",
    "plt.title('Grafo de reddit')\n",
    "plt.show()"
   ],
   "id": "a9b115c39bb748d3",
   "outputs": [
    {
     "data": {
      "text/plain": [
       "<Figure size 640x480 with 1 Axes>"
      ],
      "image/png": "[encoded data removed]"
     },
     "metadata": {},
     "output_type": "display_data"
    }
   ],
   "execution_count": 32
  },
  {
   "metadata": {
    "ExecuteTime": {
     "end_time": "2025-04-22T21:30:56.071586500Z",
     "start_time": "2025-04-21T10:29:41.319495Z"
    }
   },
   "cell_type": "code",
   "outputs": [],
   "execution_count": 135,
   "source": [
    "#exporta el grafo a un archivo GML\n",
    "\n",
    "nx.write_gml(grafo, \"grafo.gml\")"
   ],
   "id": "6e1f14fae099e157"
  },
  {
   "metadata": {},
   "cell_type": "markdown",
   "source": [
    "## Preparando las queries para el grafo definitivo.\n",
    "\n"
   ],
   "id": "310a3ed8c58470de"
  },
  {
   "metadata": {
    "ExecuteTime": {
     "end_time": "2025-04-22T21:30:56.072592600Z",
     "start_time": "2025-04-21T18:30:48.483259Z"
    }
   },
   "cell_type": "code",
   "source": [
    "lista_comunes = [\"critical thinking\", \"question everything\", \"pseudoscience\",  \"debunk\", \"denial\", \"conspiracy\"]\n",
    "\n",
    "subreddit_keywords = {\n",
    "    'FlatEarth': [\n",
    "        'flat earth theory',\n",
    "        'ice wall discovery',\n",
    "        'antarctic cover‑up',\n",
    "        'horizon anomaly',\n",
    "        'ground is level',\n",
    "        *lista_comunes\n",
    "    ],\n",
    "    'moonlandinghoax': [\n",
    "        'fake lunar mission',\n",
    "        'studio filmed moon',\n",
    "        'camera glitch proof',\n",
    "        'lunar module lies',\n",
    "        'NASA backlot conspiracy',\n",
    "        *lista_comunes\n",
    "    ],\n",
    "    'aliens': [\n",
    "        'ufo disclosure',\n",
    "        'area 51 secrets',\n",
    "        'extraterrestrial visit',\n",
    "        'crop circle proof',\n",
    "        'alien cover‑up',\n",
    "        *lista_comunes\n",
    "    ],\n",
    "    'No5G': [\n",
    "        '5g health risks',\n",
    "        'radiation cover‑up',\n",
    "        'cell tower danger',\n",
    "        'electromagnetic fraud',\n",
    "        'hidden toxicity',\n",
    "        *lista_comunes\n",
    "    ],\n",
    "    'chemtrails': [\n",
    "        'chemical spraying',\n",
    "        'aerosol cover‑up',\n",
    "        'geoengineering proof',\n",
    "        'toxics in sky',\n",
    "        'secret air program',\n",
    "        *lista_comunes\n",
    "    ],\n",
    "    'antiVaxx': [\n",
    "        'big pharma lies',\n",
    "        'vaccine injury cover‑up',\n",
    "        'unreported side effects',\n",
    "        'injection fraud',\n",
    "        'medical experimentation',\n",
    "        *lista_comunes\n",
    "    ],\n",
    "    'pesticideconspiracy': [\n",
    "        'pesticide runoff cover‑up',\n",
    "        'agrochemical conspiracy',\n",
    "        'glyphosate danger',\n",
    "        'farmers whistleblower',\n",
    "        'toxic crop spraying',\n",
    "        *lista_comunes\n",
    "    ],\n",
    "    'CovidConspiracy': [\n",
    "        'plandemic proof',\n",
    "        'virus lab leak cover‑up',\n",
    "        'mask mandate fraud',\n",
    "        'PCR gate',\n",
    "        'vaccine passport tyranny',\n",
    "        *lista_comunes\n",
    "    ],\n",
    "    'climatechangeisalie': [\n",
    "        'co2 myth',\n",
    "        'green agenda',\n",
    "        'warming scam',\n",
    "        'carbon tax cover‑up',\n",
    "        'environment fraud',\n",
    "        *lista_comunes\n",
    "    ],\n",
    "    'newworldorder': [\n",
    "        'one world government',\n",
    "        'global elite plan',\n",
    "        'shadow government proof',\n",
    "        'population control agenda',\n",
    "        'nwo conspiracy',\n",
    "        *lista_comunes\n",
    "    ],\n",
    "    \n",
    "    'SimulationTheory': [\n",
    "        'we live in a simulation',\n",
    "        'matrix is real',\n",
    "        'simulated reality proof',\n",
    "        'glitch in the matrix',\n",
    "        'reality is fake',\n",
    "        'computer-generated universe',\n",
    "        'consciousness and simulation',\n",
    "        'base reality hypothesis',\n",
    "        'elon musk simulation',\n",
    "        'philosophical zombies',\n",
    "        *lista_comunes\n",
    "    ],\n",
    "    'Plandemic': [\n",
    "        'covid was planned',\n",
    "        'virus patent evidence',\n",
    "        'event 201 proof',\n",
    "        'pandemic simulation cover-up',\n",
    "        'vaccine agenda',\n",
    "        'plandemic documentary',\n",
    "        'mass control operation',\n",
    "        'false positive PCR',\n",
    "        'big pharma profits',\n",
    "        'government fear propaganda',\n",
    "        *lista_comunes\n",
    "    ],\n",
    "    'DebateHolocaust': [\n",
    "        'holocaust exaggeration claims',\n",
    "        'gas chamber doubts',\n",
    "        'revisionist history',\n",
    "        'ww2 narrative question',\n",
    "        'auschwitz controversy',\n",
    "        'truth about holocaust',\n",
    "        'holocaust denial arguments',\n",
    "        'zionist agenda claims',\n",
    "        'nuremberg trials critique',\n",
    "        'forbidden historical facts',\n",
    "        *lista_comunes\n",
    "    ],\n",
    "    'Epstein': [\n",
    "        'epstein didn’t kill himself',\n",
    "        'epstein client list',\n",
    "        'ghislaine maxwell secrets',\n",
    "        'elite pedophile ring',\n",
    "        'epstein island evidence',\n",
    "        'blackmail operation',\n",
    "        'intelligence agency ties',\n",
    "        'jeffrey epstein cover‑up',\n",
    "        'flight logs secrets',\n",
    "        'missing surveillance tapes',\n",
    "        *lista_comunes\n",
    "    ]\n",
    "}"
   ],
   "id": "5112334223a1f451",
   "outputs": [],
   "execution_count": 14
  },
  {
   "metadata": {},
   "cell_type": "markdown",
   "source": "Lanzamos el scrapeo de todos los subreddits, y guardamos la información en un grafo. Para ello, vamos a utilizar la libreria networkx.",
   "id": "64a96ac43b46ca2d"
  },
  {
   "metadata": {},
   "cell_type": "code",
   "source": [
    "#crea un grafo vacio\n",
    "grafo = nx.Graph()\n",
    "\n",
    "for subreddit, queries in subreddit_keywords.items():\n",
    "    scrapear_subreddit(subreddit, queries, n_post = 10)\n",
    "\n",
    "# Exporta el grafo a un archivo GML\n",
    "nx.write_gml(grafo, \"grafo.gml\")"
   ],
   "id": "f66f0904a201ec9b",
   "outputs": [],
   "execution_count": null
  },
  {
   "metadata": {},
   "cell_type": "markdown",
   "source": [
    "## Analizando el grafo\n",
    "\n",
    "Vamos a analizar el grafo, y ver que podemos obtener de el."
   ],
   "id": "39d707ab54715c9"
  },
  {
   "metadata": {
    "ExecuteTime": {
     "end_time": "2025-04-22T21:37:50.256001Z",
     "start_time": "2025-04-22T21:37:47.378411Z"
    }
   },
   "cell_type": "code",
   "source": [
    "# Cargar el grafo desde el archivo GML\n",
    "grafo = nx.read_gml(\"grafo.gml\")"
   ],
   "id": "9fdef9a54a6cedd1",
   "outputs": [],
   "execution_count": 33
  },
  {
   "metadata": {
    "ExecuteTime": {
     "end_time": "2025-04-22T21:38:05.571639Z",
     "start_time": "2025-04-22T21:38:04.385608Z"
    }
   },
   "cell_type": "code",
   "source": [
    "# Vamos a ver algunas de las características del grafo\n",
    "\n",
    "print(f\"Numero de nodos: {grafo.number_of_nodes()}\")\n",
    "print(f\"Numero de aristas: {grafo.number_of_edges()}\")\n",
    "print(f\"Numero de componentes: {nx.number_connected_components(grafo)}\")\n",
    "print(f\"Promedio de grado: {sum(dict(grafo.degree()).values())/grafo.number_of_nodes()}\")\n",
    "print(f\"Promedio de clustering: {nx.average_clustering(grafo)}\")"
   ],
   "id": "3b8ff69c4fe16cbc",
   "outputs": [
    {
     "name": "stdout",
     "output_type": "stream",
     "text": [
      "Numero de nodos: 31116\n",
      "Numero de aristas: 40704\n",
      "Numero de componentes: 7\n",
      "Promedio de grado: 2.616274585422291\n",
      "Promedio de clustering: 0.012377215584854924\n"
     ]
    }
   ],
   "execution_count": 34
  }
 ],
 "metadata": {
  "kernelspec": {
   "display_name": "Python 3",
   "language": "python",
   "name": "python3"
  },
  "language_info": {
   "codemirror_mode": {
    "name": "ipython",
    "version": 2
   },
   "file_extension": ".py",
   "mimetype": "text/x-python",
   "name": "python",
   "nbconvert_exporter": "python",
   "pygments_lexer": "ipython2",
   "version": "2.7.6"
  }
 },
 "nbformat": 4,
 "nbformat_minor": 5
}
