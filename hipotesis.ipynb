{
 "cells": [
  {
   "cell_type": "markdown",
   "metadata": {},
   "source": [
    "Apartado de análisis de la red de conspiraciones en Reddit. \n",
    "\n",
    "Miguel Morera y Héctor Sancho."
   ]
  },
  {
   "cell_type": "markdown",
   "metadata": {},
   "source": [
    "### Hipótesis \n",
    "\n",
    "\"Que un usuario crea (interactuando activamente con una comunidad) en una conspiración aparentemente dañina puede llevar a que adopte otras creencias que pongan en peligro su propia vida.\"\n",
    "\n",
    "### Metodología\n",
    "\n",
    "Identificar usuarios de Reddit que interactúan con distintas conspiraciones populares y analizar si existen conexiones entre aquellas que parecen inofensivas y las que representan un riesgo real."
   ]
  },
  {
   "cell_type": "code",
   "execution_count": null,
   "metadata": {},
   "outputs": [],
   "source": [
    "import networkx as nx\n",
    "\n",
    "G = nx.read_gml('definitivo.gml')"
   ]
  },
  {
   "cell_type": "markdown",
   "metadata": {},
   "source": [
    "#### 1. Betweenness Centrality\n",
    "\n",
    "- ¿Qué mide?: cuántas veces un nodo se encuentra en el camino más corto entre pares de nodos.\n",
    "- ¿Para qué sirve?: detectar a los usuarios que conectan comunidades distintas (p.ej el puente entre terraplanistas y chemtrail)"
   ]
  },
  {
   "cell_type": "markdown",
   "metadata": {},
   "source": [
    "#### 2. Degree centrality (hubs)\n",
    "\n",
    "- ¿Qué mide?: proproción de conexiones directas que tiene un nodo frente al máximo posible.\n",
    "- ¿Para qué sirve?: nodos más populares o con más enlaces, usuarios muy activos.\n",
    "- Complementa betweeness centrality, ya que hay usuarios que pueden no ser \"puente\" pero sí superactivos."
   ]
  },
  {
   "cell_type": "markdown",
   "metadata": {},
   "source": [
    "#### 3. Closeness Centrality (buscar influencers)\n",
    "- Mide lo cerca que está un nodo de todos los demás, según la longitud de ruta.\n",
    "- Encuentra usuarios que, en promedio, están a pocos \"pasos\" de todos, teniendo acceso más rápido a la info en la red."
   ]
  },
  {
   "cell_type": "markdown",
   "metadata": {},
   "source": [
    "#### 4. PageRank (Autoridad)\n",
    "- Versión ponderada de degree centrality: estar conectado con un usuario más \"importante\" te hace más importante. \n",
    "- Encontrar nodos que pasan desapercibidos pero que se unen con nodos \"clave\".\n",
    "- Por el modo de construir el grafo esto representa usuarios que interactúan con los influencers."
   ]
  },
  {
   "cell_type": "markdown",
   "metadata": {},
   "source": [
    "#### 5. Los subreddit que más interacción generan: \n",
    "\n",
    "- Buscamos agrupar los reddit por la acumulación de los grados más altos de sus nodos.\n",
    "- Así, podremos identificar "
   ]
  }
 ],
 "metadata": {
  "kernelspec": {
   "display_name": "cspenv",
   "language": "python",
   "name": "python3"
  },
  "language_info": {
   "codemirror_mode": {
    "name": "ipython",
    "version": 3
   },
   "file_extension": ".py",
   "mimetype": "text/x-python",
   "name": "python",
   "nbconvert_exporter": "python",
   "pygments_lexer": "ipython3",
   "version": "3.12.10"
  }
 },
 "nbformat": 4,
 "nbformat_minor": 2
}
